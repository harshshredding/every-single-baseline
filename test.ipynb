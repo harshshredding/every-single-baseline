{
 "cells": [
  {
   "cell_type": "code",
   "execution_count": 1,
   "id": "dad3fc8d",
   "metadata": {},
   "outputs": [
    {
     "name": "stderr",
     "output_type": "stream",
     "text": [
      "/Users/harshverma/opt/anaconda3/envs/research/lib/python3.10/site-packages/tqdm/auto.py:22: TqdmWarning: IProgress not found. Please update jupyter and ipywidgets. See https://ipywidgets.readthedocs.io/en/stable/user_install.html\n",
      "  from .autonotebook import tqdm as notebook_tqdm\n"
     ]
    },
    {
     "name": "stdout",
     "output_type": "stream",
     "text": [
      "using device cpu\n",
      "DROPBOX: connection verified\n"
     ]
    },
    {
     "name": "stderr",
     "output_type": "stream",
     "text": [
      "Downloading: 100%|███████████████████████████████████████████████████████████████████████████████████████████████████████████████████████████████████| 616/616 [00:00<00:00, 157kB/s]\n",
      "Downloading: 100%|██████████████████████████████████████████████████████████████████████████████████████████████████████████████████████████████| 4.83M/4.83M [00:01<00:00, 3.32MB/s]\n",
      "Downloading: 100%|██████████████████████████████████████████████████████████████████████████████████████████████████████████████████████████████| 8.68M/8.68M [00:02<00:00, 3.43MB/s]\n"
     ]
    }
   ],
   "source": [
    "from utils.easy_testing import get_bert_tokenizer, get_train_samples_by_dataset_name, get_test_samples_by_dataset_name, get_valid_samples_by_dataset_name\n",
    "tokenizer = get_bert_tokenizer('xlm-roberta-large')\n",
    "\n"
   ]
  },
  {
   "cell_type": "code",
   "execution_count": 1,
   "id": "ddb11ecd",
   "metadata": {},
   "outputs": [
    {
     "name": "stderr",
     "output_type": "stream",
     "text": [
      "/Users/harshverma/opt/anaconda3/envs/research/lib/python3.10/site-packages/tqdm/auto.py:22: TqdmWarning: IProgress not found. Please update jupyter and ipywidgets. See https://ipywidgets.readthedocs.io/en/stable/user_install.html\n",
      "  from .autonotebook import tqdm as notebook_tqdm\n"
     ]
    },
    {
     "name": "stdout",
     "output_type": "stream",
     "text": [
      "using device cpu\n"
     ]
    }
   ],
   "source": [
    "from models.span_batched_no_custom_tok import SpanDefaultTransformerBiggerPosition"
   ]
  },
  {
   "cell_type": "code",
   "execution_count": 6,
   "id": "a7a9f3c9",
   "metadata": {},
   "outputs": [
    {
     "name": "stdout",
     "output_type": "stream",
     "text": [
      "[(0, 0), (0, 1), (0, 2), (0, 3), (1, 1), (1, 2), (1, 3), (2, 2), (2, 3), (3, 3), (-1, 1)]\n",
      "[(0, 0), (1, 1), (2, 2), (3, 3), (0, 1), (1, 2), (2, 3), (-1, 1), (0, 2), (1, 3), (0, 3)]\n"
     ]
    }
   ],
   "source": [
    "from util import enumerate_spans\n",
    "spans_list = enumerate_spans([1, 2, 3, 4])\n",
    "spans_list.append((-1,1))\n",
    "print(spans_list)\n",
    "sorted_spans_list = sorted(spans_list, key=lambda span: (span[1] - span[0], span[0]))\n",
    "print(sorted_spans_list)"
   ]
  },
  {
   "cell_type": "code",
   "execution_count": 1,
   "id": "df23658c",
   "metadata": {},
   "outputs": [
    {
     "name": "stderr",
     "output_type": "stream",
     "text": [
      "/Users/harshverma/opt/anaconda3/envs/research/lib/python3.10/site-packages/tqdm/auto.py:22: TqdmWarning: IProgress not found. Please update jupyter and ipywidgets. See https://ipywidgets.readthedocs.io/en/stable/user_install.html\n",
      "  from .autonotebook import tqdm as notebook_tqdm\n"
     ]
    },
    {
     "name": "stdout",
     "output_type": "stream",
     "text": [
      "using device cpu\n",
      "using device cpu\n",
      "DROPBOX: connection verified\n"
     ]
    }
   ],
   "source": [
    "from all_models import PositionalEncodingBatch\n",
    "import torch\n",
    "\n",
    "pos_encode = PositionalEncodingBatch(16)\n",
    "pos_encoded = pos_encode(torch.zeros(2,10,16))"
   ]
  },
  {
   "cell_type": "code",
   "execution_count": 7,
   "id": "81a05a65",
   "metadata": {},
   "outputs": [],
   "source": [
    "from all_models import PositionalEncoding\n",
    "pos_encode = PositionalEncoding(16)"
   ]
  },
  {
   "cell_type": "code",
   "execution_count": 14,
   "id": "7eb1c713",
   "metadata": {},
   "outputs": [
    {
     "name": "stdout",
     "output_type": "stream",
     "text": [
      "torch.Size([16, 16])\n"
     ]
    },
    {
     "data": {
      "text/plain": [
       "tensor([[ 0.0000e+00,  1.1111e+00,  0.0000e+00,  1.1111e+00,  0.0000e+00,\n",
       "          1.1111e+00,  0.0000e+00,  0.0000e+00,  0.0000e+00,  1.1111e+00,\n",
       "          0.0000e+00,  1.1111e+00,  0.0000e+00,  1.1111e+00,  0.0000e+00,\n",
       "          1.1111e+00],\n",
       "        [ 0.0000e+00,  6.0034e-01,  3.4554e-01,  1.0560e+00,  1.1093e-01,\n",
       "          1.1056e+00,  3.5131e-02,  1.1106e+00,  1.1111e-02,  1.1111e+00,\n",
       "          3.5136e-03,  1.1111e+00,  1.1111e-03,  1.1111e+00,  3.5136e-04,\n",
       "          1.1111e+00],\n",
       "        [ 1.0103e+00, -4.6239e-01,  6.5681e-01,  8.9620e-01,  2.2074e-01,\n",
       "          1.0890e+00,  7.0226e-02,  1.1089e+00,  2.2221e-02,  1.1109e+00,\n",
       "          7.0272e-03,  1.1111e+00,  2.2222e-03,  1.1111e+00,  7.0273e-04,\n",
       "          1.1111e+00],\n",
       "        [ 1.5680e-01, -1.1000e+00,  0.0000e+00,  6.4750e-01,  3.2836e-01,\n",
       "          1.0615e+00,  1.0525e-01,  1.1061e+00,  3.3328e-02,  1.1106e+00,\n",
       "          0.0000e+00,  1.1111e+00,  3.3333e-03,  1.1111e+00,  1.0541e-03,\n",
       "          1.1111e+00],\n",
       "        [-8.4089e-01, -7.2627e-01,  1.0595e+00,  3.3460e-01,  4.3269e-01,\n",
       "          1.0234e+00,  1.4017e-01,  1.1022e+00,  4.4433e-02,  1.1102e+00,\n",
       "          0.0000e+00,  1.1110e+00,  4.4444e-03,  1.1111e+00,  1.4055e-03,\n",
       "          1.1111e+00],\n",
       "        [-1.0655e+00,  3.1518e-01,  1.1111e+00, -1.1491e-02,  0.0000e+00,\n",
       "          9.7509e-01,  1.7495e-01,  1.0973e+00,  0.0000e+00,  1.1097e+00,\n",
       "          1.7567e-02,  1.1110e+00,  5.5555e-03,  0.0000e+00,  1.7568e-03,\n",
       "          1.1111e+00],\n",
       "        [-3.1046e-01,  1.0669e+00,  1.0524e+00, -3.5644e-01,  6.2738e-01,\n",
       "          9.1704e-01,  2.0956e-01,  0.0000e+00,  6.6627e-02,  0.0000e+00,\n",
       "          0.0000e+00,  0.0000e+00,  0.0000e+00,  1.1111e+00,  2.1082e-03,\n",
       "          1.1111e+00],\n",
       "        [ 7.2999e-01,  8.3767e-01,  8.8936e-01, -6.6604e-01,  7.1580e-01,\n",
       "          8.4982e-01,  2.4395e-01,  1.0840e+00,  7.7714e-02,  1.1084e+00,\n",
       "          0.0000e+00,  1.1108e+00,  7.7777e-03,  1.1111e+00,  2.4595e-03,\n",
       "          1.1111e+00],\n",
       "        [ 1.0993e+00, -1.6167e-01,  6.3813e-01, -9.0959e-01,  7.9706e-01,\n",
       "          7.7412e-01,  2.7810e-01,  1.0757e+00,  8.8794e-02,  1.1076e+00,\n",
       "          2.8106e-02,  1.1108e+00,  8.8888e-03,  0.0000e+00,  2.8109e-03,\n",
       "          1.1111e+00],\n",
       "        [ 4.5791e-01, -1.0124e+00,  3.2362e-01, -1.0629e+00,  8.7036e-01,\n",
       "          6.9068e-01,  3.1198e-01,  1.0664e+00,  9.9865e-02,  1.1066e+00,\n",
       "          3.1618e-02,  1.1107e+00,  9.9999e-03,  1.1111e+00,  3.1623e-03,\n",
       "          1.1111e+00],\n",
       "        [-6.0447e-01, -9.3230e-01, -2.2982e-02, -0.0000e+00,  9.3497e-01,\n",
       "          6.0034e-01,  3.4554e-01,  1.0560e+00,  0.0000e+00,  0.0000e+00,\n",
       "          3.5131e-02,  1.1106e+00,  1.1111e-02,  1.1111e+00,  0.0000e+00,\n",
       "          1.1111e+00],\n",
       "        [-0.0000e+00,  4.9174e-03, -0.0000e+00, -1.0486e+00,  9.9023e-01,\n",
       "          5.0400e-01,  3.7875e-01,  1.0446e+00,  1.2198e-01,  1.1044e+00,\n",
       "          3.8642e-02,  1.1104e+00,  1.2222e-02,  1.1110e+00,  3.8650e-03,\n",
       "          1.1111e+00],\n",
       "        [-0.0000e+00,  9.3762e-01, -6.7520e-01, -8.8242e-01,  1.0356e+00,\n",
       "          0.0000e+00,  4.1159e-01,  1.0321e+00,  1.3301e-01,  1.1031e+00,\n",
       "          4.2154e-02,  1.1103e+00,  1.3333e-02,  1.1110e+00,  4.2164e-03,\n",
       "          1.1111e+00],\n",
       "        [ 4.6685e-01,  1.0083e+00, -9.1614e-01, -6.2869e-01,  1.0706e+00,\n",
       "          2.9722e-01,  4.4402e-01,  1.0185e+00,  0.0000e+00,  0.0000e+00,\n",
       "          4.5664e-02,  1.1102e+00,  1.4444e-02,  1.1110e+00,  4.5677e-03,\n",
       "          0.0000e+00],\n",
       "        [ 1.1007e+00,  1.5193e-01, -1.0662e+00, -3.1261e-01,  1.0949e+00,\n",
       "          1.8885e-01,  4.7600e-01,  1.0040e+00,  0.0000e+00,  0.0000e+00,\n",
       "          4.9175e-02,  1.1100e+00,  1.5555e-02,  1.1110e+00,  4.9191e-03,\n",
       "          1.1111e+00],\n",
       "        [ 7.2254e-01, -8.4410e-01, -0.0000e+00,  3.4469e-02,  1.1083e+00,\n",
       "          7.8597e-02,  5.0750e-01,  9.8844e-01,  1.6604e-01,  1.0986e+00,\n",
       "          5.2685e-02,  1.1099e+00,  1.6666e-02,  1.1110e+00,  5.2704e-03,\n",
       "          1.1111e+00]])"
      ]
     },
     "execution_count": 14,
     "metadata": {},
     "output_type": "execute_result"
    }
   ],
   "source": [
    "import torch\n",
    "\n",
    "pos_encoded = pos_encode(torch.zeros(16,16))\n",
    "print(pos_encoded.shape)\n",
    "pos_encoded"
   ]
  },
  {
   "cell_type": "code",
   "execution_count": 21,
   "id": "c68b2a81",
   "metadata": {},
   "outputs": [
    {
     "name": "stdout",
     "output_type": "stream",
     "text": [
      "tensor([0.6396, 0.0280, 0.6665, 0.3400, 0.5156, 0.3600, 0.6531, 0.9325, 0.0228,\n",
      "        0.5778, 0.1867, 0.8245, 0.3388, 0.4184, 0.5409, 0.6100])\n",
      "tensor([[ 0.6396,  1.1391,  0.6665,  1.4511,  0.5156,  1.4711,  0.6531,  0.9325,\n",
      "          0.0228,  1.6889,  0.1867,  1.9357,  0.3388,  1.5295,  0.5409,  1.7211],\n",
      "        [ 0.6396,  0.6284,  1.0120,  1.3960,  0.6265,  1.4656,  0.6882,  2.0430,\n",
      "          0.0339,  1.6888,  0.1902,  1.9357,  0.3400,  1.5295,  0.5413,  1.7211],\n",
      "        [ 1.6500, -0.4344,  1.3233,  1.2362,  0.7363,  1.4490,  0.7233,  2.0413,\n",
      "          0.0450,  1.6886,  0.1937,  1.9356,  0.3411,  1.5295,  0.5416,  1.7211],\n",
      "        [ 0.7964, -1.0720,  0.6665,  0.9875,  0.8440,  1.4215,  0.7584,  2.0386,\n",
      "          0.0561,  1.6884,  0.1867,  1.9356,  0.3422,  1.5295,  0.5420,  1.7211],\n",
      "        [-0.2012, -0.6983,  1.7260,  0.6746,  0.9483,  1.3834,  0.7933,  2.0347,\n",
      "          0.0673,  1.6880,  0.1867,  1.9356,  0.3433,  1.5295,  0.5423,  1.7211],\n",
      "        [-0.4258,  0.3432,  1.7776,  0.3285,  0.5156,  1.3351,  0.8281,  2.0297,\n",
      "          0.0228,  1.6875,  0.2043,  1.9355,  0.3444,  0.4184,  0.5427,  1.7211],\n",
      "        [ 0.3292,  1.0949,  1.7189, -0.0165,  1.1430,  1.2771,  0.8627,  0.9325,\n",
      "          0.0894,  0.5778,  0.1867,  0.8245,  0.3388,  1.5295,  0.5430,  1.7211],\n",
      "        [ 1.3696,  0.8657,  1.5559, -0.3261,  1.2314,  1.2098,  0.8971,  2.0165,\n",
      "          0.1005,  1.6861,  0.1867,  1.9354,  0.3466,  1.5295,  0.5434,  1.7211],\n",
      "        [ 1.7389, -0.1336,  1.3046, -0.5696,  1.3127,  1.1341,  0.9312,  2.0082,\n",
      "          0.1116,  1.6853,  0.2148,  1.9353,  0.3477,  0.4184,  0.5437,  1.7211],\n",
      "        [ 1.0976, -0.9843,  0.9901, -0.7230,  1.3860,  1.0507,  0.9651,  1.9989,\n",
      "          0.1227,  1.6844,  0.2183,  1.9352,  0.3488,  1.5295,  0.5441,  1.7211],\n",
      "        [ 0.0352, -0.9043,  0.6435,  0.3400,  1.4506,  0.9603,  0.9986,  1.9885,\n",
      "          0.0228,  0.5778,  0.2218,  1.9351,  0.3500,  1.5295,  0.5409,  1.7211],\n",
      "        [ 0.6396,  0.0329,  0.6665, -0.7087,  1.5058,  0.8640,  1.0319,  1.9770,\n",
      "          0.1448,  1.6821,  0.2254,  1.9350,  0.3511,  1.5294,  0.5448,  1.7211],\n",
      "        [ 0.6396,  0.9656, -0.0087, -0.5425,  1.5512,  0.3600,  1.0647,  1.9645,\n",
      "          0.1558,  1.6809,  0.2289,  1.9349,  0.3522,  1.5294,  0.5451,  1.7211],\n",
      "        [ 1.1065,  1.0363, -0.2496, -0.2887,  1.5862,  0.6572,  1.0971,  1.9510,\n",
      "          0.0228,  0.5778,  0.2324,  1.9347,  0.3533,  1.5294,  0.5455,  0.6100],\n",
      "        [ 1.7403,  0.1799, -0.3997,  0.0274,  1.6105,  0.5489,  1.1291,  1.9364,\n",
      "          0.0228,  0.5778,  0.2359,  1.9346,  0.3544,  1.5294,  0.5458,  1.7211],\n",
      "        [ 1.3622, -0.8161,  0.6665,  0.3744,  1.6239,  0.4386,  1.1606,  1.9209,\n",
      "          0.1889,  1.6764,  0.2394,  1.9344,  0.3555,  1.5294,  0.5462,  1.7211]])\n"
     ]
    },
    {
     "data": {
      "text/plain": [
       "2"
      ]
     },
     "execution_count": 21,
     "metadata": {},
     "output_type": "execute_result"
    }
   ],
   "source": [
    "x = torch.rand(16)\n",
    "print(x)\n",
    "print(pos_encoded + x)\n",
    "len(pos_encoded.shape)"
   ]
  },
  {
   "cell_type": "code",
   "execution_count": 17,
   "id": "79d9c3e8",
   "metadata": {},
   "outputs": [
    {
     "data": {
      "text/plain": [
       "1.25034"
      ]
     },
     "execution_count": 17,
     "metadata": {},
     "output_type": "execute_result"
    }
   ],
   "source": [
    "y = 6.0034e-01 + 0.65\n",
    "y"
   ]
  },
  {
   "cell_type": "code",
   "execution_count": 1,
   "id": "04e2a3a2",
   "metadata": {},
   "outputs": [
    {
     "name": "stdout",
     "output_type": "stream",
     "text": [
      "WARN: file ./performance_files/performance_test_epoch_2.csv does not have any results\n",
      "WARN: file ./performance_files/performance_test_epoch_0.csv does not have any results\n",
      "WARN: file ./performance_files/performance_test_epoch_1.csv does not have any results\n"
     ]
    }
   ],
   "source": [
    "from utils.report import get_experiment_results\n",
    "import glob\n",
    "import csv\n",
    "\n",
    "all_downloaded_performance_files = glob.glob('./performance_files/*.csv')\n",
    "with open('./performance_analysis.csv', 'w') as performance_analysis_file:\n",
    "    writer = csv.writer(performance_analysis_file, delimiter='\\t')\n",
    "    for performance_file in all_downloaded_performance_files: \n",
    "        experiment_results = get_experiment_results(performance_file)\n",
    "        for result in experiment_results:\n",
    "            writer.writerow([result.experiment.experiment_name,\n",
    "                             result.experiment.model_name,\n",
    "                             result.experiment.dataset_name,\n",
    "                             result.score])"
   ]
  },
  {
   "cell_type": "code",
   "execution_count": 1,
   "id": "6f982c1b",
   "metadata": {},
   "outputs": [
    {
     "name": "stdout",
     "output_type": "stream",
     "text": [
      "Number of total files listed:  2269\n"
     ]
    }
   ],
   "source": [
    "from utils.dropbox import get_all_performance_files\n",
    "all_performance_files = get_all_performance_files()"
   ]
  },
  {
   "cell_type": "code",
   "execution_count": 3,
   "id": "8a933cda",
   "metadata": {},
   "outputs": [
    {
     "data": {
      "text/plain": [
       "['performance_test_epoch_0.csv',\n",
       " 'performance_test_epoch_1.csv',\n",
       " 'performance_test_epoch_2.csv',\n",
       " 'performance_legaleval_judgement_spanner.csv',\n",
       " 'performance_multiconer_coarse_spanner.csv',\n",
       " 'performance_semeval_spanner.csv',\n",
       " 'performance_seq_label_semeval.csv',\n",
       " 'performance_test.csv',\n",
       " 'performance_crf_seq_label_semeval.csv',\n",
       " 'performance_span_noun_phrase_experiments.csv',\n",
       " 'performance_span_noun_phrase_15_epochs.csv',\n",
       " 'performance_span_large_experiment.csv',\n",
       " 'performance_submit_multiconer.csv',\n",
       " 'performance_span_width_embed_experiment.csv',\n",
       " 'performance_seq_large_experiment.csv',\n",
       " 'performance_submit_heuristic.csv',\n",
       " 'performance_submit_span_width_embed_large.csv',\n",
       " 'performance_large_legal_and_genia.csv',\n",
       " 'performance_batched_test.csv',\n",
       " 'performance_batched_biomedical_base.csv',\n",
       " 'performance_gpt_experiment_base.csv',\n",
       " 'performance_gpt_experiment_large.csv',\n",
       " 'performance_gpt_experiment_base_special_token.csv',\n",
       " 'performance_gpt_experiment_large_special_token.csv',\n",
       " 'performance_social_dis_ner_no_custom_tokenization.csv',\n",
       " 'performance_gpt_experiment_base_special_token_span.csv',\n",
       " 'performance_gpt_experiment_large_special_token_span.csv',\n",
       " 'performance_multiconer_experiment_after_submission.csv',\n",
       " 'performance_experiment_compare_span_and_seq_all_datasets.csv',\n",
       " 'performance_experiment_compare_span_and_seq_all_datasets_continue.csv',\n",
       " 'performance_experiment_compare_span_and_seq_all_datasets_continue_2.csv',\n",
       " 'performance_experiment_compare_span_and_seq_all_datasets_continue_3.csv',\n",
       " 'performance_experiment_rerun_failed_with_span_restriction.csv',\n",
       " 'performance_experiment_rerun_failed_base.csv',\n",
       " 'performance_experiment_rerun_failed_legaleval_preamble_window.csv',\n",
       " 'performance_experiment_rerun_failed_livingner_window.csv',\n",
       " 'performance_experiment_cdr_vanilla.csv',\n",
       " 'performance_experiment_cdr_window_stride.csv',\n",
       " 'performance_experiment_chemdner_window_stride_longer.csv',\n",
       " 'performance_experiment_multiconer_with_test_gold_labels_DatasetSplit.valid.csv',\n",
       " 'performance_experiment_multiconer_with_test_gold_labels_test.csv',\n",
       " 'performance_experiment_multiconer_with_test_gold_labels_valid.csv',\n",
       " 'performance_experiment_multiconer_with_test_gold_labels_old_test.csv',\n",
       " 'performance_experiment_multiconer_with_test_gold_labels_old_valid.csv',\n",
       " 'performance_experiment_multiconer_test_gold_labels_no_special_tokens_test.csv',\n",
       " 'performance_experiment_multiconer_test_gold_labels_no_special_tokens_valid.csv',\n",
       " 'performance_experiment_chatgpt_social_dis_ner_valid.csv',\n",
       " 'performance_experiment_chatgpt_social_dis_ner_test.csv',\n",
       " 'performance_experiment_social_dis_ner_default_valid.csv',\n",
       " 'performance_experiment_social_dis_ner_default_test.csv',\n",
       " 'performance_experiment_compare_span_old_and_new_valid.csv']"
      ]
     },
     "execution_count": 3,
     "metadata": {},
     "output_type": "execute_result"
    }
   ],
   "source": [
    "all_performance_files"
   ]
  },
  {
   "cell_type": "code",
   "execution_count": 2,
   "id": "a8a63050",
   "metadata": {},
   "outputs": [
    {
     "data": {
      "text/plain": [
       "['performance_test_epoch_0.csv',\n",
       " 'performance_test_epoch_1.csv',\n",
       " 'performance_test_epoch_2.csv',\n",
       " 'performance_legaleval_judgement_spanner.csv',\n",
       " 'performance_multiconer_coarse_spanner.csv',\n",
       " 'performance_semeval_spanner.csv',\n",
       " 'performance_seq_label_semeval.csv',\n",
       " 'performance_test.csv',\n",
       " 'performance_crf_seq_label_semeval.csv',\n",
       " 'performance_span_noun_phrase_experiments.csv',\n",
       " 'performance_span_noun_phrase_15_epochs.csv',\n",
       " 'performance_span_large_experiment.csv',\n",
       " 'performance_submit_multiconer.csv',\n",
       " 'performance_span_width_embed_experiment.csv',\n",
       " 'performance_seq_large_experiment.csv',\n",
       " 'performance_submit_heuristic.csv',\n",
       " 'performance_submit_span_width_embed_large.csv',\n",
       " 'performance_large_legal_and_genia.csv',\n",
       " 'performance_batched_test.csv',\n",
       " 'performance_batched_biomedical_base.csv',\n",
       " 'performance_gpt_experiment_base.csv',\n",
       " 'performance_gpt_experiment_large.csv',\n",
       " 'performance_gpt_experiment_base_special_token.csv',\n",
       " 'performance_gpt_experiment_large_special_token.csv',\n",
       " 'performance_social_dis_ner_no_custom_tokenization.csv',\n",
       " 'performance_gpt_experiment_base_special_token_span.csv',\n",
       " 'performance_gpt_experiment_large_special_token_span.csv',\n",
       " 'performance_multiconer_experiment_after_submission.csv',\n",
       " 'performance_experiment_compare_span_and_seq_all_datasets.csv',\n",
       " 'performance_experiment_compare_span_and_seq_all_datasets_continue.csv',\n",
       " 'performance_experiment_compare_span_and_seq_all_datasets_continue_2.csv',\n",
       " 'performance_experiment_compare_span_and_seq_all_datasets_continue_3.csv',\n",
       " 'performance_experiment_rerun_failed_with_span_restriction.csv',\n",
       " 'performance_experiment_rerun_failed_base.csv',\n",
       " 'performance_experiment_rerun_failed_legaleval_preamble_window.csv',\n",
       " 'performance_experiment_rerun_failed_livingner_window.csv',\n",
       " 'performance_experiment_cdr_vanilla.csv',\n",
       " 'performance_experiment_cdr_window_stride.csv',\n",
       " 'performance_experiment_chemdner_window_stride_longer.csv',\n",
       " 'performance_experiment_multiconer_with_test_gold_labels_DatasetSplit.valid.csv',\n",
       " 'performance_experiment_multiconer_with_test_gold_labels_test.csv',\n",
       " 'performance_experiment_multiconer_with_test_gold_labels_valid.csv',\n",
       " 'performance_experiment_multiconer_with_test_gold_labels_old_test.csv',\n",
       " 'performance_experiment_multiconer_with_test_gold_labels_old_valid.csv',\n",
       " 'performance_experiment_multiconer_test_gold_labels_no_special_tokens_test.csv',\n",
       " 'performance_experiment_multiconer_test_gold_labels_no_special_tokens_valid.csv',\n",
       " 'performance_experiment_chatgpt_social_dis_ner_valid.csv',\n",
       " 'performance_experiment_chatgpt_social_dis_ner_test.csv',\n",
       " 'performance_experiment_social_dis_ner_default_valid.csv',\n",
       " 'performance_experiment_social_dis_ner_default_test.csv',\n",
       " 'performance_experiment_compare_span_old_and_new_valid.csv']"
      ]
     },
     "execution_count": 2,
     "metadata": {},
     "output_type": "execute_result"
    }
   ],
   "source": [
    "[file_name for file_name in all_file_names if (\"performance\" in file_name)]"
   ]
  },
  {
   "cell_type": "code",
   "execution_count": 2,
   "id": "dd3a125e",
   "metadata": {},
   "outputs": [
    {
     "data": {
      "text/plain": [
       "['tex.tex',\n",
       " 'tex2.tex',\n",
       " 'zip_preprocessed.sh',\n",
       " 'test.txt',\n",
       " 'predictions_test_epoch_1.tsv',\n",
       " 'predictions_test_epoch_2.tsv',\n",
       " 'visualize_errors_test_epoch_3.bdocjs',\n",
       " 'predictions_test_epoch_3.tsv',\n",
       " 'mistakes_test_epoch_3.tsv',\n",
       " 'visualize_errors_genia_epoch_0.bdocjs',\n",
       " 'predictions_genia_epoch_0.tsv',\n",
       " 'mistakes_genia_epoch_0.tsv',\n",
       " 'visualize_errors_genia_epoch_1.bdocjs',\n",
       " 'predictions_genia_epoch_1.tsv',\n",
       " 'mistakes_genia_epoch_1.tsv',\n",
       " 'visualize_errors_genia_epoch_2.bdocjs',\n",
       " 'predictions_genia_epoch_2.tsv',\n",
       " 'mistakes_genia_epoch_2.tsv',\n",
       " 'visualize_errors_genia_epoch_3.bdocjs',\n",
       " 'predictions_genia_epoch_3.tsv',\n",
       " 'mistakes_genia_epoch_3.tsv',\n",
       " 'visualize_errors_genia_epoch_4.bdocjs',\n",
       " 'predictions_genia_epoch_4.tsv',\n",
       " 'mistakes_genia_epoch_4.tsv',\n",
       " 'visualize_errors_genia_epoch_5.bdocjs',\n",
       " 'predictions_genia_epoch_5.tsv',\n",
       " 'mistakes_genia_epoch_5.tsv',\n",
       " 'visualize_errors_genia_epoch_6.bdocjs',\n",
       " 'predictions_genia_epoch_6.tsv',\n",
       " 'mistakes_genia_epoch_6.tsv',\n",
       " 'visualize_errors_genia_epoch_7.bdocjs',\n",
       " 'predictions_genia_epoch_7.tsv',\n",
       " 'mistakes_genia_epoch_7.tsv',\n",
       " 'visualize_errors_genia_epoch_8.bdocjs',\n",
       " 'predictions_genia_epoch_8.tsv',\n",
       " 'mistakes_genia_epoch_8.tsv',\n",
       " 'visualize_errors_genia_epoch_9.bdocjs',\n",
       " 'predictions_genia_epoch_9.tsv',\n",
       " 'mistakes_genia_epoch_9.tsv',\n",
       " 'visualize_errors_genia_epoch_10.bdocjs',\n",
       " 'predictions_genia_epoch_10.tsv',\n",
       " 'mistakes_genia_epoch_10.tsv',\n",
       " 'visualize_errors_genia_epoch_11.bdocjs',\n",
       " 'predictions_genia_epoch_11.tsv',\n",
       " 'mistakes_genia_epoch_11.tsv',\n",
       " 'performance_test_epoch_0.csv',\n",
       " 'performance_test_epoch_1.csv',\n",
       " 'performance_test_epoch_2.csv',\n",
       " 'mistakes_test_epoch_2.tsv',\n",
       " 'mistakes_test_epoch_1.tsv',\n",
       " 'predictions_test_epoch_0.tsv',\n",
       " 'mistakes_test_epoch_0.tsv',\n",
       " 'visualize_errors_legaleval_judgement_spanner_epoch_0.bdocjs',\n",
       " 'visualize_errors_legaleval_judgement_spanner_epoch_1.bdocjs',\n",
       " 'visualize_errors_legaleval_judgement_spanner_epoch_2.bdocjs',\n",
       " 'visualize_errors_legaleval_judgement_spanner_epoch_3.bdocjs',\n",
       " 'visualize_errors_legaleval_judgement_spanner_epoch_4.bdocjs',\n",
       " 'visualize_errors_legaleval_judgement_spanner_epoch_5.bdocjs',\n",
       " 'visualize_errors_legaleval_judgement_spanner_epoch_6.bdocjs',\n",
       " 'visualize_errors_legaleval_judgement_spanner_epoch_7.bdocjs',\n",
       " 'visualize_errors_legaleval_judgement_spanner_epoch_8.bdocjs',\n",
       " 'visualize_errors_legaleval_judgement_spanner_epoch_9.bdocjs',\n",
       " 'visualize_errors_legaleval_judgement_spanner_epoch_10.bdocjs',\n",
       " 'visualize_errors_legaleval_judgement_spanner_epoch_11.bdocjs',\n",
       " 'visualize_errors_legaleval_judgement_spanner_epoch_12.bdocjs',\n",
       " 'visualize_errors_legaleval_judgement_spanner_epoch_13.bdocjs',\n",
       " 'visualize_errors_legaleval_judgement_spanner_epoch_14.bdocjs',\n",
       " 'performance_legaleval_judgement_spanner.csv',\n",
       " 'visualize_errors_test_epoch_2.bdocjs',\n",
       " 'visualize_errors_multiconer_coarse_spanner_epoch_0.bdocjs',\n",
       " 'visualize_errors_multiconer_coarse_spanner_epoch_1.bdocjs',\n",
       " 'visualize_errors_multiconer_coarse_spanner_epoch_2.bdocjs',\n",
       " 'visualize_errors_multiconer_coarse_spanner_epoch_3.bdocjs',\n",
       " 'visualize_errors_multiconer_coarse_spanner_epoch_4.bdocjs',\n",
       " 'visualize_errors_multiconer_coarse_spanner_epoch_5.bdocjs',\n",
       " 'visualize_errors_multiconer_coarse_spanner_epoch_6.bdocjs',\n",
       " 'visualize_errors_multiconer_coarse_spanner_epoch_7.bdocjs',\n",
       " 'visualize_errors_multiconer_coarse_spanner_epoch_8.bdocjs',\n",
       " 'visualize_errors_multiconer_coarse_spanner_epoch_9.bdocjs',\n",
       " 'visualize_errors_multiconer_coarse_spanner_epoch_10.bdocjs',\n",
       " 'visualize_errors_multiconer_coarse_spanner_epoch_11.bdocjs',\n",
       " 'visualize_errors_multiconer_coarse_spanner_epoch_12.bdocjs',\n",
       " 'visualize_errors_multiconer_coarse_spanner_epoch_13.bdocjs',\n",
       " 'visualize_errors_multiconer_coarse_spanner_epoch_14.bdocjs',\n",
       " 'performance_multiconer_coarse_spanner.csv',\n",
       " 'visualize_errors_test_epoch_0.bdocjs',\n",
       " 'visualize_errors_test_epoch_1.bdocjs',\n",
       " 'semeval_spanner_legaleval_judgement_epoch_0_visualize_errors.bdocjs',\n",
       " 'semeval_spanner_legaleval_judgement_epoch_1_visualize_errors.bdocjs',\n",
       " 'semeval_spanner_legaleval_judgement_epoch_2_visualize_errors.bdocjs',\n",
       " 'semeval_spanner_legaleval_judgement_epoch_3_visualize_errors.bdocjs',\n",
       " 'semeval_spanner_legaleval_judgement_epoch_4_visualize_errors.bdocjs',\n",
       " 'semeval_spanner_legaleval_judgement_epoch_5_visualize_errors.bdocjs',\n",
       " 'semeval_spanner_legaleval_judgement_epoch_6_visualize_errors.bdocjs',\n",
       " 'semeval_spanner_legaleval_judgement_epoch_7_visualize_errors.bdocjs',\n",
       " 'semeval_spanner_legaleval_judgement_epoch_8_visualize_errors.bdocjs',\n",
       " 'semeval_spanner_legaleval_judgement_epoch_9_visualize_errors.bdocjs',\n",
       " 'semeval_spanner_legaleval_preamble_epoch_0_visualize_errors.bdocjs',\n",
       " 'semeval_spanner_legaleval_preamble_epoch_1_visualize_errors.bdocjs',\n",
       " 'semeval_spanner_legaleval_preamble_epoch_2_visualize_errors.bdocjs',\n",
       " 'semeval_spanner_legaleval_preamble_epoch_3_visualize_errors.bdocjs',\n",
       " 'semeval_spanner_legaleval_preamble_epoch_4_visualize_errors.bdocjs',\n",
       " 'semeval_spanner_legaleval_preamble_epoch_5_visualize_errors.bdocjs',\n",
       " 'semeval_spanner_legaleval_preamble_epoch_6_visualize_errors.bdocjs',\n",
       " 'semeval_spanner_legaleval_preamble_epoch_7_visualize_errors.bdocjs',\n",
       " 'semeval_spanner_legaleval_preamble_epoch_8_visualize_errors.bdocjs',\n",
       " 'semeval_spanner_legaleval_preamble_epoch_9_visualize_errors.bdocjs',\n",
       " 'semeval_spanner_legaleval_preamble_epoch_10_visualize_errors.bdocjs',\n",
       " 'semeval_spanner_legaleval_preamble_epoch_11_visualize_errors.bdocjs',\n",
       " 'semeval_spanner_legaleval_preamble_epoch_12_visualize_errors.bdocjs',\n",
       " 'semeval_spanner_legaleval_preamble_epoch_13_visualize_errors.bdocjs',\n",
       " 'semeval_spanner_legaleval_preamble_epoch_14_visualize_errors.bdocjs',\n",
       " 'semeval_spanner_multiconer_coarse_epoch_0_visualize_errors.bdocjs',\n",
       " 'semeval_spanner_multiconer_coarse_epoch_1_visualize_errors.bdocjs',\n",
       " 'semeval_spanner_multiconer_coarse_epoch_2_visualize_errors.bdocjs',\n",
       " 'semeval_spanner_multiconer_coarse_epoch_3_visualize_errors.bdocjs',\n",
       " 'semeval_spanner_multiconer_coarse_epoch_4_visualize_errors.bdocjs',\n",
       " 'semeval_spanner_multiconer_coarse_epoch_5_visualize_errors.bdocjs',\n",
       " 'semeval_spanner_multiconer_coarse_epoch_6_visualize_errors.bdocjs',\n",
       " 'semeval_spanner_multiconer_coarse_epoch_7_visualize_errors.bdocjs',\n",
       " 'semeval_spanner_multiconer_coarse_epoch_8_visualize_errors.bdocjs',\n",
       " 'semeval_spanner_multiconer_coarse_epoch_9_visualize_errors.bdocjs',\n",
       " 'semeval_spanner_multiconer_fine_epoch_0_visualize_errors.bdocjs',\n",
       " 'semeval_spanner_multiconer_fine_epoch_1_visualize_errors.bdocjs',\n",
       " 'semeval_spanner_multiconer_fine_epoch_2_visualize_errors.bdocjs',\n",
       " 'semeval_spanner_multiconer_fine_epoch_3_visualize_errors.bdocjs',\n",
       " 'semeval_spanner_multiconer_fine_epoch_4_visualize_errors.bdocjs',\n",
       " 'semeval_spanner_multiconer_fine_epoch_5_visualize_errors.bdocjs',\n",
       " 'semeval_spanner_multiconer_fine_epoch_6_visualize_errors.bdocjs',\n",
       " 'semeval_spanner_multiconer_fine_epoch_7_visualize_errors.bdocjs',\n",
       " 'semeval_spanner_multiconer_fine_epoch_8_visualize_errors.bdocjs',\n",
       " 'semeval_spanner_multiconer_fine_epoch_9_visualize_errors.bdocjs',\n",
       " 'seq_label_semeval_legaleval_judgement_epoch_0_visualize_errors.bdocjs',\n",
       " 'seq_label_semeval_legaleval_judgement_epoch_1_visualize_errors.bdocjs',\n",
       " 'seq_label_semeval_legaleval_judgement_epoch_2_visualize_errors.bdocjs',\n",
       " 'seq_label_semeval_legaleval_judgement_epoch_3_visualize_errors.bdocjs',\n",
       " 'seq_label_semeval_legaleval_judgement_epoch_4_visualize_errors.bdocjs',\n",
       " 'seq_label_semeval_legaleval_judgement_epoch_5_visualize_errors.bdocjs',\n",
       " 'seq_label_semeval_legaleval_judgement_epoch_6_visualize_errors.bdocjs',\n",
       " 'seq_label_semeval_legaleval_judgement_epoch_7_visualize_errors.bdocjs',\n",
       " 'seq_label_semeval_legaleval_judgement_epoch_8_visualize_errors.bdocjs',\n",
       " 'seq_label_semeval_legaleval_judgement_epoch_9_visualize_errors.bdocjs',\n",
       " 'seq_label_semeval_legaleval_preamble_epoch_0_visualize_errors.bdocjs',\n",
       " 'seq_label_semeval_legaleval_preamble_epoch_1_visualize_errors.bdocjs',\n",
       " 'seq_label_semeval_legaleval_preamble_epoch_2_visualize_errors.bdocjs',\n",
       " 'seq_label_semeval_legaleval_preamble_epoch_3_visualize_errors.bdocjs',\n",
       " 'seq_label_semeval_legaleval_preamble_epoch_4_visualize_errors.bdocjs',\n",
       " 'seq_label_semeval_legaleval_preamble_epoch_5_visualize_errors.bdocjs',\n",
       " 'seq_label_semeval_legaleval_preamble_epoch_6_visualize_errors.bdocjs',\n",
       " 'seq_label_semeval_legaleval_preamble_epoch_7_visualize_errors.bdocjs',\n",
       " 'seq_label_semeval_legaleval_preamble_epoch_8_visualize_errors.bdocjs',\n",
       " 'seq_label_semeval_legaleval_preamble_epoch_9_visualize_errors.bdocjs',\n",
       " 'seq_label_semeval_legaleval_preamble_epoch_10_visualize_errors.bdocjs',\n",
       " 'seq_label_semeval_legaleval_preamble_epoch_11_visualize_errors.bdocjs',\n",
       " 'seq_label_semeval_legaleval_preamble_epoch_12_visualize_errors.bdocjs',\n",
       " 'seq_label_semeval_legaleval_preamble_epoch_13_visualize_errors.bdocjs',\n",
       " 'seq_label_semeval_legaleval_preamble_epoch_14_visualize_errors.bdocjs',\n",
       " 'performance_semeval_spanner.csv',\n",
       " 'seq_label_semeval_multiconer_coarse_epoch_0_visualize_errors.bdocjs',\n",
       " 'seq_label_semeval_multiconer_coarse_epoch_1_visualize_errors.bdocjs',\n",
       " 'seq_label_semeval_multiconer_coarse_epoch_2_visualize_errors.bdocjs',\n",
       " 'seq_label_semeval_multiconer_coarse_epoch_3_visualize_errors.bdocjs',\n",
       " 'seq_label_semeval_multiconer_coarse_epoch_4_visualize_errors.bdocjs',\n",
       " 'seq_label_semeval_multiconer_coarse_epoch_5_visualize_errors.bdocjs',\n",
       " 'seq_label_semeval_multiconer_coarse_epoch_6_visualize_errors.bdocjs',\n",
       " 'seq_label_semeval_multiconer_coarse_epoch_7_visualize_errors.bdocjs',\n",
       " 'seq_label_semeval_multiconer_coarse_epoch_8_visualize_errors.bdocjs',\n",
       " 'seq_label_semeval_multiconer_coarse_epoch_9_visualize_errors.bdocjs',\n",
       " 'seq_label_semeval_multiconer_fine_epoch_0_visualize_errors.bdocjs',\n",
       " 'seq_label_semeval_multiconer_fine_epoch_1_visualize_errors.bdocjs',\n",
       " 'seq_label_semeval_multiconer_fine_epoch_2_visualize_errors.bdocjs',\n",
       " 'seq_label_semeval_multiconer_fine_epoch_3_visualize_errors.bdocjs',\n",
       " 'seq_label_semeval_multiconer_fine_epoch_4_visualize_errors.bdocjs',\n",
       " 'seq_label_semeval_multiconer_fine_epoch_5_visualize_errors.bdocjs',\n",
       " 'seq_label_semeval_multiconer_fine_epoch_6_visualize_errors.bdocjs',\n",
       " 'seq_label_semeval_multiconer_fine_epoch_7_visualize_errors.bdocjs',\n",
       " 'seq_label_semeval_multiconer_fine_epoch_8_visualize_errors.bdocjs',\n",
       " 'seq_label_semeval_multiconer_fine_epoch_9_visualize_errors.bdocjs',\n",
       " 'performance_seq_label_semeval.csv',\n",
       " 'test_legaleval_judgement_epoch_0_visualize_errors.bdocjs',\n",
       " 'test_legaleval_judgement_epoch_1_visualize_errors.bdocjs',\n",
       " 'test_legaleval_preamble_epoch_0_visualize_errors.bdocjs',\n",
       " 'test_legaleval_preamble_epoch_1_visualize_errors.bdocjs',\n",
       " 'test_multiconer_coarse_epoch_0_visualize_errors.bdocjs',\n",
       " 'test_multiconer_coarse_epoch_1_visualize_errors.bdocjs',\n",
       " 'test_multiconer_fine_epoch_0_visualize_errors.bdocjs',\n",
       " 'test_multiconer_fine_epoch_1_visualize_errors.bdocjs',\n",
       " 'performance_test.csv',\n",
       " 'crf_seq_label_semeval_legaleval_judgement_epoch_0_visualize_errors.bdocjs',\n",
       " 'crf_seq_label_semeval_legaleval_judgement_epoch_1_visualize_errors.bdocjs',\n",
       " 'crf_seq_label_semeval_legaleval_judgement_epoch_2_visualize_errors.bdocjs',\n",
       " 'crf_seq_label_semeval_legaleval_judgement_epoch_3_visualize_errors.bdocjs',\n",
       " 'crf_seq_label_semeval_legaleval_judgement_epoch_4_visualize_errors.bdocjs',\n",
       " 'crf_seq_label_semeval_legaleval_judgement_epoch_5_visualize_errors.bdocjs',\n",
       " 'crf_seq_label_semeval_legaleval_judgement_epoch_6_visualize_errors.bdocjs',\n",
       " 'crf_seq_label_semeval_legaleval_judgement_epoch_7_visualize_errors.bdocjs',\n",
       " 'crf_seq_label_semeval_legaleval_judgement_epoch_8_visualize_errors.bdocjs',\n",
       " 'crf_seq_label_semeval_legaleval_judgement_epoch_9_visualize_errors.bdocjs',\n",
       " 'crf_seq_label_semeval_legaleval_preamble_epoch_0_visualize_errors.bdocjs',\n",
       " 'crf_seq_label_semeval_legaleval_preamble_epoch_1_visualize_errors.bdocjs',\n",
       " 'crf_seq_label_semeval_legaleval_preamble_epoch_2_visualize_errors.bdocjs',\n",
       " 'crf_seq_label_semeval_legaleval_preamble_epoch_3_visualize_errors.bdocjs',\n",
       " 'crf_seq_label_semeval_legaleval_preamble_epoch_4_visualize_errors.bdocjs',\n",
       " 'crf_seq_label_semeval_legaleval_preamble_epoch_5_visualize_errors.bdocjs',\n",
       " 'crf_seq_label_semeval_legaleval_preamble_epoch_6_visualize_errors.bdocjs',\n",
       " 'crf_seq_label_semeval_legaleval_preamble_epoch_7_visualize_errors.bdocjs',\n",
       " 'crf_seq_label_semeval_legaleval_preamble_epoch_8_visualize_errors.bdocjs',\n",
       " 'crf_seq_label_semeval_legaleval_preamble_epoch_9_visualize_errors.bdocjs',\n",
       " 'crf_seq_label_semeval_multiconer_coarse_epoch_0_visualize_errors.bdocjs',\n",
       " 'crf_seq_label_semeval_multiconer_coarse_epoch_1_visualize_errors.bdocjs',\n",
       " 'crf_seq_label_semeval_multiconer_coarse_epoch_2_visualize_errors.bdocjs',\n",
       " 'crf_seq_label_semeval_multiconer_coarse_epoch_3_visualize_errors.bdocjs',\n",
       " 'crf_seq_label_semeval_multiconer_coarse_epoch_4_visualize_errors.bdocjs',\n",
       " 'crf_seq_label_semeval_multiconer_coarse_epoch_5_visualize_errors.bdocjs',\n",
       " 'crf_seq_label_semeval_multiconer_coarse_epoch_6_visualize_errors.bdocjs',\n",
       " 'crf_seq_label_semeval_multiconer_coarse_epoch_7_visualize_errors.bdocjs',\n",
       " 'crf_seq_label_semeval_multiconer_coarse_epoch_8_visualize_errors.bdocjs',\n",
       " 'crf_seq_label_semeval_multiconer_coarse_epoch_9_visualize_errors.bdocjs',\n",
       " 'crf_seq_label_semeval_multiconer_fine_epoch_0_visualize_errors.bdocjs',\n",
       " 'crf_seq_label_semeval_multiconer_fine_epoch_1_visualize_errors.bdocjs',\n",
       " 'crf_seq_label_semeval_multiconer_fine_epoch_2_visualize_errors.bdocjs',\n",
       " 'crf_seq_label_semeval_multiconer_fine_epoch_3_visualize_errors.bdocjs',\n",
       " 'crf_seq_label_semeval_multiconer_fine_epoch_4_visualize_errors.bdocjs',\n",
       " 'crf_seq_label_semeval_multiconer_fine_epoch_5_visualize_errors.bdocjs',\n",
       " 'crf_seq_label_semeval_multiconer_fine_epoch_6_visualize_errors.bdocjs',\n",
       " 'crf_seq_label_semeval_multiconer_fine_epoch_7_visualize_errors.bdocjs',\n",
       " 'crf_seq_label_semeval_multiconer_fine_epoch_8_visualize_errors.bdocjs',\n",
       " 'crf_seq_label_semeval_multiconer_fine_epoch_9_visualize_errors.bdocjs',\n",
       " 'performance_crf_seq_label_semeval.csv',\n",
       " 'span_noun_phrase_experiments_multiconer_coarse_epoch_0_visualize_errors.bdocjs',\n",
       " 'span_noun_phrase_experiments_multiconer_coarse_epoch_1_visualize_errors.bdocjs',\n",
       " 'span_noun_phrase_experiments_multiconer_coarse_epoch_2_visualize_errors.bdocjs',\n",
       " 'span_noun_phrase_experiments_multiconer_coarse_epoch_3_visualize_errors.bdocjs',\n",
       " 'span_noun_phrase_experiments_multiconer_coarse_epoch_4_visualize_errors.bdocjs',\n",
       " 'span_noun_phrase_experiments_multiconer_coarse_epoch_5_visualize_errors.bdocjs',\n",
       " 'span_noun_phrase_experiments_multiconer_coarse_epoch_6_visualize_errors.bdocjs',\n",
       " 'span_noun_phrase_experiments_multiconer_coarse_epoch_7_visualize_errors.bdocjs',\n",
       " 'span_noun_phrase_experiments_multiconer_coarse_epoch_8_visualize_errors.bdocjs',\n",
       " 'span_noun_phrase_experiments_multiconer_coarse_epoch_9_visualize_errors.bdocjs',\n",
       " 'performance_span_noun_phrase_experiments.csv',\n",
       " 'preprocessed_data_test.zip',\n",
       " 'span_noun_phrase_15_epochs_multiconer_coarse_epoch_0_visualize_errors.bdocjs',\n",
       " 'span_noun_phrase_15_epochs_multiconer_coarse_epoch_1_visualize_errors.bdocjs',\n",
       " 'span_noun_phrase_15_epochs_multiconer_coarse_epoch_2_visualize_errors.bdocjs',\n",
       " 'span_noun_phrase_15_epochs_multiconer_coarse_epoch_3_visualize_errors.bdocjs',\n",
       " 'span_noun_phrase_15_epochs_multiconer_coarse_epoch_4_visualize_errors.bdocjs',\n",
       " 'span_noun_phrase_15_epochs_multiconer_coarse_epoch_5_visualize_errors.bdocjs',\n",
       " 'span_noun_phrase_15_epochs_multiconer_coarse_epoch_6_visualize_errors.bdocjs',\n",
       " 'span_noun_phrase_15_epochs_multiconer_coarse_epoch_7_visualize_errors.bdocjs',\n",
       " 'span_noun_phrase_15_epochs_multiconer_coarse_epoch_8_visualize_errors.bdocjs',\n",
       " 'span_noun_phrase_15_epochs_multiconer_coarse_epoch_9_visualize_errors.bdocjs',\n",
       " 'span_noun_phrase_15_epochs_multiconer_coarse_epoch_10_visualize_errors.bdocjs',\n",
       " 'span_noun_phrase_15_epochs_multiconer_coarse_epoch_11_visualize_errors.bdocjs',\n",
       " 'span_noun_phrase_15_epochs_multiconer_coarse_epoch_12_visualize_errors.bdocjs',\n",
       " 'span_noun_phrase_15_epochs_multiconer_coarse_epoch_13_visualize_errors.bdocjs',\n",
       " 'span_noun_phrase_15_epochs_multiconer_coarse_epoch_14_visualize_errors.bdocjs',\n",
       " 'span_noun_phrase_15_epochs_multiconer_fine_epoch_0_visualize_errors.bdocjs',\n",
       " 'span_noun_phrase_15_epochs_multiconer_fine_epoch_1_visualize_errors.bdocjs',\n",
       " 'span_noun_phrase_15_epochs_multiconer_fine_epoch_2_visualize_errors.bdocjs',\n",
       " 'span_noun_phrase_15_epochs_multiconer_fine_epoch_3_visualize_errors.bdocjs',\n",
       " 'span_noun_phrase_15_epochs_multiconer_fine_epoch_4_visualize_errors.bdocjs',\n",
       " 'span_noun_phrase_15_epochs_multiconer_fine_epoch_5_visualize_errors.bdocjs',\n",
       " 'span_noun_phrase_15_epochs_multiconer_fine_epoch_6_visualize_errors.bdocjs',\n",
       " 'span_noun_phrase_15_epochs_multiconer_fine_epoch_7_visualize_errors.bdocjs',\n",
       " 'span_noun_phrase_15_epochs_multiconer_fine_epoch_8_visualize_errors.bdocjs',\n",
       " 'span_noun_phrase_15_epochs_multiconer_fine_epoch_9_visualize_errors.bdocjs',\n",
       " 'span_noun_phrase_15_epochs_multiconer_fine_epoch_10_visualize_errors.bdocjs',\n",
       " 'span_noun_phrase_15_epochs_multiconer_fine_epoch_11_visualize_errors.bdocjs',\n",
       " 'span_noun_phrase_15_epochs_multiconer_fine_epoch_12_visualize_errors.bdocjs',\n",
       " 'span_noun_phrase_15_epochs_multiconer_fine_epoch_13_visualize_errors.bdocjs',\n",
       " 'span_noun_phrase_15_epochs_multiconer_fine_epoch_14_visualize_errors.bdocjs',\n",
       " 'span_noun_phrase_15_epochs_legaleval_judgement_epoch_0_visualize_errors.bdocjs',\n",
       " 'span_noun_phrase_15_epochs_legaleval_judgement_epoch_1_visualize_errors.bdocjs',\n",
       " 'span_noun_phrase_15_epochs_legaleval_judgement_epoch_2_visualize_errors.bdocjs',\n",
       " 'span_noun_phrase_15_epochs_legaleval_judgement_epoch_3_visualize_errors.bdocjs',\n",
       " 'span_noun_phrase_15_epochs_legaleval_judgement_epoch_4_visualize_errors.bdocjs',\n",
       " 'span_noun_phrase_15_epochs_legaleval_judgement_epoch_5_visualize_errors.bdocjs',\n",
       " 'span_noun_phrase_15_epochs_legaleval_judgement_epoch_6_visualize_errors.bdocjs',\n",
       " 'span_noun_phrase_15_epochs_legaleval_judgement_epoch_7_visualize_errors.bdocjs',\n",
       " 'span_noun_phrase_15_epochs_legaleval_judgement_epoch_8_visualize_errors.bdocjs',\n",
       " 'span_noun_phrase_15_epochs_legaleval_judgement_epoch_9_visualize_errors.bdocjs',\n",
       " 'span_noun_phrase_15_epochs_legaleval_judgement_epoch_10_visualize_errors.bdocjs',\n",
       " 'span_noun_phrase_15_epochs_legaleval_judgement_epoch_11_visualize_errors.bdocjs',\n",
       " 'span_noun_phrase_15_epochs_legaleval_judgement_epoch_12_visualize_errors.bdocjs',\n",
       " 'span_noun_phrase_15_epochs_legaleval_judgement_epoch_13_visualize_errors.bdocjs',\n",
       " 'span_noun_phrase_15_epochs_legaleval_judgement_epoch_14_visualize_errors.bdocjs',\n",
       " 'span_noun_phrase_15_epochs_legaleval_preamble_epoch_0_visualize_errors.bdocjs',\n",
       " 'span_noun_phrase_15_epochs_legaleval_preamble_epoch_1_visualize_errors.bdocjs',\n",
       " 'span_noun_phrase_15_epochs_legaleval_preamble_epoch_2_visualize_errors.bdocjs',\n",
       " 'span_noun_phrase_15_epochs_legaleval_preamble_epoch_3_visualize_errors.bdocjs',\n",
       " 'span_noun_phrase_15_epochs_legaleval_preamble_epoch_4_visualize_errors.bdocjs',\n",
       " 'span_noun_phrase_15_epochs_legaleval_preamble_epoch_5_visualize_errors.bdocjs',\n",
       " 'span_noun_phrase_15_epochs_legaleval_preamble_epoch_6_visualize_errors.bdocjs',\n",
       " 'span_noun_phrase_15_epochs_legaleval_preamble_epoch_7_visualize_errors.bdocjs',\n",
       " 'span_noun_phrase_15_epochs_legaleval_preamble_epoch_8_visualize_errors.bdocjs',\n",
       " 'span_noun_phrase_15_epochs_legaleval_preamble_epoch_9_visualize_errors.bdocjs',\n",
       " 'span_noun_phrase_15_epochs_legaleval_preamble_epoch_10_visualize_errors.bdocjs',\n",
       " 'span_noun_phrase_15_epochs_legaleval_preamble_epoch_11_visualize_errors.bdocjs',\n",
       " 'span_noun_phrase_15_epochs_legaleval_preamble_epoch_12_visualize_errors.bdocjs',\n",
       " 'span_noun_phrase_15_epochs_legaleval_preamble_epoch_13_visualize_errors.bdocjs',\n",
       " 'span_noun_phrase_15_epochs_legaleval_preamble_epoch_14_visualize_errors.bdocjs',\n",
       " 'performance_span_noun_phrase_15_epochs.csv',\n",
       " 'span_large_experiment_legaleval_judgement_epoch_0_visualize_errors.bdocjs',\n",
       " 'span_large_experiment_legaleval_judgement_epoch_0_predictions.tsv',\n",
       " 'span_large_experiment_legaleval_judgement_epoch_1_visualize_errors.bdocjs',\n",
       " 'span_large_experiment_legaleval_judgement_epoch_1_predictions.tsv',\n",
       " 'span_large_experiment_legaleval_judgement_epoch_2_visualize_errors.bdocjs',\n",
       " 'span_large_experiment_legaleval_judgement_epoch_2_predictions.tsv',\n",
       " 'span_large_experiment_legaleval_judgement_epoch_3_visualize_errors.bdocjs',\n",
       " 'span_large_experiment_legaleval_judgement_epoch_3_predictions.tsv',\n",
       " 'span_large_experiment_legaleval_judgement_epoch_4_visualize_errors.bdocjs',\n",
       " 'span_large_experiment_legaleval_judgement_epoch_4_predictions.tsv',\n",
       " 'span_large_experiment_legaleval_judgement_epoch_5_visualize_errors.bdocjs',\n",
       " 'span_large_experiment_legaleval_judgement_epoch_5_predictions.tsv',\n",
       " 'span_large_experiment_legaleval_judgement_epoch_6_visualize_errors.bdocjs',\n",
       " 'span_large_experiment_legaleval_judgement_epoch_6_predictions.tsv',\n",
       " 'span_large_experiment_legaleval_judgement_epoch_7_visualize_errors.bdocjs',\n",
       " 'span_large_experiment_legaleval_judgement_epoch_7_predictions.tsv',\n",
       " 'span_large_experiment_legaleval_judgement_epoch_8_visualize_errors.bdocjs',\n",
       " 'span_large_experiment_legaleval_judgement_epoch_8_predictions.tsv',\n",
       " 'span_large_experiment_legaleval_judgement_epoch_9_visualize_errors.bdocjs',\n",
       " 'span_large_experiment_legaleval_judgement_epoch_9_predictions.tsv',\n",
       " 'span_large_experiment_legaleval_preamble_epoch_0_visualize_errors.bdocjs',\n",
       " 'span_large_experiment_legaleval_preamble_epoch_0_predictions.tsv',\n",
       " 'span_large_experiment_legaleval_preamble_epoch_1_visualize_errors.bdocjs',\n",
       " 'span_large_experiment_legaleval_preamble_epoch_1_predictions.tsv',\n",
       " 'span_large_experiment_legaleval_preamble_epoch_2_visualize_errors.bdocjs',\n",
       " 'span_large_experiment_legaleval_preamble_epoch_2_predictions.tsv',\n",
       " 'span_large_experiment_legaleval_preamble_epoch_3_visualize_errors.bdocjs',\n",
       " 'span_large_experiment_legaleval_preamble_epoch_3_predictions.tsv',\n",
       " 'span_large_experiment_legaleval_preamble_epoch_4_visualize_errors.bdocjs',\n",
       " 'span_large_experiment_legaleval_preamble_epoch_4_predictions.tsv',\n",
       " 'span_large_experiment_legaleval_preamble_epoch_5_visualize_errors.bdocjs',\n",
       " 'span_large_experiment_legaleval_preamble_epoch_5_predictions.tsv',\n",
       " 'span_large_experiment_legaleval_preamble_epoch_6_visualize_errors.bdocjs',\n",
       " 'span_large_experiment_legaleval_preamble_epoch_6_predictions.tsv',\n",
       " 'span_large_experiment_legaleval_preamble_epoch_7_visualize_errors.bdocjs',\n",
       " 'span_large_experiment_legaleval_preamble_epoch_7_predictions.tsv',\n",
       " 'span_large_experiment_legaleval_preamble_epoch_8_visualize_errors.bdocjs',\n",
       " 'span_large_experiment_legaleval_preamble_epoch_8_predictions.tsv',\n",
       " 'span_large_experiment_legaleval_preamble_epoch_9_visualize_errors.bdocjs',\n",
       " 'span_large_experiment_legaleval_preamble_epoch_9_predictions.tsv',\n",
       " 'span_large_experiment_multiconer_fine_epoch_0_visualize_errors.bdocjs',\n",
       " 'span_large_experiment_multiconer_fine_epoch_0_predictions.tsv',\n",
       " 'span_large_experiment_multiconer_fine_epoch_1_visualize_errors.bdocjs',\n",
       " 'span_large_experiment_multiconer_fine_epoch_1_predictions.tsv',\n",
       " 'span_large_experiment_multiconer_fine_epoch_2_visualize_errors.bdocjs',\n",
       " 'span_large_experiment_multiconer_fine_epoch_2_predictions.tsv',\n",
       " 'span_large_experiment_multiconer_fine_epoch_3_visualize_errors.bdocjs',\n",
       " 'span_large_experiment_multiconer_fine_epoch_3_predictions.tsv',\n",
       " 'span_large_experiment_multiconer_fine_epoch_4_visualize_errors.bdocjs',\n",
       " 'span_large_experiment_multiconer_fine_epoch_4_predictions.tsv',\n",
       " 'span_large_experiment_multiconer_fine_epoch_5_visualize_errors.bdocjs',\n",
       " 'span_large_experiment_multiconer_fine_epoch_5_predictions.tsv',\n",
       " 'span_large_experiment_multiconer_fine_epoch_6_visualize_errors.bdocjs',\n",
       " 'span_large_experiment_multiconer_fine_epoch_6_predictions.tsv',\n",
       " 'span_large_experiment_multiconer_fine_epoch_7_visualize_errors.bdocjs',\n",
       " 'span_large_experiment_multiconer_fine_epoch_7_predictions.tsv',\n",
       " 'span_large_experiment_multiconer_fine_epoch_8_visualize_errors.bdocjs',\n",
       " 'span_large_experiment_multiconer_fine_epoch_8_predictions.tsv',\n",
       " 'span_large_experiment_multiconer_fine_epoch_9_visualize_errors.bdocjs',\n",
       " 'span_large_experiment_multiconer_fine_epoch_9_predictions.tsv',\n",
       " 'performance_span_large_experiment.csv',\n",
       " 'medical_claim_subtask_1_raw.zip',\n",
       " 'submit_multiconer_multiconer_fine_epoch_0_visualize_errors.bdocjs',\n",
       " 'submit_multiconer_multiconer_fine_epoch_0_predictions.tsv',\n",
       " 'submit_multiconer_multiconer_fine_test_results_epoch_0_predictions.tsv',\n",
       " 'submit_multiconer_multiconer_fine_epoch_1_visualize_errors.bdocjs',\n",
       " 'submit_multiconer_multiconer_fine_epoch_1_predictions.tsv',\n",
       " 'submit_multiconer_multiconer_fine_test_results_epoch_1_predictions.tsv',\n",
       " 'submit_multiconer_multiconer_fine_epoch_2_visualize_errors.bdocjs',\n",
       " 'submit_multiconer_multiconer_fine_epoch_2_predictions.tsv',\n",
       " 'submit_multiconer_multiconer_fine_test_results_epoch_2_predictions.tsv',\n",
       " 'submit_multiconer_multiconer_fine_epoch_3_visualize_errors.bdocjs',\n",
       " 'submit_multiconer_multiconer_fine_epoch_3_predictions.tsv',\n",
       " 'submit_multiconer_multiconer_fine_test_results_epoch_3_predictions.tsv',\n",
       " 'submit_multiconer_multiconer_fine_epoch_4_visualize_errors.bdocjs',\n",
       " 'submit_multiconer_multiconer_fine_epoch_4_predictions.tsv',\n",
       " 'submit_multiconer_multiconer_fine_test_results_epoch_4_predictions.tsv',\n",
       " 'submit_multiconer_multiconer_fine_epoch_5_visualize_errors.bdocjs',\n",
       " 'submit_multiconer_multiconer_fine_epoch_5_predictions.tsv',\n",
       " 'submit_multiconer_multiconer_fine_test_results_epoch_5_predictions.tsv',\n",
       " 'submit_multiconer_multiconer_fine_epoch_6_visualize_errors.bdocjs',\n",
       " 'submit_multiconer_multiconer_fine_epoch_6_predictions.tsv',\n",
       " 'submit_multiconer_multiconer_fine_test_results_epoch_6_predictions.tsv',\n",
       " 'submit_multiconer_multiconer_fine_epoch_7_visualize_errors.bdocjs',\n",
       " 'submit_multiconer_multiconer_fine_epoch_7_predictions.tsv',\n",
       " 'submit_multiconer_multiconer_fine_test_results_epoch_7_predictions.tsv',\n",
       " 'submit_multiconer_multiconer_fine_epoch_8_visualize_errors.bdocjs',\n",
       " 'submit_multiconer_multiconer_fine_epoch_8_predictions.tsv',\n",
       " 'submit_multiconer_multiconer_fine_test_results_epoch_8_predictions.tsv',\n",
       " 'submit_multiconer_multiconer_fine_epoch_9_visualize_errors.bdocjs',\n",
       " 'submit_multiconer_multiconer_fine_epoch_9_predictions.tsv',\n",
       " 'submit_multiconer_multiconer_fine_test_results_epoch_9_predictions.tsv',\n",
       " 'multiconer-data-raw.zip',\n",
       " 'submit_multiconer_multiconer_fine_epoch_10_visualize_errors.bdocjs',\n",
       " 'submit_multiconer_multiconer_fine_epoch_10_predictions.tsv',\n",
       " 'submit_multiconer_multiconer_fine_test_results_epoch_10_predictions.tsv',\n",
       " 'submit_multiconer_multiconer_fine_epoch_11_visualize_errors.bdocjs',\n",
       " 'submit_multiconer_multiconer_fine_epoch_11_predictions.tsv',\n",
       " 'performance_submit_multiconer.csv',\n",
       " 'submit_multiconer_multiconer_fine_test_results_epoch_11_predictions.tsv',\n",
       " 'seq_large_experiment_multiconer_fine_epoch_0_visualize_errors.bdocjs',\n",
       " 'seq_large_experiment_multiconer_fine_epoch_0_predictions.tsv',\n",
       " 'seq_large_experiment_multiconer_fine_epoch_1_visualize_errors.bdocjs',\n",
       " 'seq_large_experiment_multiconer_fine_epoch_1_predictions.tsv',\n",
       " 'span_width_embed_experiment_multiconer_fine_epoch_0_visualize_errors.bdocjs',\n",
       " 'span_width_embed_experiment_multiconer_fine_epoch_0_predictions.tsv',\n",
       " 'span_width_embed_experiment_multiconer_fine_epoch_1_visualize_errors.bdocjs',\n",
       " 'span_width_embed_experiment_multiconer_fine_epoch_1_predictions.tsv',\n",
       " 'performance_span_width_embed_experiment.csv',\n",
       " 'seq_large_experiment_multiconer_fine_epoch_2_visualize_errors.bdocjs',\n",
       " 'seq_large_experiment_multiconer_fine_epoch_2_predictions.tsv',\n",
       " 'seq_large_experiment_multiconer_fine_epoch_3_visualize_errors.bdocjs',\n",
       " 'seq_large_experiment_multiconer_fine_epoch_3_predictions.tsv',\n",
       " 'submit_span_width_embed_large_multiconer_fine_epoch_0_visualize_errors.bdocjs',\n",
       " 'submit_span_width_embed_large_multiconer_fine_epoch_0_predictions.tsv',\n",
       " 'submit_span_width_embed_large_multiconer_fine_epoch_1_visualize_errors.bdocjs',\n",
       " 'submit_span_width_embed_large_multiconer_fine_epoch_1_predictions.tsv',\n",
       " 'seq_large_experiment_multiconer_fine_test_results_epoch_3_predictions.tsv',\n",
       " 'submit_span_width_embed_large_multiconer_fine_epoch_2_visualize_errors.bdocjs',\n",
       " 'submit_span_width_embed_large_multiconer_fine_epoch_2_predictions.tsv',\n",
       " 'seq_large_experiment_multiconer_fine_epoch_4_visualize_errors.bdocjs',\n",
       " 'seq_large_experiment_multiconer_fine_epoch_4_predictions.tsv',\n",
       " 'submit_heuristic_multiconer_fine_test_results_epoch_3_predictions.tsv',\n",
       " 'submit_span_width_embed_large_multiconer_fine_epoch_3_visualize_errors.bdocjs',\n",
       " 'submit_span_width_embed_large_multiconer_fine_epoch_3_predictions.tsv',\n",
       " 'seq_large_experiment_multiconer_fine_epoch_5_visualize_errors.bdocjs',\n",
       " 'seq_large_experiment_multiconer_fine_epoch_5_predictions.tsv',\n",
       " 'submit_heuristic_multiconer_fine_epoch_0_visualize_errors.bdocjs',\n",
       " 'submit_heuristic_multiconer_fine_epoch_0_predictions.tsv',\n",
       " 'seq_large_experiment_multiconer_fine_epoch_6_visualize_errors.bdocjs',\n",
       " 'seq_large_experiment_multiconer_fine_epoch_6_predictions.tsv',\n",
       " 'submit_span_width_embed_large_multiconer_fine_test_results_epoch_3_predictions.tsv',\n",
       " 'submit_heuristic_multiconer_fine_epoch_1_visualize_errors.bdocjs',\n",
       " 'submit_heuristic_multiconer_fine_epoch_1_predictions.tsv',\n",
       " 'seq_large_experiment_multiconer_fine_epoch_7_visualize_errors.bdocjs',\n",
       " 'seq_large_experiment_multiconer_fine_epoch_7_predictions.tsv',\n",
       " 'submit_span_width_embed_large_multiconer_fine_epoch_4_visualize_errors.bdocjs',\n",
       " 'submit_span_width_embed_large_multiconer_fine_epoch_4_predictions.tsv',\n",
       " 'submit_heuristic_multiconer_fine_epoch_2_visualize_errors.bdocjs',\n",
       " 'submit_heuristic_multiconer_fine_epoch_2_predictions.tsv',\n",
       " 'submit_span_width_embed_large_multiconer_fine_epoch_5_visualize_errors.bdocjs',\n",
       " 'submit_span_width_embed_large_multiconer_fine_epoch_5_predictions.tsv',\n",
       " 'seq_large_experiment_multiconer_fine_test_results_epoch_7_predictions.tsv',\n",
       " 'submit_heuristic_multiconer_fine_epoch_3_visualize_errors.bdocjs',\n",
       " 'submit_heuristic_multiconer_fine_epoch_3_predictions.tsv',\n",
       " 'submit_span_width_embed_large_multiconer_fine_epoch_6_visualize_errors.bdocjs',\n",
       " 'submit_span_width_embed_large_multiconer_fine_epoch_6_predictions.tsv',\n",
       " 'seq_large_experiment_multiconer_fine_epoch_8_visualize_errors.bdocjs',\n",
       " 'seq_large_experiment_multiconer_fine_epoch_8_predictions.tsv',\n",
       " 'submit_heuristic_multiconer_fine_epoch_4_visualize_errors.bdocjs',\n",
       " 'submit_heuristic_multiconer_fine_epoch_4_predictions.tsv',\n",
       " 'submit_span_width_embed_large_multiconer_fine_epoch_7_visualize_errors.bdocjs',\n",
       " 'submit_span_width_embed_large_multiconer_fine_epoch_7_predictions.tsv',\n",
       " 'seq_large_experiment_multiconer_fine_epoch_9_visualize_errors.bdocjs',\n",
       " 'seq_large_experiment_multiconer_fine_epoch_9_predictions.tsv',\n",
       " 'seq_large_experiment_multiconer_fine_epoch_10_visualize_errors.bdocjs',\n",
       " 'seq_large_experiment_multiconer_fine_epoch_10_predictions.tsv',\n",
       " 'submit_heuristic_multiconer_fine_test_results_epoch_4_predictions.tsv',\n",
       " 'submit_span_width_embed_large_multiconer_fine_test_results_epoch_7_predictions.tsv',\n",
       " 'seq_large_experiment_multiconer_fine_epoch_11_visualize_errors.bdocjs',\n",
       " 'seq_large_experiment_multiconer_fine_epoch_11_predictions.tsv',\n",
       " 'performance_seq_large_experiment.csv',\n",
       " 'submit_heuristic_multiconer_fine_epoch_5_visualize_errors.bdocjs',\n",
       " 'submit_heuristic_multiconer_fine_epoch_5_predictions.tsv',\n",
       " 'submit_span_width_embed_large_multiconer_fine_epoch_8_visualize_errors.bdocjs',\n",
       " 'submit_span_width_embed_large_multiconer_fine_epoch_8_predictions.tsv',\n",
       " 'submit_heuristic_multiconer_fine_epoch_6_visualize_errors.bdocjs',\n",
       " 'submit_heuristic_multiconer_fine_epoch_6_predictions.tsv',\n",
       " 'performance_submit_heuristic.csv',\n",
       " 'submit_span_width_embed_large_multiconer_fine_epoch_9_visualize_errors.bdocjs',\n",
       " 'submit_span_width_embed_large_multiconer_fine_epoch_9_predictions.tsv',\n",
       " 'performance_submit_span_width_embed_large.csv',\n",
       " 'seq_large_experiment_multiconer_fine_test_results_epoch_11_predictions.tsv',\n",
       " 'large_legal_and_genia_legaleval_judgement_SeqLarge_epoch_4_predictions.tsv',\n",
       " 'large_legal_and_genia_genia_SpanLarge_epoch_0_visualize_errors.bdocjs',\n",
       " 'large_legal_and_genia_genia_SpanLarge_epoch_0_predictions.tsv',\n",
       " 'large_legal_and_genia_genia_SpanLarge_epoch_1_visualize_errors.bdocjs',\n",
       " 'large_legal_and_genia_genia_SpanLarge_epoch_1_predictions.tsv',\n",
       " 'large_legal_and_genia_genia_SpanLarge_epoch_2_visualize_errors.bdocjs',\n",
       " 'large_legal_and_genia_genia_SpanLarge_epoch_2_predictions.tsv',\n",
       " 'large_legal_and_genia_genia_SpanLarge_epoch_3_visualize_errors.bdocjs',\n",
       " 'large_legal_and_genia_genia_SpanLarge_epoch_3_predictions.tsv',\n",
       " 'large_legal_and_genia_genia_SpanLarge_epoch_4_visualize_errors.bdocjs',\n",
       " 'large_legal_and_genia_genia_SpanLarge_epoch_4_predictions.tsv',\n",
       " 'large_legal_and_genia_genia_SpanLarge_epoch_5_visualize_errors.bdocjs',\n",
       " 'large_legal_and_genia_genia_SpanLarge_epoch_5_predictions.tsv',\n",
       " 'large_legal_and_genia_genia_SpanLarge_epoch_6_visualize_errors.bdocjs',\n",
       " 'large_legal_and_genia_genia_SpanLarge_epoch_6_predictions.tsv',\n",
       " 'large_legal_and_genia_genia_SpanLarge_epoch_7_visualize_errors.bdocjs',\n",
       " 'large_legal_and_genia_genia_SpanLarge_epoch_7_predictions.tsv',\n",
       " 'large_legal_and_genia_genia_SpanLarge_epoch_8_visualize_errors.bdocjs',\n",
       " 'large_legal_and_genia_genia_SpanLarge_epoch_8_predictions.tsv',\n",
       " 'large_legal_and_genia_genia_SpanLarge_epoch_9_visualize_errors.bdocjs',\n",
       " 'large_legal_and_genia_genia_SpanLarge_epoch_9_predictions.tsv',\n",
       " 'large_legal_and_genia_genia_SpanLarge_epoch_10_visualize_errors.bdocjs',\n",
       " 'large_legal_and_genia_genia_SpanLarge_epoch_10_predictions.tsv',\n",
       " 'large_legal_and_genia_genia_SpanLarge_epoch_11_visualize_errors.bdocjs',\n",
       " 'large_legal_and_genia_genia_SpanLarge_epoch_11_predictions.tsv',\n",
       " 'large_legal_and_genia_genia_SpanLarge_epoch_12_visualize_errors.bdocjs',\n",
       " 'large_legal_and_genia_genia_SpanLarge_epoch_12_predictions.tsv',\n",
       " 'large_legal_and_genia_genia_SpanLarge_epoch_13_visualize_errors.bdocjs',\n",
       " 'large_legal_and_genia_genia_SpanLarge_epoch_13_predictions.tsv',\n",
       " 'large_legal_and_genia_genia_SpanLarge_epoch_14_visualize_errors.bdocjs',\n",
       " 'large_legal_and_genia_genia_SpanLarge_epoch_14_predictions.tsv',\n",
       " 'large_legal_and_genia_legaleval_judgement_SpanLarge_epoch_0_visualize_errors.bdocjs',\n",
       " 'large_legal_and_genia_legaleval_judgement_SpanLarge_epoch_0_predictions.tsv',\n",
       " 'large_legal_and_genia_legaleval_judgement_SpanLarge_epoch_1_visualize_errors.bdocjs',\n",
       " 'large_legal_and_genia_legaleval_judgement_SpanLarge_epoch_1_predictions.tsv',\n",
       " 'large_legal_and_genia_legaleval_judgement_SpanLarge_epoch_2_visualize_errors.bdocjs',\n",
       " 'large_legal_and_genia_legaleval_judgement_SpanLarge_epoch_2_predictions.tsv',\n",
       " 'large_legal_and_genia_legaleval_judgement_SpanLarge_epoch_3_visualize_errors.bdocjs',\n",
       " 'large_legal_and_genia_legaleval_judgement_SpanLarge_epoch_3_predictions.tsv',\n",
       " 'large_legal_and_genia_legaleval_judgement_SpanLarge_epoch_4_visualize_errors.bdocjs',\n",
       " 'large_legal_and_genia_legaleval_judgement_SpanLarge_epoch_4_predictions.tsv',\n",
       " 'large_legal_and_genia_legaleval_judgement_SpanLarge_epoch_5_visualize_errors.bdocjs',\n",
       " 'large_legal_and_genia_legaleval_judgement_SpanLarge_epoch_5_predictions.tsv',\n",
       " 'large_legal_and_genia_legaleval_judgement_SpanLarge_epoch_6_visualize_errors.bdocjs',\n",
       " 'large_legal_and_genia_legaleval_judgement_SpanLarge_epoch_6_predictions.tsv',\n",
       " 'large_legal_and_genia_legaleval_judgement_SpanLarge_epoch_7_visualize_errors.bdocjs',\n",
       " 'large_legal_and_genia_legaleval_judgement_SpanLarge_epoch_7_predictions.tsv',\n",
       " 'large_legal_and_genia_legaleval_judgement_SpanLarge_epoch_8_visualize_errors.bdocjs',\n",
       " 'large_legal_and_genia_legaleval_judgement_SpanLarge_epoch_8_predictions.tsv',\n",
       " 'large_legal_and_genia_legaleval_judgement_SpanLarge_epoch_9_visualize_errors.bdocjs',\n",
       " 'large_legal_and_genia_legaleval_judgement_SpanLarge_epoch_9_predictions.tsv',\n",
       " 'large_legal_and_genia_legaleval_judgement_SpanLarge_epoch_10_visualize_errors.bdocjs',\n",
       " 'large_legal_and_genia_legaleval_judgement_SpanLarge_epoch_10_predictions.tsv',\n",
       " 'large_legal_and_genia_legaleval_judgement_SpanLarge_epoch_11_visualize_errors.bdocjs',\n",
       " 'large_legal_and_genia_legaleval_judgement_SpanLarge_epoch_11_predictions.tsv',\n",
       " 'large_legal_and_genia_legaleval_judgement_SpanLarge_epoch_12_visualize_errors.bdocjs',\n",
       " 'large_legal_and_genia_legaleval_judgement_SpanLarge_epoch_12_predictions.tsv',\n",
       " 'large_legal_and_genia_legaleval_judgement_SpanLarge_epoch_13_visualize_errors.bdocjs',\n",
       " 'large_legal_and_genia_legaleval_judgement_SpanLarge_epoch_13_predictions.tsv',\n",
       " 'large_legal_and_genia_legaleval_judgement_SpanLarge_epoch_14_visualize_errors.bdocjs',\n",
       " 'large_legal_and_genia_legaleval_judgement_SpanLarge_epoch_14_predictions.tsv',\n",
       " 'large_legal_and_genia_legaleval_preamble_SpanLarge_epoch_0_visualize_errors.bdocjs',\n",
       " 'large_legal_and_genia_legaleval_preamble_SpanLarge_epoch_0_predictions.tsv',\n",
       " 'large_legal_and_genia_legaleval_preamble_SpanLarge_epoch_1_visualize_errors.bdocjs',\n",
       " 'large_legal_and_genia_legaleval_preamble_SpanLarge_epoch_1_predictions.tsv',\n",
       " 'large_legal_and_genia_legaleval_preamble_SpanLarge_epoch_2_visualize_errors.bdocjs',\n",
       " 'large_legal_and_genia_legaleval_preamble_SpanLarge_epoch_2_predictions.tsv',\n",
       " 'large_legal_and_genia_legaleval_preamble_SpanLarge_epoch_3_visualize_errors.bdocjs',\n",
       " 'large_legal_and_genia_legaleval_preamble_SpanLarge_epoch_3_predictions.tsv',\n",
       " 'large_legal_and_genia_legaleval_preamble_SpanLarge_epoch_4_visualize_errors.bdocjs',\n",
       " 'large_legal_and_genia_legaleval_preamble_SpanLarge_epoch_4_predictions.tsv',\n",
       " 'large_legal_and_genia_legaleval_preamble_SpanLarge_epoch_5_visualize_errors.bdocjs',\n",
       " 'large_legal_and_genia_legaleval_preamble_SpanLarge_epoch_5_predictions.tsv',\n",
       " 'large_legal_and_genia_legaleval_preamble_SpanLarge_epoch_6_visualize_errors.bdocjs',\n",
       " 'large_legal_and_genia_legaleval_preamble_SpanLarge_epoch_6_predictions.tsv',\n",
       " 'large_legal_and_genia_legaleval_preamble_SpanLarge_epoch_7_visualize_errors.bdocjs',\n",
       " 'large_legal_and_genia_legaleval_preamble_SpanLarge_epoch_7_predictions.tsv',\n",
       " 'large_legal_and_genia_legaleval_preamble_SpanLarge_epoch_8_visualize_errors.bdocjs',\n",
       " 'large_legal_and_genia_legaleval_preamble_SpanLarge_epoch_8_predictions.tsv',\n",
       " 'large_legal_and_genia_legaleval_preamble_SpanLarge_epoch_9_visualize_errors.bdocjs',\n",
       " 'large_legal_and_genia_legaleval_preamble_SpanLarge_epoch_9_predictions.tsv',\n",
       " 'large_legal_and_genia_legaleval_preamble_SpanLarge_epoch_10_visualize_errors.bdocjs',\n",
       " 'large_legal_and_genia_legaleval_preamble_SpanLarge_epoch_10_predictions.tsv',\n",
       " 'large_legal_and_genia_legaleval_preamble_SpanLarge_epoch_11_visualize_errors.bdocjs',\n",
       " 'large_legal_and_genia_legaleval_preamble_SpanLarge_epoch_11_predictions.tsv',\n",
       " 'large_legal_and_genia_legaleval_preamble_SpanLarge_epoch_12_visualize_errors.bdocjs',\n",
       " 'large_legal_and_genia_legaleval_preamble_SpanLarge_epoch_12_predictions.tsv',\n",
       " 'large_legal_and_genia_legaleval_preamble_SpanLarge_epoch_13_visualize_errors.bdocjs',\n",
       " 'large_legal_and_genia_legaleval_preamble_SpanLarge_epoch_13_predictions.tsv',\n",
       " 'large_legal_and_genia_legaleval_preamble_SpanLarge_epoch_14_visualize_errors.bdocjs',\n",
       " 'large_legal_and_genia_legaleval_preamble_SpanLarge_epoch_14_predictions.tsv',\n",
       " 'large_legal_and_genia_genia_SeqLarge_epoch_0_visualize_errors.bdocjs',\n",
       " 'large_legal_and_genia_genia_SeqLarge_epoch_0_predictions.tsv',\n",
       " 'large_legal_and_genia_genia_SeqLarge_epoch_1_visualize_errors.bdocjs',\n",
       " 'large_legal_and_genia_genia_SeqLarge_epoch_1_predictions.tsv',\n",
       " 'large_legal_and_genia_genia_SeqLarge_epoch_2_visualize_errors.bdocjs',\n",
       " 'large_legal_and_genia_genia_SeqLarge_epoch_2_predictions.tsv',\n",
       " 'large_legal_and_genia_genia_SeqLarge_epoch_3_visualize_errors.bdocjs',\n",
       " 'large_legal_and_genia_genia_SeqLarge_epoch_3_predictions.tsv',\n",
       " 'large_legal_and_genia_genia_SeqLarge_epoch_4_visualize_errors.bdocjs',\n",
       " 'large_legal_and_genia_genia_SeqLarge_epoch_4_predictions.tsv',\n",
       " 'large_legal_and_genia_genia_SeqLarge_epoch_5_visualize_errors.bdocjs',\n",
       " 'large_legal_and_genia_genia_SeqLarge_epoch_5_predictions.tsv',\n",
       " 'large_legal_and_genia_genia_SeqLarge_epoch_6_visualize_errors.bdocjs',\n",
       " 'large_legal_and_genia_genia_SeqLarge_epoch_6_predictions.tsv',\n",
       " 'large_legal_and_genia_genia_SeqLarge_epoch_7_visualize_errors.bdocjs',\n",
       " 'large_legal_and_genia_genia_SeqLarge_epoch_7_predictions.tsv',\n",
       " 'large_legal_and_genia_genia_SeqLarge_epoch_8_visualize_errors.bdocjs',\n",
       " 'large_legal_and_genia_genia_SeqLarge_epoch_8_predictions.tsv',\n",
       " 'large_legal_and_genia_genia_SeqLarge_epoch_9_visualize_errors.bdocjs',\n",
       " 'large_legal_and_genia_genia_SeqLarge_epoch_9_predictions.tsv',\n",
       " 'large_legal_and_genia_genia_SeqLarge_epoch_10_visualize_errors.bdocjs',\n",
       " 'large_legal_and_genia_genia_SeqLarge_epoch_10_predictions.tsv',\n",
       " 'large_legal_and_genia_genia_SeqLarge_epoch_11_visualize_errors.bdocjs',\n",
       " 'large_legal_and_genia_genia_SeqLarge_epoch_11_predictions.tsv',\n",
       " 'large_legal_and_genia_genia_SeqLarge_epoch_12_visualize_errors.bdocjs',\n",
       " 'large_legal_and_genia_genia_SeqLarge_epoch_12_predictions.tsv',\n",
       " 'large_legal_and_genia_genia_SeqLarge_epoch_13_visualize_errors.bdocjs',\n",
       " 'large_legal_and_genia_genia_SeqLarge_epoch_13_predictions.tsv',\n",
       " 'large_legal_and_genia_genia_SeqLarge_epoch_14_visualize_errors.bdocjs',\n",
       " 'large_legal_and_genia_genia_SeqLarge_epoch_14_predictions.tsv',\n",
       " 'large_legal_and_genia_legaleval_judgement_SeqLarge_epoch_0_visualize_errors.bdocjs',\n",
       " 'large_legal_and_genia_legaleval_judgement_SeqLarge_epoch_0_predictions.tsv',\n",
       " 'large_legal_and_genia_legaleval_judgement_SeqLarge_epoch_1_visualize_errors.bdocjs',\n",
       " 'large_legal_and_genia_legaleval_judgement_SeqLarge_epoch_1_predictions.tsv',\n",
       " 'large_legal_and_genia_legaleval_judgement_SeqLarge_epoch_2_visualize_errors.bdocjs',\n",
       " 'large_legal_and_genia_legaleval_judgement_SeqLarge_epoch_2_predictions.tsv',\n",
       " 'large_legal_and_genia_legaleval_judgement_SeqLarge_epoch_3_visualize_errors.bdocjs',\n",
       " 'large_legal_and_genia_legaleval_judgement_SeqLarge_epoch_3_predictions.tsv',\n",
       " 'large_legal_and_genia_legaleval_judgement_SeqLarge_epoch_4_visualize_errors.bdocjs',\n",
       " 'large_legal_and_genia_legaleval_judgement_SeqLarge_epoch_5_visualize_errors.bdocjs',\n",
       " 'large_legal_and_genia_legaleval_judgement_SeqLarge_epoch_5_predictions.tsv',\n",
       " 'large_legal_and_genia_legaleval_judgement_SeqLarge_epoch_6_visualize_errors.bdocjs',\n",
       " 'large_legal_and_genia_legaleval_judgement_SeqLarge_epoch_6_predictions.tsv',\n",
       " 'large_legal_and_genia_legaleval_judgement_SeqLarge_epoch_7_visualize_errors.bdocjs',\n",
       " 'large_legal_and_genia_legaleval_judgement_SeqLarge_epoch_7_predictions.tsv',\n",
       " 'large_legal_and_genia_legaleval_judgement_SeqLarge_epoch_8_visualize_errors.bdocjs',\n",
       " 'large_legal_and_genia_legaleval_judgement_SeqLarge_epoch_8_predictions.tsv',\n",
       " 'large_legal_and_genia_legaleval_judgement_SeqLarge_epoch_9_visualize_errors.bdocjs',\n",
       " 'large_legal_and_genia_legaleval_judgement_SeqLarge_epoch_9_predictions.tsv',\n",
       " 'large_legal_and_genia_legaleval_judgement_SeqLarge_epoch_10_visualize_errors.bdocjs',\n",
       " 'large_legal_and_genia_legaleval_judgement_SeqLarge_epoch_10_predictions.tsv',\n",
       " 'large_legal_and_genia_legaleval_judgement_SeqLarge_epoch_11_visualize_errors.bdocjs',\n",
       " 'large_legal_and_genia_legaleval_judgement_SeqLarge_epoch_11_predictions.tsv',\n",
       " 'large_legal_and_genia_legaleval_judgement_SeqLarge_epoch_12_visualize_errors.bdocjs',\n",
       " 'large_legal_and_genia_legaleval_judgement_SeqLarge_epoch_12_predictions.tsv',\n",
       " 'large_legal_and_genia_legaleval_judgement_SeqLarge_epoch_13_visualize_errors.bdocjs',\n",
       " 'large_legal_and_genia_legaleval_judgement_SeqLarge_epoch_13_predictions.tsv',\n",
       " 'large_legal_and_genia_legaleval_judgement_SeqLarge_epoch_14_visualize_errors.bdocjs',\n",
       " 'large_legal_and_genia_legaleval_judgement_SeqLarge_epoch_14_predictions.tsv',\n",
       " 'large_legal_and_genia_legaleval_preamble_SeqLarge_epoch_0_visualize_errors.bdocjs',\n",
       " 'large_legal_and_genia_legaleval_preamble_SeqLarge_epoch_0_predictions.tsv',\n",
       " 'large_legal_and_genia_legaleval_preamble_SeqLarge_epoch_1_visualize_errors.bdocjs',\n",
       " 'large_legal_and_genia_legaleval_preamble_SeqLarge_epoch_1_predictions.tsv',\n",
       " 'large_legal_and_genia_legaleval_preamble_SeqLarge_epoch_2_visualize_errors.bdocjs',\n",
       " 'large_legal_and_genia_legaleval_preamble_SeqLarge_epoch_2_predictions.tsv',\n",
       " 'large_legal_and_genia_legaleval_preamble_SeqLarge_epoch_3_visualize_errors.bdocjs',\n",
       " 'large_legal_and_genia_legaleval_preamble_SeqLarge_epoch_3_predictions.tsv',\n",
       " 'large_legal_and_genia_legaleval_preamble_SeqLarge_epoch_4_visualize_errors.bdocjs',\n",
       " 'large_legal_and_genia_legaleval_preamble_SeqLarge_epoch_4_predictions.tsv',\n",
       " 'large_legal_and_genia_legaleval_preamble_SeqLarge_epoch_5_visualize_errors.bdocjs',\n",
       " 'large_legal_and_genia_legaleval_preamble_SeqLarge_epoch_5_predictions.tsv',\n",
       " 'large_legal_and_genia_legaleval_preamble_SeqLarge_epoch_6_visualize_errors.bdocjs',\n",
       " 'large_legal_and_genia_legaleval_preamble_SeqLarge_epoch_6_predictions.tsv',\n",
       " 'large_legal_and_genia_legaleval_preamble_SeqLarge_epoch_7_visualize_errors.bdocjs',\n",
       " 'large_legal_and_genia_legaleval_preamble_SeqLarge_epoch_7_predictions.tsv',\n",
       " 'large_legal_and_genia_legaleval_preamble_SeqLarge_epoch_8_visualize_errors.bdocjs',\n",
       " 'large_legal_and_genia_legaleval_preamble_SeqLarge_epoch_8_predictions.tsv',\n",
       " 'large_legal_and_genia_legaleval_preamble_SeqLarge_epoch_9_visualize_errors.bdocjs',\n",
       " 'large_legal_and_genia_legaleval_preamble_SeqLarge_epoch_9_predictions.tsv',\n",
       " 'large_legal_and_genia_legaleval_preamble_SeqLarge_epoch_10_visualize_errors.bdocjs',\n",
       " 'large_legal_and_genia_legaleval_preamble_SeqLarge_epoch_10_predictions.tsv',\n",
       " 'large_legal_and_genia_legaleval_preamble_SeqLarge_epoch_11_visualize_errors.bdocjs',\n",
       " 'large_legal_and_genia_legaleval_preamble_SeqLarge_epoch_11_predictions.tsv',\n",
       " 'large_legal_and_genia_legaleval_preamble_SeqLarge_epoch_12_visualize_errors.bdocjs',\n",
       " 'large_legal_and_genia_legaleval_preamble_SeqLarge_epoch_12_predictions.tsv',\n",
       " 'large_legal_and_genia_legaleval_preamble_SeqLarge_epoch_13_visualize_errors.bdocjs',\n",
       " 'large_legal_and_genia_legaleval_preamble_SeqLarge_epoch_13_predictions.tsv',\n",
       " 'large_legal_and_genia_legaleval_preamble_SeqLarge_epoch_14_visualize_errors.bdocjs',\n",
       " 'large_legal_and_genia_legaleval_preamble_SeqLarge_epoch_14_predictions.tsv',\n",
       " 'performance_large_legal_and_genia.csv',\n",
       " 'social_dis_ner_openai_output.json',\n",
       " 'social_dis_ner_openai_output_valid.json',\n",
       " 'social_dis_ner_openai_output_train_partial.json',\n",
       " 'batched_test_genia_BatchedBert_epoch_0_visualize_errors.bdocjs',\n",
       " 'batched_test_genia_BatchedBert_epoch_0_predictions.tsv',\n",
       " 'batched_test_genia_BatchedBert_epoch_1_visualize_errors.bdocjs',\n",
       " 'batched_test_genia_BatchedBert_epoch_1_predictions.tsv',\n",
       " 'batched_test_genia_BatchedBert_epoch_2_visualize_errors.bdocjs',\n",
       " 'batched_test_genia_BatchedBert_epoch_2_predictions.tsv',\n",
       " 'batched_test_genia_BatchedBert_epoch_3_visualize_errors.bdocjs',\n",
       " 'batched_test_genia_BatchedBert_epoch_3_predictions.tsv',\n",
       " 'batched_test_genia_BatchedBert_epoch_4_visualize_errors.bdocjs',\n",
       " 'batched_test_genia_BatchedBert_epoch_4_predictions.tsv',\n",
       " 'batched_test_genia_BatchedBert_epoch_5_visualize_errors.bdocjs',\n",
       " 'batched_test_genia_BatchedBert_epoch_5_predictions.tsv',\n",
       " 'batched_test_genia_BatchedBert_epoch_6_visualize_errors.bdocjs',\n",
       " 'batched_test_genia_BatchedBert_epoch_6_predictions.tsv',\n",
       " 'batched_test_genia_BatchedBert_epoch_7_visualize_errors.bdocjs',\n",
       " 'batched_test_genia_BatchedBert_epoch_7_predictions.tsv',\n",
       " 'batched_test_genia_BatchedBert_epoch_8_visualize_errors.bdocjs',\n",
       " 'batched_test_genia_BatchedBert_epoch_8_predictions.tsv',\n",
       " 'batched_test_genia_BatchedBert_epoch_9_visualize_errors.bdocjs',\n",
       " 'batched_test_genia_BatchedBert_epoch_9_predictions.tsv',\n",
       " 'batched_test_genia_BatchedBert_epoch_10_visualize_errors.bdocjs',\n",
       " 'batched_test_genia_BatchedBert_epoch_10_predictions.tsv',\n",
       " 'batched_test_genia_BatchedBert_epoch_11_visualize_errors.bdocjs',\n",
       " 'batched_test_genia_BatchedBert_epoch_11_predictions.tsv',\n",
       " 'batched_test_genia_BatchedBert_epoch_12_visualize_errors.bdocjs',\n",
       " 'batched_test_genia_BatchedBert_epoch_12_predictions.tsv',\n",
       " 'batched_test_genia_BatchedBert_epoch_13_visualize_errors.bdocjs',\n",
       " 'batched_test_genia_BatchedBert_epoch_13_predictions.tsv',\n",
       " 'batched_test_genia_BatchedBert_epoch_14_visualize_errors.bdocjs',\n",
       " 'batched_test_genia_BatchedBert_epoch_14_predictions.tsv',\n",
       " 'performance_batched_test.csv',\n",
       " 'batched_biomedical_base_living_ner_BatchedBertSpanish_epoch_0_visualize_errors.bdocjs',\n",
       " 'batched_biomedical_base_living_ner_BatchedBertSpanish_epoch_0_predictions.tsv',\n",
       " 'batched_biomedical_base_living_ner_BatchedBertSpanish_epoch_1_visualize_errors.bdocjs',\n",
       " 'batched_biomedical_base_living_ner_BatchedBertSpanish_epoch_1_predictions.tsv',\n",
       " 'batched_biomedical_base_living_ner_BatchedBertSpanish_epoch_2_visualize_errors.bdocjs',\n",
       " 'batched_biomedical_base_living_ner_BatchedBertSpanish_epoch_2_predictions.tsv',\n",
       " 'batched_biomedical_base_living_ner_BatchedBertSpanish_epoch_3_visualize_errors.bdocjs',\n",
       " 'batched_biomedical_base_living_ner_BatchedBertSpanish_epoch_3_predictions.tsv',\n",
       " 'batched_biomedical_base_living_ner_BatchedBertSpanish_epoch_4_visualize_errors.bdocjs',\n",
       " 'batched_biomedical_base_living_ner_BatchedBertSpanish_epoch_4_predictions.tsv',\n",
       " 'batched_biomedical_base_genia_BatchedBert_epoch_0_visualize_errors.bdocjs',\n",
       " 'batched_biomedical_base_genia_BatchedBert_epoch_0_predictions.tsv',\n",
       " 'batched_biomedical_base_genia_BatchedBert_epoch_1_visualize_errors.bdocjs',\n",
       " 'batched_biomedical_base_genia_BatchedBert_epoch_1_predictions.tsv',\n",
       " 'batched_biomedical_base_genia_BatchedBert_epoch_2_visualize_errors.bdocjs',\n",
       " 'batched_biomedical_base_genia_BatchedBert_epoch_2_predictions.tsv',\n",
       " 'batched_biomedical_base_genia_BatchedBert_epoch_3_visualize_errors.bdocjs',\n",
       " 'batched_biomedical_base_genia_BatchedBert_epoch_3_predictions.tsv',\n",
       " 'batched_biomedical_base_genia_BatchedBert_epoch_4_visualize_errors.bdocjs',\n",
       " 'batched_biomedical_base_genia_BatchedBert_epoch_4_predictions.tsv',\n",
       " 'batched_biomedical_base_social_dis_ner_BatchedBertSpanish_epoch_0_visualize_errors.bdocjs',\n",
       " 'batched_biomedical_base_social_dis_ner_BatchedBertSpanish_epoch_0_predictions.tsv',\n",
       " 'batched_biomedical_base_social_dis_ner_BatchedBertSpanish_epoch_1_visualize_errors.bdocjs',\n",
       " 'batched_biomedical_base_social_dis_ner_BatchedBertSpanish_epoch_1_predictions.tsv',\n",
       " 'batched_biomedical_base_social_dis_ner_BatchedBertSpanish_epoch_2_visualize_errors.bdocjs',\n",
       " 'batched_biomedical_base_social_dis_ner_BatchedBertSpanish_epoch_2_predictions.tsv',\n",
       " 'batched_biomedical_base_social_dis_ner_BatchedBertSpanish_epoch_3_visualize_errors.bdocjs',\n",
       " 'batched_biomedical_base_social_dis_ner_BatchedBertSpanish_epoch_3_predictions.tsv',\n",
       " 'batched_biomedical_base_social_dis_ner_BatchedBertSpanish_epoch_4_visualize_errors.bdocjs',\n",
       " 'batched_biomedical_base_social_dis_ner_BatchedBertSpanish_epoch_4_predictions.tsv',\n",
       " 'batched_biomedical_base_social_dis_ner_BatchedBertSpanish_epoch_5_visualize_errors.bdocjs',\n",
       " 'batched_biomedical_base_social_dis_ner_BatchedBertSpanish_epoch_5_predictions.tsv',\n",
       " 'batched_biomedical_base_social_dis_ner_BatchedBertSpanish_epoch_6_visualize_errors.bdocjs',\n",
       " 'batched_biomedical_base_social_dis_ner_BatchedBertSpanish_epoch_6_predictions.tsv',\n",
       " 'batched_biomedical_base_social_dis_ner_BatchedBertSpanish_epoch_7_visualize_errors.bdocjs',\n",
       " 'batched_biomedical_base_social_dis_ner_BatchedBertSpanish_epoch_7_predictions.tsv',\n",
       " 'batched_biomedical_base_social_dis_ner_BatchedBertSpanish_epoch_8_visualize_errors.bdocjs',\n",
       " 'batched_biomedical_base_social_dis_ner_BatchedBertSpanish_epoch_8_predictions.tsv',\n",
       " 'batched_biomedical_base_social_dis_ner_BatchedBertSpanish_epoch_9_visualize_errors.bdocjs',\n",
       " 'batched_biomedical_base_social_dis_ner_BatchedBertSpanish_epoch_9_predictions.tsv',\n",
       " 'batched_biomedical_base_social_dis_ner_BatchedBertSpanish_epoch_10_visualize_errors.bdocjs',\n",
       " 'batched_biomedical_base_social_dis_ner_BatchedBertSpanish_epoch_10_predictions.tsv',\n",
       " 'batched_biomedical_base_social_dis_ner_BatchedBertSpanish_epoch_11_visualize_errors.bdocjs',\n",
       " 'batched_biomedical_base_social_dis_ner_BatchedBertSpanish_epoch_11_predictions.tsv',\n",
       " 'batched_biomedical_base_social_dis_ner_BatchedBertSpanish_epoch_12_visualize_errors.bdocjs',\n",
       " 'batched_biomedical_base_social_dis_ner_BatchedBertSpanish_epoch_12_predictions.tsv',\n",
       " 'batched_biomedical_base_social_dis_ner_BatchedBertSpanish_epoch_13_visualize_errors.bdocjs',\n",
       " 'batched_biomedical_base_social_dis_ner_BatchedBertSpanish_epoch_13_predictions.tsv',\n",
       " 'batched_biomedical_base_social_dis_ner_BatchedBertSpanish_epoch_14_visualize_errors.bdocjs',\n",
       " 'batched_biomedical_base_social_dis_ner_BatchedBertSpanish_epoch_14_predictions.tsv',\n",
       " 'performance_batched_biomedical_base.csv',\n",
       " 'social_dis_ner_openai_output_train.json',\n",
       " 'gpt_experiment_base_social_dis_ner_gpt_BatchedBertSpanish_epoch_0_visualize_errors.bdocjs',\n",
       " 'gpt_experiment_base_social_dis_ner_gpt_BatchedBertSpanish_epoch_0_predictions.tsv',\n",
       " 'gpt_experiment_base_social_dis_ner_gpt_BatchedBertSpanish_epoch_1_visualize_errors.bdocjs',\n",
       " 'gpt_experiment_base_social_dis_ner_gpt_BatchedBertSpanish_epoch_1_predictions.tsv',\n",
       " 'gpt_experiment_base_social_dis_ner_gpt_BatchedBertSpanish_epoch_2_visualize_errors.bdocjs',\n",
       " 'gpt_experiment_base_social_dis_ner_gpt_BatchedBertSpanish_epoch_2_predictions.tsv',\n",
       " 'gpt_experiment_base_social_dis_ner_gpt_BatchedBertSpanish_epoch_3_visualize_errors.bdocjs',\n",
       " 'gpt_experiment_base_social_dis_ner_gpt_BatchedBertSpanish_epoch_3_predictions.tsv',\n",
       " 'gpt_experiment_base_social_dis_ner_gpt_BatchedBertSpanish_epoch_4_visualize_errors.bdocjs',\n",
       " 'gpt_experiment_base_social_dis_ner_gpt_BatchedBertSpanish_epoch_4_predictions.tsv',\n",
       " 'gpt_experiment_base_social_dis_ner_gpt_BatchedBertSpanish_epoch_5_visualize_errors.bdocjs',\n",
       " 'gpt_experiment_base_social_dis_ner_gpt_BatchedBertSpanish_epoch_5_predictions.tsv',\n",
       " 'gpt_experiment_base_social_dis_ner_gpt_BatchedBertSpanish_epoch_6_visualize_errors.bdocjs',\n",
       " 'gpt_experiment_base_social_dis_ner_gpt_BatchedBertSpanish_epoch_6_predictions.tsv',\n",
       " 'gpt_experiment_base_social_dis_ner_gpt_BatchedBertSpanish_epoch_7_visualize_errors.bdocjs',\n",
       " 'gpt_experiment_base_social_dis_ner_gpt_BatchedBertSpanish_epoch_7_predictions.tsv',\n",
       " 'gpt_experiment_base_social_dis_ner_gpt_BatchedBertSpanish_epoch_8_visualize_errors.bdocjs',\n",
       " 'gpt_experiment_base_social_dis_ner_gpt_BatchedBertSpanish_epoch_8_predictions.tsv',\n",
       " 'gpt_experiment_base_social_dis_ner_gpt_BatchedBertSpanish_epoch_9_visualize_errors.bdocjs',\n",
       " 'gpt_experiment_base_social_dis_ner_gpt_BatchedBertSpanish_epoch_9_predictions.tsv',\n",
       " 'gpt_experiment_base_social_dis_ner_gpt_BatchedBertSpanish_epoch_10_visualize_errors.bdocjs',\n",
       " 'gpt_experiment_base_social_dis_ner_gpt_BatchedBertSpanish_epoch_10_predictions.tsv',\n",
       " 'gpt_experiment_base_social_dis_ner_gpt_BatchedBertSpanish_epoch_11_visualize_errors.bdocjs',\n",
       " 'gpt_experiment_base_social_dis_ner_gpt_BatchedBertSpanish_epoch_11_predictions.tsv',\n",
       " 'gpt_experiment_base_social_dis_ner_gpt_BatchedBertSpanish_epoch_12_visualize_errors.bdocjs',\n",
       " 'gpt_experiment_base_social_dis_ner_gpt_BatchedBertSpanish_epoch_12_predictions.tsv',\n",
       " 'gpt_experiment_base_social_dis_ner_gpt_BatchedBertSpanish_epoch_13_visualize_errors.bdocjs',\n",
       " 'gpt_experiment_base_social_dis_ner_gpt_BatchedBertSpanish_epoch_13_predictions.tsv',\n",
       " 'gpt_experiment_base_social_dis_ner_gpt_BatchedBertSpanish_epoch_14_visualize_errors.bdocjs',\n",
       " 'gpt_experiment_base_social_dis_ner_gpt_BatchedBertSpanish_epoch_14_predictions.tsv',\n",
       " 'performance_gpt_experiment_base.csv',\n",
       " 'mingyou-relation-extraction.zip',\n",
       " 'gpt_experiment_large_social_dis_ner_SeqBatchedRobertaLarge_epoch_0_visualize_errors.bdocjs',\n",
       " 'gpt_experiment_large_social_dis_ner_SeqBatchedRobertaLarge_epoch_0_predictions.tsv',\n",
       " 'gpt_experiment_large_social_dis_ner_SeqBatchedRobertaLarge_epoch_1_visualize_errors.bdocjs',\n",
       " 'gpt_experiment_large_social_dis_ner_SeqBatchedRobertaLarge_epoch_1_predictions.tsv',\n",
       " 'gpt_experiment_large_social_dis_ner_SeqBatchedRobertaLarge_epoch_2_visualize_errors.bdocjs',\n",
       " 'gpt_experiment_large_social_dis_ner_SeqBatchedRobertaLarge_epoch_2_predictions.tsv',\n",
       " 'gpt_experiment_large_social_dis_ner_SeqBatchedRobertaLarge_epoch_3_visualize_errors.bdocjs',\n",
       " 'gpt_experiment_large_social_dis_ner_SeqBatchedRobertaLarge_epoch_3_predictions.tsv',\n",
       " 'gpt_experiment_large_social_dis_ner_SeqBatchedRobertaLarge_epoch_4_visualize_errors.bdocjs',\n",
       " 'gpt_experiment_large_social_dis_ner_SeqBatchedRobertaLarge_epoch_4_predictions.tsv',\n",
       " 'gpt_experiment_large_social_dis_ner_SeqBatchedRobertaLarge_epoch_5_visualize_errors.bdocjs',\n",
       " 'gpt_experiment_large_social_dis_ner_SeqBatchedRobertaLarge_epoch_5_predictions.tsv',\n",
       " 'gpt_experiment_large_social_dis_ner_SeqBatchedRobertaLarge_epoch_6_visualize_errors.bdocjs',\n",
       " 'gpt_experiment_large_social_dis_ner_SeqBatchedRobertaLarge_epoch_6_predictions.tsv',\n",
       " 'gpt_experiment_large_social_dis_ner_SeqBatchedRobertaLarge_epoch_7_visualize_errors.bdocjs',\n",
       " 'gpt_experiment_large_social_dis_ner_SeqBatchedRobertaLarge_epoch_7_predictions.tsv',\n",
       " 'gpt_experiment_large_social_dis_ner_SeqBatchedRobertaLarge_epoch_8_visualize_errors.bdocjs',\n",
       " 'gpt_experiment_large_social_dis_ner_SeqBatchedRobertaLarge_epoch_8_predictions.tsv',\n",
       " 'gpt_experiment_large_social_dis_ner_SeqBatchedRobertaLarge_epoch_9_visualize_errors.bdocjs',\n",
       " 'gpt_experiment_large_social_dis_ner_SeqBatchedRobertaLarge_epoch_9_predictions.tsv',\n",
       " 'gpt_experiment_large_social_dis_ner_SeqBatchedRobertaLarge_epoch_10_visualize_errors.bdocjs',\n",
       " 'gpt_experiment_large_social_dis_ner_SeqBatchedRobertaLarge_epoch_10_predictions.tsv',\n",
       " 'gpt_experiment_large_social_dis_ner_SeqBatchedRobertaLarge_epoch_11_visualize_errors.bdocjs',\n",
       " 'gpt_experiment_large_social_dis_ner_SeqBatchedRobertaLarge_epoch_11_predictions.tsv',\n",
       " 'gpt_experiment_large_social_dis_ner_SeqBatchedRobertaLarge_epoch_12_visualize_errors.bdocjs',\n",
       " 'gpt_experiment_large_social_dis_ner_SeqBatchedRobertaLarge_epoch_12_predictions.tsv',\n",
       " 'gpt_experiment_large_social_dis_ner_SeqBatchedRobertaLarge_epoch_13_visualize_errors.bdocjs',\n",
       " 'gpt_experiment_large_social_dis_ner_SeqBatchedRobertaLarge_epoch_13_predictions.tsv',\n",
       " 'gpt_experiment_large_social_dis_ner_SeqBatchedRobertaLarge_epoch_14_visualize_errors.bdocjs',\n",
       " 'gpt_experiment_large_social_dis_ner_SeqBatchedRobertaLarge_epoch_14_predictions.tsv',\n",
       " 'performance_gpt_experiment_large.csv',\n",
       " 'gpt_experiment_base_special_token_social_dis_ner_SeqLabelBatchedNoTokenizationBase_epoch_0_visualize_errors.bdocjs',\n",
       " 'gpt_experiment_base_special_token_social_dis_ner_SeqLabelBatchedNoTokenizationBase_epoch_0_predictions.tsv',\n",
       " 'gpt_experiment_base_special_token_social_dis_ner_SeqLabelBatchedNoTokenizationBase_epoch_1_visualize_errors.bdocjs',\n",
       " 'gpt_experiment_base_special_token_social_dis_ner_SeqLabelBatchedNoTokenizationBase_epoch_1_predictions.tsv',\n",
       " 'performance_gpt_experiment_base_special_token.csv',\n",
       " 'gpt_experiment_large_special_token_social_dis_ner_SeqLabelBatchedNoTokenizationLarge_epoch_0_visualize_errors.bdocjs',\n",
       " 'gpt_experiment_large_special_token_social_dis_ner_SeqLabelBatchedNoTokenizationLarge_epoch_0_predictions.tsv',\n",
       " 'gpt_experiment_large_special_token_social_dis_ner_SeqLabelBatchedNoTokenizationLarge_epoch_1_visualize_errors.bdocjs',\n",
       " 'gpt_experiment_large_special_token_social_dis_ner_SeqLabelBatchedNoTokenizationLarge_epoch_1_predictions.tsv',\n",
       " 'gpt_experiment_large_special_token_social_dis_ner_SeqLabelBatchedNoTokenizationLarge_epoch_2_visualize_errors.bdocjs',\n",
       " 'gpt_experiment_large_special_token_social_dis_ner_SeqLabelBatchedNoTokenizationLarge_epoch_2_predictions.tsv',\n",
       " 'gpt_experiment_large_special_token_social_dis_ner_SeqLabelBatchedNoTokenizationLarge_epoch_3_visualize_errors.bdocjs',\n",
       " 'gpt_experiment_large_special_token_social_dis_ner_SeqLabelBatchedNoTokenizationLarge_epoch_3_predictions.tsv',\n",
       " 'gpt_experiment_large_special_token_social_dis_ner_SeqLabelBatchedNoTokenizationLarge_epoch_4_visualize_errors.bdocjs',\n",
       " 'gpt_experiment_large_special_token_social_dis_ner_SeqLabelBatchedNoTokenizationLarge_epoch_4_predictions.tsv',\n",
       " 'gpt_experiment_large_special_token_social_dis_ner_SeqLabelBatchedNoTokenizationLarge_epoch_5_visualize_errors.bdocjs',\n",
       " 'gpt_experiment_large_special_token_social_dis_ner_SeqLabelBatchedNoTokenizationLarge_epoch_5_predictions.tsv',\n",
       " 'gpt_experiment_large_special_token_social_dis_ner_SeqLabelBatchedNoTokenizationLarge_epoch_6_visualize_errors.bdocjs',\n",
       " 'gpt_experiment_large_special_token_social_dis_ner_SeqLabelBatchedNoTokenizationLarge_epoch_6_predictions.tsv',\n",
       " 'gpt_experiment_large_special_token_social_dis_ner_SeqLabelBatchedNoTokenizationLarge_epoch_7_visualize_errors.bdocjs',\n",
       " 'gpt_experiment_large_special_token_social_dis_ner_SeqLabelBatchedNoTokenizationLarge_epoch_7_predictions.tsv',\n",
       " 'gpt_experiment_large_special_token_social_dis_ner_SeqLabelBatchedNoTokenizationLarge_epoch_8_visualize_errors.bdocjs',\n",
       " 'gpt_experiment_large_special_token_social_dis_ner_SeqLabelBatchedNoTokenizationLarge_epoch_8_predictions.tsv',\n",
       " 'gpt_experiment_large_special_token_social_dis_ner_SeqLabelBatchedNoTokenizationLarge_epoch_9_visualize_errors.bdocjs',\n",
       " 'gpt_experiment_large_special_token_social_dis_ner_SeqLabelBatchedNoTokenizationLarge_epoch_9_predictions.tsv',\n",
       " 'gpt_experiment_large_special_token_social_dis_ner_SeqLabelBatchedNoTokenizationLarge_epoch_10_visualize_errors.bdocjs',\n",
       " 'gpt_experiment_large_special_token_social_dis_ner_SeqLabelBatchedNoTokenizationLarge_epoch_10_predictions.tsv',\n",
       " 'gpt_experiment_large_special_token_social_dis_ner_SeqLabelBatchedNoTokenizationLarge_epoch_11_visualize_errors.bdocjs',\n",
       " 'gpt_experiment_large_special_token_social_dis_ner_SeqLabelBatchedNoTokenizationLarge_epoch_11_predictions.tsv',\n",
       " 'gpt_experiment_large_special_token_social_dis_ner_SeqLabelBatchedNoTokenizationLarge_epoch_12_visualize_errors.bdocjs',\n",
       " 'gpt_experiment_large_special_token_social_dis_ner_SeqLabelBatchedNoTokenizationLarge_epoch_12_predictions.tsv',\n",
       " 'gpt_experiment_large_special_token_social_dis_ner_SeqLabelBatchedNoTokenizationLarge_epoch_13_visualize_errors.bdocjs',\n",
       " 'gpt_experiment_large_special_token_social_dis_ner_SeqLabelBatchedNoTokenizationLarge_epoch_13_predictions.tsv',\n",
       " 'gpt_experiment_large_special_token_social_dis_ner_SeqLabelBatchedNoTokenizationLarge_epoch_14_visualize_errors.bdocjs',\n",
       " 'gpt_experiment_large_special_token_social_dis_ner_SeqLabelBatchedNoTokenizationLarge_epoch_14_predictions.tsv',\n",
       " 'performance_gpt_experiment_large_special_token.csv',\n",
       " 'social_dis_ner_no_custom_tokenization_social_dis_ner_SeqLabelBatchedNoTokenizationLarge_epoch_0_visualize_errors.bdocjs',\n",
       " 'social_dis_ner_no_custom_tokenization_social_dis_ner_SeqLabelBatchedNoTokenizationLarge_epoch_0_predictions.tsv',\n",
       " 'social_dis_ner_no_custom_tokenization_social_dis_ner_SeqLabelBatchedNoTokenizationLarge_epoch_1_visualize_errors.bdocjs',\n",
       " 'social_dis_ner_no_custom_tokenization_social_dis_ner_SeqLabelBatchedNoTokenizationLarge_epoch_1_predictions.tsv',\n",
       " 'social_dis_ner_no_custom_tokenization_social_dis_ner_SeqLabelBatchedNoTokenizationLarge_epoch_2_visualize_errors.bdocjs',\n",
       " 'social_dis_ner_no_custom_tokenization_social_dis_ner_SeqLabelBatchedNoTokenizationLarge_epoch_2_predictions.tsv',\n",
       " 'social_dis_ner_no_custom_tokenization_social_dis_ner_SeqLabelBatchedNoTokenizationLarge_epoch_3_visualize_errors.bdocjs',\n",
       " 'social_dis_ner_no_custom_tokenization_social_dis_ner_SeqLabelBatchedNoTokenizationLarge_epoch_3_predictions.tsv',\n",
       " 'social_dis_ner_no_custom_tokenization_social_dis_ner_SeqLabelBatchedNoTokenizationLarge_epoch_4_visualize_errors.bdocjs',\n",
       " 'social_dis_ner_no_custom_tokenization_social_dis_ner_SeqLabelBatchedNoTokenizationLarge_epoch_4_predictions.tsv',\n",
       " 'social_dis_ner_no_custom_tokenization_social_dis_ner_SeqLabelBatchedNoTokenizationLarge_epoch_5_visualize_errors.bdocjs',\n",
       " 'social_dis_ner_no_custom_tokenization_social_dis_ner_SeqLabelBatchedNoTokenizationLarge_epoch_5_predictions.tsv',\n",
       " 'social_dis_ner_no_custom_tokenization_social_dis_ner_SeqLabelBatchedNoTokenizationLarge_epoch_6_visualize_errors.bdocjs',\n",
       " 'social_dis_ner_no_custom_tokenization_social_dis_ner_SeqLabelBatchedNoTokenizationLarge_epoch_6_predictions.tsv',\n",
       " 'social_dis_ner_no_custom_tokenization_social_dis_ner_SeqLabelBatchedNoTokenizationLarge_epoch_7_visualize_errors.bdocjs',\n",
       " 'social_dis_ner_no_custom_tokenization_social_dis_ner_SeqLabelBatchedNoTokenizationLarge_epoch_7_predictions.tsv',\n",
       " 'social_dis_ner_no_custom_tokenization_social_dis_ner_SeqLabelBatchedNoTokenizationLarge_epoch_8_visualize_errors.bdocjs',\n",
       " 'social_dis_ner_no_custom_tokenization_social_dis_ner_SeqLabelBatchedNoTokenizationLarge_epoch_8_predictions.tsv',\n",
       " 'social_dis_ner_no_custom_tokenization_social_dis_ner_SeqLabelBatchedNoTokenizationLarge_epoch_9_visualize_errors.bdocjs',\n",
       " 'social_dis_ner_no_custom_tokenization_social_dis_ner_SeqLabelBatchedNoTokenizationLarge_epoch_9_predictions.tsv',\n",
       " 'social_dis_ner_no_custom_tokenization_social_dis_ner_SeqLabelBatchedNoTokenizationLarge_epoch_10_visualize_errors.bdocjs',\n",
       " 'social_dis_ner_no_custom_tokenization_social_dis_ner_SeqLabelBatchedNoTokenizationLarge_epoch_10_predictions.tsv',\n",
       " 'social_dis_ner_no_custom_tokenization_social_dis_ner_SeqLabelBatchedNoTokenizationLarge_epoch_11_visualize_errors.bdocjs',\n",
       " 'social_dis_ner_no_custom_tokenization_social_dis_ner_SeqLabelBatchedNoTokenizationLarge_epoch_11_predictions.tsv',\n",
       " 'social_dis_ner_no_custom_tokenization_social_dis_ner_SeqLabelBatchedNoTokenizationLarge_epoch_12_visualize_errors.bdocjs',\n",
       " 'social_dis_ner_no_custom_tokenization_social_dis_ner_SeqLabelBatchedNoTokenizationLarge_epoch_12_predictions.tsv',\n",
       " 'social_dis_ner_no_custom_tokenization_social_dis_ner_SeqLabelBatchedNoTokenizationLarge_epoch_13_visualize_errors.bdocjs',\n",
       " 'social_dis_ner_no_custom_tokenization_social_dis_ner_SeqLabelBatchedNoTokenizationLarge_epoch_13_predictions.tsv',\n",
       " 'performance_social_dis_ner_no_custom_tokenization.csv',\n",
       " 'gpt_experiment_base_special_token_span_social_dis_ner_SpanBatchedNoTokenizationBase_epoch_0_visualize_errors.bdocjs',\n",
       " 'gpt_experiment_base_special_token_span_social_dis_ner_SpanBatchedNoTokenizationBase_epoch_0_predictions.tsv',\n",
       " 'gpt_experiment_base_special_token_span_social_dis_ner_SpanBatchedNoTokenizationBase_epoch_1_visualize_errors.bdocjs',\n",
       " 'gpt_experiment_base_special_token_span_social_dis_ner_SpanBatchedNoTokenizationBase_epoch_1_predictions.tsv',\n",
       " 'gpt_experiment_base_special_token_span_social_dis_ner_SpanBatchedNoTokenizationBase_epoch_2_visualize_errors.bdocjs',\n",
       " 'gpt_experiment_base_special_token_span_social_dis_ner_SpanBatchedNoTokenizationBase_epoch_2_predictions.tsv',\n",
       " 'gpt_experiment_base_special_token_span_social_dis_ner_SpanBatchedNoTokenizationBaseSpanish_epoch_0_visualize_errors.bdocjs',\n",
       " 'gpt_experiment_base_special_token_span_social_dis_ner_SpanBatchedNoTokenizationBaseSpanish_epoch_0_predictions.tsv',\n",
       " 'gpt_experiment_base_special_token_span_social_dis_ner_SpanBatchedNoTokenizationBaseSpanish_epoch_1_visualize_errors.bdocjs',\n",
       " 'gpt_experiment_base_special_token_span_social_dis_ner_SpanBatchedNoTokenizationBaseSpanish_epoch_1_predictions.tsv',\n",
       " 'gpt_experiment_base_special_token_span_social_dis_ner_SpanBatchedNoTokenizationBaseSpanish_epoch_2_visualize_errors.bdocjs',\n",
       " 'gpt_experiment_base_special_token_span_social_dis_ner_SpanBatchedNoTokenizationBaseSpanish_epoch_2_predictions.tsv',\n",
       " 'gpt_experiment_base_special_token_span_social_dis_ner_SpanBatchedNoTokenizationBaseSpanish_epoch_3_visualize_errors.bdocjs',\n",
       " 'gpt_experiment_base_special_token_span_social_dis_ner_SpanBatchedNoTokenizationBaseSpanish_epoch_3_predictions.tsv',\n",
       " 'gpt_experiment_base_special_token_span_social_dis_ner_SpanBatchedNoTokenizationBaseSpanish_epoch_4_visualize_errors.bdocjs',\n",
       " 'gpt_experiment_base_special_token_span_social_dis_ner_SpanBatchedNoTokenizationBaseSpanish_epoch_4_predictions.tsv',\n",
       " 'gpt_experiment_base_special_token_span_social_dis_ner_SpanBatchedNoTokenizationBaseSpanish_epoch_5_visualize_errors.bdocjs',\n",
       " 'gpt_experiment_base_special_token_span_social_dis_ner_SpanBatchedNoTokenizationBaseSpanish_epoch_5_predictions.tsv',\n",
       " 'gpt_experiment_base_special_token_span_social_dis_ner_SpanBatchedNoTokenizationBaseSpanish_epoch_6_visualize_errors.bdocjs',\n",
       " 'gpt_experiment_base_special_token_span_social_dis_ner_SpanBatchedNoTokenizationBaseSpanish_epoch_6_predictions.tsv',\n",
       " 'gpt_experiment_base_special_token_span_social_dis_ner_SpanBatchedNoTokenizationBaseSpanish_epoch_7_visualize_errors.bdocjs',\n",
       " 'gpt_experiment_base_special_token_span_social_dis_ner_SpanBatchedNoTokenizationBaseSpanish_epoch_7_predictions.tsv',\n",
       " 'gpt_experiment_base_special_token_span_social_dis_ner_SpanBatchedNoTokenizationBaseSpanish_epoch_8_visualize_errors.bdocjs',\n",
       " 'gpt_experiment_base_special_token_span_social_dis_ner_SpanBatchedNoTokenizationBaseSpanish_epoch_8_predictions.tsv',\n",
       " 'gpt_experiment_base_special_token_span_social_dis_ner_SpanBatchedNoTokenizationBaseSpanish_epoch_9_visualize_errors.bdocjs',\n",
       " 'gpt_experiment_base_special_token_span_social_dis_ner_SpanBatchedNoTokenizationBaseSpanish_epoch_9_predictions.tsv',\n",
       " 'gpt_experiment_base_special_token_span_social_dis_ner_SpanBatchedNoTokenizationBaseSpanish_epoch_10_visualize_errors.bdocjs',\n",
       " 'gpt_experiment_base_special_token_span_social_dis_ner_SpanBatchedNoTokenizationBaseSpanish_epoch_10_predictions.tsv',\n",
       " 'gpt_experiment_base_special_token_span_social_dis_ner_SpanBatchedNoTokenizationBaseSpanish_epoch_11_visualize_errors.bdocjs',\n",
       " 'gpt_experiment_base_special_token_span_social_dis_ner_SpanBatchedNoTokenizationBaseSpanish_epoch_11_predictions.tsv',\n",
       " 'gpt_experiment_base_special_token_span_social_dis_ner_SpanBatchedNoTokenizationBaseSpanish_epoch_12_visualize_errors.bdocjs',\n",
       " 'gpt_experiment_base_special_token_span_social_dis_ner_SpanBatchedNoTokenizationBaseSpanish_epoch_12_predictions.tsv',\n",
       " 'gpt_experiment_base_special_token_span_social_dis_ner_SpanBatchedNoTokenizationBaseSpanish_epoch_13_visualize_errors.bdocjs',\n",
       " 'gpt_experiment_base_special_token_span_social_dis_ner_SpanBatchedNoTokenizationBaseSpanish_epoch_13_predictions.tsv',\n",
       " 'gpt_experiment_base_special_token_span_social_dis_ner_SpanBatchedNoTokenizationBaseSpanish_epoch_14_visualize_errors.bdocjs',\n",
       " 'gpt_experiment_base_special_token_span_social_dis_ner_SpanBatchedNoTokenizationBaseSpanish_epoch_14_predictions.tsv',\n",
       " 'performance_gpt_experiment_base_special_token_span.csv',\n",
       " 'gpt_experiment_large_special_token_span_social_dis_ner_SpanBatchedNoTokenizationLargeSpanish_epoch_0_visualize_errors.bdocjs',\n",
       " 'gpt_experiment_large_special_token_span_social_dis_ner_SpanBatchedNoTokenizationLargeSpanish_epoch_0_predictions.tsv',\n",
       " 'gpt_experiment_large_special_token_span_social_dis_ner_SpanBatchedNoTokenizationLargeSpanish_epoch_1_visualize_errors.bdocjs',\n",
       " 'gpt_experiment_large_special_token_span_social_dis_ner_SpanBatchedNoTokenizationLargeSpanish_epoch_1_predictions.tsv',\n",
       " 'gpt_experiment_large_special_token_span_social_dis_ner_SpanBatchedNoTokenizationLargeSpanish_epoch_2_visualize_errors.bdocjs',\n",
       " 'gpt_experiment_large_special_token_span_social_dis_ner_SpanBatchedNoTokenizationLargeSpanish_epoch_2_predictions.tsv',\n",
       " 'gpt_experiment_large_special_token_span_social_dis_ner_SpanBatchedNoTokenizationLargeSpanish_epoch_3_visualize_errors.bdocjs',\n",
       " 'gpt_experiment_large_special_token_span_social_dis_ner_SpanBatchedNoTokenizationLargeSpanish_epoch_3_predictions.tsv',\n",
       " 'gpt_experiment_large_special_token_span_social_dis_ner_SpanBatchedNoTokenizationLargeSpanish_epoch_4_visualize_errors.bdocjs',\n",
       " 'gpt_experiment_large_special_token_span_social_dis_ner_SpanBatchedNoTokenizationLargeSpanish_epoch_4_predictions.tsv',\n",
       " 'gpt_experiment_large_special_token_span_social_dis_ner_SpanBatchedNoTokenizationLargeSpanish_epoch_5_visualize_errors.bdocjs',\n",
       " 'gpt_experiment_large_special_token_span_social_dis_ner_SpanBatchedNoTokenizationLargeSpanish_epoch_5_predictions.tsv',\n",
       " 'gpt_experiment_large_special_token_span_social_dis_ner_SpanBatchedNoTokenizationLargeSpanish_epoch_6_visualize_errors.bdocjs',\n",
       " 'gpt_experiment_large_special_token_span_social_dis_ner_SpanBatchedNoTokenizationLargeSpanish_epoch_6_predictions.tsv',\n",
       " 'gpt_experiment_large_special_token_span_social_dis_ner_SpanBatchedNoTokenizationLargeSpanish_epoch_7_visualize_errors.bdocjs',\n",
       " 'gpt_experiment_large_special_token_span_social_dis_ner_SpanBatchedNoTokenizationLargeSpanish_epoch_7_predictions.tsv',\n",
       " 'gpt_experiment_large_special_token_span_social_dis_ner_SpanBatchedNoTokenizationLargeSpanish_epoch_8_visualize_errors.bdocjs',\n",
       " 'gpt_experiment_large_special_token_span_social_dis_ner_SpanBatchedNoTokenizationLargeSpanish_epoch_8_predictions.tsv',\n",
       " 'gpt_experiment_large_special_token_span_social_dis_ner_SpanBatchedNoTokenizationLargeSpanish_epoch_9_visualize_errors.bdocjs',\n",
       " 'gpt_experiment_large_special_token_span_social_dis_ner_SpanBatchedNoTokenizationLargeSpanish_epoch_9_predictions.tsv',\n",
       " 'gpt_experiment_large_special_token_span_social_dis_ner_SpanBatchedNoTokenizationLargeSpanish_epoch_10_visualize_errors.bdocjs',\n",
       " 'gpt_experiment_large_special_token_span_social_dis_ner_SpanBatchedNoTokenizationLargeSpanish_epoch_10_predictions.tsv',\n",
       " 'gpt_experiment_large_special_token_span_social_dis_ner_SpanBatchedNoTokenizationLargeSpanish_epoch_11_visualize_errors.bdocjs',\n",
       " 'gpt_experiment_large_special_token_span_social_dis_ner_SpanBatchedNoTokenizationLargeSpanish_epoch_11_predictions.tsv',\n",
       " 'gpt_experiment_large_special_token_span_social_dis_ner_SpanBatchedNoTokenizationLargeSpanish_epoch_12_visualize_errors.bdocjs',\n",
       " 'gpt_experiment_large_special_token_span_social_dis_ner_SpanBatchedNoTokenizationLargeSpanish_epoch_12_predictions.tsv',\n",
       " 'gpt_experiment_large_special_token_span_social_dis_ner_SpanBatchedNoTokenizationLargeSpanish_epoch_13_visualize_errors.bdocjs',\n",
       " 'gpt_experiment_large_special_token_span_social_dis_ner_SpanBatchedNoTokenizationLargeSpanish_epoch_13_predictions.tsv',\n",
       " 'gpt_experiment_large_special_token_span_social_dis_ner_SpanBatchedNoTokenizationLargeSpanish_epoch_14_visualize_errors.bdocjs',\n",
       " 'gpt_experiment_large_special_token_span_social_dis_ner_SpanBatchedNoTokenizationLargeSpanish_epoch_14_predictions.tsv',\n",
       " 'performance_gpt_experiment_large_special_token_span.csv',\n",
       " 'multiconer_experiment_after_submission_multiconer_fine_SeqLabelBatchedNoTokenizationLarge_epoch_0_visualize_errors.bdocjs',\n",
       " 'multiconer_experiment_after_submission_multiconer_fine_SeqLabelBatchedNoTokenizationLarge_epoch_0_predictions.tsv',\n",
       " 'multiconer_experiment_after_submission_multiconer_fine_SeqLabelBatchedNoTokenizationLarge_epoch_1_visualize_errors.bdocjs',\n",
       " 'multiconer_experiment_after_submission_multiconer_fine_SeqLabelBatchedNoTokenizationLarge_epoch_1_predictions.tsv',\n",
       " 'multiconer_experiment_after_submission_multiconer_fine_SeqLabelBatchedNoTokenizationLarge_epoch_2_visualize_errors.bdocjs',\n",
       " 'multiconer_experiment_after_submission_multiconer_fine_SeqLabelBatchedNoTokenizationLarge_epoch_2_predictions.tsv',\n",
       " 'multiconer_experiment_after_submission_multiconer_fine_SeqLabelBatchedNoTokenizationLarge_epoch_3_visualize_errors.bdocjs',\n",
       " 'multiconer_experiment_after_submission_multiconer_fine_SeqLabelBatchedNoTokenizationLarge_epoch_3_predictions.tsv',\n",
       " 'multiconer_experiment_after_submission_multiconer_fine_SeqLabelBatchedNoTokenizationLarge_epoch_4_visualize_errors.bdocjs',\n",
       " 'multiconer_experiment_after_submission_multiconer_fine_SeqLabelBatchedNoTokenizationLarge_epoch_4_predictions.tsv',\n",
       " 'multiconer_experiment_after_submission_multiconer_fine_SeqLabelBatchedNoTokenizationLarge_epoch_5_visualize_errors.bdocjs',\n",
       " 'multiconer_experiment_after_submission_multiconer_fine_SeqLabelBatchedNoTokenizationLarge_epoch_5_predictions.tsv',\n",
       " 'multiconer_experiment_after_submission_multiconer_fine_SeqLabelBatchedNoTokenizationLarge_epoch_6_visualize_errors.bdocjs',\n",
       " 'multiconer_experiment_after_submission_multiconer_fine_SeqLabelBatchedNoTokenizationLarge_epoch_6_predictions.tsv',\n",
       " 'multiconer_experiment_after_submission_multiconer_fine_SeqLabelBatchedNoTokenizationLarge_epoch_7_visualize_errors.bdocjs',\n",
       " 'multiconer_experiment_after_submission_multiconer_fine_SeqLabelBatchedNoTokenizationLarge_epoch_7_predictions.tsv',\n",
       " 'multiconer_experiment_after_submission_multiconer_fine_SeqLabelBatchedNoTokenizationLarge_epoch_8_visualize_errors.bdocjs',\n",
       " 'multiconer_experiment_after_submission_multiconer_fine_SeqLabelBatchedNoTokenizationLarge_epoch_8_predictions.tsv',\n",
       " 'multiconer_experiment_after_submission_multiconer_fine_SeqLabelBatchedNoTokenizationLarge_epoch_9_visualize_errors.bdocjs',\n",
       " 'multiconer_experiment_after_submission_multiconer_fine_SeqLabelBatchedNoTokenizationLarge_epoch_9_predictions.tsv',\n",
       " 'multiconer_experiment_after_submission_multiconer_fine_SeqLabelBatchedNoTokenizationLarge_epoch_10_visualize_errors.bdocjs',\n",
       " 'multiconer_experiment_after_submission_multiconer_fine_SeqLabelBatchedNoTokenizationLarge_epoch_10_predictions.tsv',\n",
       " 'multiconer_experiment_after_submission_multiconer_fine_SeqLabelBatchedNoTokenizationLarge_epoch_11_visualize_errors.bdocjs',\n",
       " 'multiconer_experiment_after_submission_multiconer_fine_SeqLabelBatchedNoTokenizationLarge_epoch_11_predictions.tsv',\n",
       " 'multiconer_experiment_after_submission_multiconer_fine_SeqLabelBatchedNoTokenizationLarge_epoch_12_visualize_errors.bdocjs',\n",
       " 'multiconer_experiment_after_submission_multiconer_fine_SeqLabelBatchedNoTokenizationLarge_epoch_12_predictions.tsv',\n",
       " 'multiconer_experiment_after_submission_multiconer_fine_SeqLabelBatchedNoTokenizationLarge_epoch_13_visualize_errors.bdocjs',\n",
       " 'multiconer_experiment_after_submission_multiconer_fine_SeqLabelBatchedNoTokenizationLarge_epoch_13_predictions.tsv',\n",
       " 'multiconer_experiment_after_submission_multiconer_fine_SeqLabelBatchedNoTokenizationLarge_epoch_14_visualize_errors.bdocjs',\n",
       " 'multiconer_experiment_after_submission_multiconer_fine_SeqLabelBatchedNoTokenizationLarge_epoch_14_predictions.tsv',\n",
       " 'multiconer_experiment_after_submission_multiconer_fine_SpanRepSpanBertLarge_epoch_0_visualize_errors.bdocjs',\n",
       " 'multiconer_experiment_after_submission_multiconer_fine_SpanRepSpanBertLarge_epoch_0_predictions.tsv',\n",
       " 'multiconer_experiment_after_submission_multiconer_fine_SpanRepSpanBertLarge_epoch_1_visualize_errors.bdocjs',\n",
       " 'multiconer_experiment_after_submission_multiconer_fine_SpanRepSpanBertLarge_epoch_1_predictions.tsv',\n",
       " 'multiconer_experiment_after_submission_multiconer_fine_SpanRepSpanBertLarge_epoch_2_visualize_errors.bdocjs',\n",
       " 'multiconer_experiment_after_submission_multiconer_fine_SpanRepSpanBertLarge_epoch_2_predictions.tsv',\n",
       " 'multiconer_experiment_after_submission_multiconer_fine_SpanRepSpanBertLarge_epoch_3_visualize_errors.bdocjs',\n",
       " 'multiconer_experiment_after_submission_multiconer_fine_SpanRepSpanBertLarge_epoch_3_predictions.tsv',\n",
       " 'multiconer_experiment_after_submission_multiconer_fine_SpanRepSpanBertLarge_epoch_4_visualize_errors.bdocjs',\n",
       " 'multiconer_experiment_after_submission_multiconer_fine_SpanRepSpanBertLarge_epoch_4_predictions.tsv',\n",
       " 'multiconer_experiment_after_submission_multiconer_fine_SpanRepSpanBertLarge_epoch_5_visualize_errors.bdocjs',\n",
       " 'multiconer_experiment_after_submission_multiconer_fine_SpanRepSpanBertLarge_epoch_5_predictions.tsv',\n",
       " 'multiconer_experiment_after_submission_multiconer_fine_SpanRepSpanBertLarge_epoch_6_visualize_errors.bdocjs',\n",
       " 'multiconer_experiment_after_submission_multiconer_fine_SpanRepSpanBertLarge_epoch_6_predictions.tsv',\n",
       " 'multiconer_experiment_after_submission_multiconer_fine_SpanRepSpanBertLarge_epoch_7_visualize_errors.bdocjs',\n",
       " 'multiconer_experiment_after_submission_multiconer_fine_SpanRepSpanBertLarge_epoch_7_predictions.tsv',\n",
       " 'multiconer_experiment_after_submission_multiconer_fine_SpanRepSpanBertLarge_epoch_8_visualize_errors.bdocjs',\n",
       " 'multiconer_experiment_after_submission_multiconer_fine_SpanRepSpanBertLarge_epoch_8_predictions.tsv',\n",
       " 'multiconer_experiment_after_submission_multiconer_fine_SpanRepSpanBertLarge_epoch_9_visualize_errors.bdocjs',\n",
       " 'multiconer_experiment_after_submission_multiconer_fine_SpanRepSpanBertLarge_epoch_9_predictions.tsv',\n",
       " 'multiconer_experiment_after_submission_multiconer_fine_SpanRepSpanBertLarge_epoch_10_visualize_errors.bdocjs',\n",
       " 'multiconer_experiment_after_submission_multiconer_fine_SpanRepSpanBertLarge_epoch_10_predictions.tsv',\n",
       " 'multiconer_experiment_after_submission_multiconer_fine_SpanRepSpanBertLarge_epoch_11_visualize_errors.bdocjs',\n",
       " 'multiconer_experiment_after_submission_multiconer_fine_SpanRepSpanBertLarge_epoch_11_predictions.tsv',\n",
       " 'multiconer_experiment_after_submission_multiconer_fine_SpanRepSpanBertLarge_epoch_12_visualize_errors.bdocjs',\n",
       " 'multiconer_experiment_after_submission_multiconer_fine_SpanRepSpanBertLarge_epoch_12_predictions.tsv',\n",
       " 'multiconer_experiment_after_submission_multiconer_fine_SpanRepSpanBertLarge_epoch_13_visualize_errors.bdocjs',\n",
       " 'multiconer_experiment_after_submission_multiconer_fine_SpanRepSpanBertLarge_epoch_13_predictions.tsv',\n",
       " 'multiconer_experiment_after_submission_multiconer_fine_SpanRepSpanBertLarge_epoch_14_visualize_errors.bdocjs',\n",
       " 'multiconer_experiment_after_submission_multiconer_fine_SpanRepSpanBertLarge_epoch_14_predictions.tsv',\n",
       " 'multiconer_experiment_after_submission_multiconer_fine_SpanBatchedNoTokenizationLargeSpanish_epoch_0_visualize_errors.bdocjs',\n",
       " 'multiconer_experiment_after_submission_multiconer_fine_SpanBatchedNoTokenizationLargeSpanish_epoch_0_predictions.tsv',\n",
       " ...]"
      ]
     },
     "execution_count": 2,
     "metadata": {},
     "output_type": "execute_result"
    }
   ],
   "source": [
    "[entry.name for entry in all_files]"
   ]
  },
  {
   "cell_type": "markdown",
   "id": "f5cbb1b7",
   "metadata": {},
   "source": [
    "# Compare Old and New Seq Labeling approaches."
   ]
  },
  {
   "cell_type": "code",
   "execution_count": 1,
   "id": "ebdaa870",
   "metadata": {},
   "outputs": [
    {
     "name": "stdout",
     "output_type": "stream",
     "text": [
      "using device cpu\n",
      "DROPBOX: connection verified\n"
     ]
    }
   ],
   "source": [
    "import train_util\n",
    "from utils.easy_testing import get_dataset_config_by_name\n",
    "valid_samples_new = train_util.get_valid_samples(get_dataset_config_by_name('multiconer_fine_vanilla'))\n",
    "valid_samples_old = train_util.get_valid_samples(get_dataset_config_by_name('multiconer_fine_tokens'))\n",
    "first_sample_new = valid_samples_new[0]\n",
    "first_sample_old = valid_samples_old[0]"
   ]
  },
  {
   "cell_type": "code",
   "execution_count": 2,
   "id": "0e3d65cf",
   "metadata": {},
   "outputs": [],
   "source": [
    "from utils.config import get_experiment_config\n",
    "\n",
    "span_new_experiment = get_experiment_config(\n",
    "    model_config_module_name='model_span_base_no_special_tokens',\n",
    "    dataset_config_name='multiconer_fine_vanilla'\n",
    ")\n",
    "\n",
    "span_old_experiment = get_experiment_config(\n",
    "    model_config_module_name='model_span_base_custom_tokenization_no_batch',\n",
    "    dataset_config_name='multiconer_fine_tokens'\n",
    ")"
   ]
  },
  {
   "cell_type": "code",
   "execution_count": 3,
   "id": "7a4622e3",
   "metadata": {},
   "outputs": [
    {
     "name": "stdout",
     "output_type": "stream",
     "text": [
      "ModelConfig(model_config_name='span_base_custom_tokenization_no_batch', pretrained_model_name='xlm-roberta-base', pretrained_model_output_dim=768, num_epochs=15, model_name='SpanBert', optimizer='Adam', learning_rate=1e-05, batch_size=1, max_span_length=None, use_special_bert_tokens=True)\n",
      "ModelConfig(model_config_name='model_span_base_no_special_tokens', pretrained_model_name='xlm-roberta-base', pretrained_model_output_dim=768, num_epochs=15, model_name='SpanDefault', optimizer='Adam', learning_rate=1e-05, batch_size=1, max_span_length=None, use_special_bert_tokens=False)\n"
     ]
    }
   ],
   "source": [
    "print(span_old_experiment.model_config)\n",
    "print(span_new_experiment.model_config)"
   ]
  },
  {
   "cell_type": "code",
   "execution_count": 4,
   "id": "c645a47e",
   "metadata": {},
   "outputs": [
    {
     "name": "stdout",
     "output_type": "stream",
     "text": [
      "using device cpu\n"
     ]
    },
    {
     "name": "stderr",
     "output_type": "stream",
     "text": [
      "Some weights of the model checkpoint at xlm-roberta-base were not used when initializing XLMRobertaModel: ['lm_head.layer_norm.bias', 'lm_head.bias', 'lm_head.dense.bias', 'lm_head.decoder.weight', 'lm_head.layer_norm.weight', 'lm_head.dense.weight']\n",
      "- This IS expected if you are initializing XLMRobertaModel from the checkpoint of a model trained on another task or with another architecture (e.g. initializing a BertForSequenceClassification model from a BertForPreTraining model).\n",
      "- This IS NOT expected if you are initializing XLMRobertaModel from the checkpoint of a model that you expect to be exactly identical (initializing a BertForSequenceClassification model from a BertForSequenceClassification model).\n"
     ]
    },
    {
     "name": "stdout",
     "output_type": "stream",
     "text": [
      "types new\n",
      ": ['AerospaceManufacturer', 'AnatomicalStructure', 'ArtWork', 'Artist', 'Athlete', 'CarManufacturer', 'Cleric', 'Clothing', 'Disease', 'Drink', 'Facility', 'Food', 'HumanSettlement', 'MedicalProcedure', 'Medication/Vaccine', 'MusicalGRP', 'MusicalWork', 'ORG', 'OtherLOC', 'OtherPER', 'OtherPROD', 'Politician', 'PrivateCorp', 'PublicCorp', 'Scientist', 'Software', 'SportsGRP', 'SportsManager', 'Station', 'Symptom', 'Vehicle', 'VisualWork', 'WrittenWork']\n"
     ]
    },
    {
     "name": "stderr",
     "output_type": "stream",
     "text": [
      "Some weights of the model checkpoint at xlm-roberta-base were not used when initializing XLMRobertaModel: ['lm_head.layer_norm.bias', 'lm_head.bias', 'lm_head.dense.bias', 'lm_head.decoder.weight', 'lm_head.layer_norm.weight', 'lm_head.dense.weight']\n",
      "- This IS expected if you are initializing XLMRobertaModel from the checkpoint of a model trained on another task or with another architecture (e.g. initializing a BertForSequenceClassification model from a BertForPreTraining model).\n",
      "- This IS NOT expected if you are initializing XLMRobertaModel from the checkpoint of a model that you expect to be exactly identical (initializing a BertForSequenceClassification model from a BertForSequenceClassification model).\n"
     ]
    },
    {
     "name": "stdout",
     "output_type": "stream",
     "text": [
      "types old\n",
      ": ['AerospaceManufacturer', 'AnatomicalStructure', 'ArtWork', 'Artist', 'Athlete', 'CarManufacturer', 'Cleric', 'Clothing', 'Disease', 'Drink', 'Facility', 'Food', 'HumanSettlement', 'MedicalProcedure', 'Medication/Vaccine', 'MusicalGRP', 'MusicalWork', 'ORG', 'OtherLOC', 'OtherPER', 'OtherPROD', 'Politician', 'PrivateCorp', 'PublicCorp', 'Scientist', 'Software', 'SportsGRP', 'SportsManager', 'Station', 'Symptom', 'Vehicle', 'VisualWork', 'WrittenWork']\n"
     ]
    }
   ],
   "source": [
    "from train_util import prepare_model\n",
    "new_span_model = prepare_model(span_new_experiment.model_config, span_new_experiment.dataset_config)\n",
    "old_span_model = prepare_model(span_old_experiment.model_config, span_old_experiment.dataset_config)"
   ]
  },
  {
   "cell_type": "code",
   "execution_count": 6,
   "id": "6f1cb72a",
   "metadata": {},
   "outputs": [
    {
     "name": "stdout",
     "output_type": "stream",
     "text": [
      "<class 'models.span_batched_no_custom_tok.SpanDefault'>\n",
      "<class 'all_models.SpanBert'>\n"
     ]
    }
   ],
   "source": [
    "import numpy as np\n",
    "\n",
    "print(type(new_span_model))\n",
    "print(type(old_span_model))\n",
    "for valid_sample_new, valid_sample_old in zip(valid_samples_new, valid_samples_old):\n",
    "    collect_new = []\n",
    "    collect_old = []\n",
    "    loss_new, predictions_new = new_span_model([valid_sample_new], collect_new)\n",
    "    loss_old, predictions_old = old_span_model([valid_sample_old], collect_old)\n",
    "    assert all((collect_new[0].input_ids == collect_old[0].input_ids).numpy()[0]),\\\n",
    "        f\"Input ids dont match:\\nnew{collect_new[0].input_ids}\\nold{collect_old[0].input_ids}\"\n",
    "    new_outside = collect_new[1].numpy()[0] == 33\n",
    "    old_outside = np.array(collect_old[1]) == 33\n",
    "#     print(new_outside)\n",
    "#     print(old_outside)\n",
    "#     print(all(new_outside == old_outside))\n",
    "    assert all(new_outside == old_outside)\n",
    "#     assert collect_new[1] == collect_old[1],\\\n",
    "#         f\"Gold bio labels dont match:\\nnew{collect_new[1]}\\nold{collect_old[1]}\"\\\n",
    "#         f\"\\nGold Annos New:{valid_sample_new.annos.gold}\"\\\n",
    "#         f\"\\nGold Annos Old:{valid_sample_old.annos.gold}\"\\\n",
    "#         f\"\\nsample_id:{valid_sample_new.id}\""
   ]
  },
  {
   "cell_type": "code",
   "execution_count": 16,
   "id": "391d2844",
   "metadata": {},
   "outputs": [
    {
     "data": {
      "text/plain": [
       "array([False,  True, False])"
      ]
     },
     "execution_count": 16,
     "metadata": {},
     "output_type": "execute_result"
    }
   ],
   "source": [
    "import numpy as np\n",
    "\n",
    "x = [1,2,3]\n",
    "x\n",
    "np_x = np.array(x)\n",
    "np_x == 2"
   ]
  },
  {
   "cell_type": "code",
   "execution_count": 14,
   "id": "fb203f47",
   "metadata": {},
   "outputs": [
    {
     "data": {
      "text/plain": [
       "True"
      ]
     },
     "execution_count": 14,
     "metadata": {},
     "output_type": "execute_result"
    }
   ],
   "source": [
    "all((collect_new[0].input_ids == collect_old[0].input_ids).numpy()[0])"
   ]
  },
  {
   "cell_type": "code",
   "execution_count": 16,
   "id": "6cd81fb5",
   "metadata": {},
   "outputs": [
    {
     "data": {
      "text/plain": [
       "True"
      ]
     },
     "execution_count": 16,
     "metadata": {},
     "output_type": "execute_result"
    }
   ],
   "source": [
    "collect_new[1] == collect_old[1]"
   ]
  },
  {
   "cell_type": "code",
   "execution_count": 10,
   "id": "79243976",
   "metadata": {},
   "outputs": [],
   "source": [
    "first_sample = valid_samples[0]"
   ]
  },
  {
   "cell_type": "code",
   "execution_count": 1,
   "id": "2e85a51c",
   "metadata": {},
   "outputs": [],
   "source": [
    "import json\n",
    "import pandas as pd\n",
    "import csv\n",
    "\n",
    "chatgpt_predictions_file_path = './chatgpt_social_dis_ner_test.json'\n",
    "with open(chatgpt_predictions_file_path, 'r') as chat_gpt_predictions_file:\n",
    "    chat_gpt_predictions = json.load(chat_gpt_predictions_file)\n",
    "\n",
    "chat_gpt_response_dict = {\n",
    "    sample_id: diseases\n",
    "    for sample_id, diseases in chat_gpt_predictions\n",
    "}\n",
    "\n",
    "    \n",
    "chat_gpt_tsv_file = '/home/harsh/Documents/social_dis_ner_submisssions/experiment_chatgpt_social_dis_ner_social_dis_ner_chatgpt_model_seq_large_default_test_epoch_2_predictions.tsv'\n",
    "df = pd.read_csv(chat_gpt_tsv_file, sep='\\t')\n",
    "\n",
    "with open('final_seq.tsv', 'w') as output_tsv: \n",
    "    writer = csv.writer(output_tsv, delimiter='\\t', lineterminator='\\n')\n",
    "    writer.writerow(['tweets_id', 'begin', 'end', 'type', 'extraction'])\n",
    "    for _, row in df.iterrows():\n",
    "        sample_id = str(row['sample_id'])\n",
    "        assert sample_id in chat_gpt_response_dict, f\"{row['sample_id']}\"\n",
    "        chat_gpt_response = chat_gpt_response_dict[sample_id]\n",
    "        gpt_predictions_prefix = chat_gpt_response + ' [SEP] '\n",
    "        begin = int(row['begin'])\n",
    "        end = int(row['end'])\n",
    "        begin -= len(gpt_predictions_prefix)\n",
    "        end -= len(gpt_predictions_prefix)\n",
    "        writer.writerow([sample_id, str(begin), str(end), row['type'], row['extraction']]) \n",
    "     \n",
    "\n",
    "# with open('/home/harsh/Documents/social_dis_ner_submisssions/trimmed.tsv', 'w') as trimmed:\n",
    "#     with open('/home/harsh/Documents/social_dis_ner_submisssions/experiment_chatgpt_social_dis_ner_social_dis_ner_chatgpt_span_large_default_test_epoch_7_predictions.tsv', 'r') as predictions_file:\n",
    "#         for line in predictions_file:\n",
    "#             line = line.strip()\n",
    "#             print(line, file=trimmed)"
   ]
  },
  {
   "cell_type": "code",
   "execution_count": 1,
   "id": "036caad5",
   "metadata": {},
   "outputs": [
    {
     "name": "stdout",
     "output_type": "stream",
     "text": [
      "using device cpu\n",
      "DROPBOX: connection verified\n"
     ]
    }
   ],
   "source": [
    "import train_util\n",
    "from utils.easy_testing import get_dataset_config_by_name\n",
    "\n",
    "test_samples = train_util.get_test_samples(get_dataset_config_by_name('social_dis_ner_vanilla'))"
   ]
  },
  {
   "cell_type": "code",
   "execution_count": 2,
   "id": "890eb432",
   "metadata": {},
   "outputs": [
    {
     "name": "stdout",
     "output_type": "stream",
     "text": [
      "Sample(text='Siiiiiiiii siiiiiii siiiiioooiiiii joder siiiiiiiii\\n@vicentsempere confío en ti\\nYesssssssss yesssss\\nFeliz felizzzzz\\n\\n\\n\\n\\n\\n', id='1132390610068021248', annos=AnnotationCollection(gold=[], external=[]))\n"
     ]
    }
   ],
   "source": [
    "print(test_samples[0])"
   ]
  },
  {
   "cell_type": "code",
   "execution_count": 9,
   "id": "a559115a",
   "metadata": {},
   "outputs": [
    {
     "data": {
      "text/plain": [
       "ModelConfig(model_config_name='span_large_default', pretrained_model_name='xlm-roberta-large', pretrained_model_output_dim=1024, num_epochs=15, model_name='SpanNoTokenizationBatched', optimizer='Adam', learning_rate=1e-05, batch_size=4, max_span_length=None, use_special_bert_tokens=True)"
      ]
     },
     "execution_count": 9,
     "metadata": {},
     "output_type": "execute_result"
    }
   ],
   "source": [
    "from utils.config import get_model_config_from_module\n",
    "get_model_config_from_module('model_span_large_default')"
   ]
  },
  {
   "cell_type": "code",
   "execution_count": 1,
   "id": "3dbdd951",
   "metadata": {},
   "outputs": [
    {
     "data": {
      "text/plain": [
       "'Pancreatitis, Gastritis crónica, Cirrosis, Hepatitis, Fatiga Crónica, Cáncer de garganta, Mal aliento, Cardiomiopatía alcohólica'"
      ]
     },
     "execution_count": 1,
     "metadata": {},
     "output_type": "execute_result"
    }
   ],
   "source": [
    "from utils.openai import chatgpt_get_diseases_in_tweet\n",
    "\n",
    "tweet = \"\"\"\n",
    "Consecuencias del #Alcoholismo\n",
    "  #Pancreatitis\n",
    "  Gastritis crónica\n",
    "  Cirrosis\n",
    " Hepatitis\n",
    "  Fatiga Crónica\n",
    "  Desconcentración\n",
    "  Falta de memoria\n",
    "  Cáncer de garganta\n",
    "  Mal aliento\n",
    "  Cardiomiopatía alcohólica\n",
    "#DiaMundialsinalcohol          https://t.co/LGHq6yjixb\n",
    "\"\"\"\n",
    "\n",
    "\n",
    "chatgpt_get_diseases_in_tweet(tweet)"
   ]
  },
  {
   "cell_type": "code",
   "execution_count": 8,
   "id": "608ade1d",
   "metadata": {},
   "outputs": [
    {
     "name": "stdout",
     "output_type": "stream",
     "text": [
      "2510\n"
     ]
    },
    {
     "data": {
      "text/plain": [
       "[['1440492653229993984', 'lupus'], ['1440492653229993984', 'lupus']]"
      ]
     },
     "execution_count": 8,
     "metadata": {},
     "output_type": "execute_result"
    }
   ],
   "source": [
    "import json\n",
    "from collections import Counter\n",
    "\n",
    "with open(\"chatgpt_social_dis_ner_valid.json\", 'r') as gpt_predictions_file:\n",
    "    chat_gpt_predictions = json.load(gpt_predictions_file)\n",
    "\n",
    "print(len(chat_gpt_predictions))\n",
    "sample_ids = [sample_id for sample_id, _ in chat_gpt_predictions]\n",
    "sample_id_counts = Counter(sample_ids)\n",
    "\n",
    "[prediction for prediction in chat_gpt_predictions if prediction[0] == '1440492653229993984']"
   ]
  },
  {
   "cell_type": "code",
   "execution_count": null,
   "id": "9d4749ae",
   "metadata": {},
   "outputs": [],
   "source": []
  },
  {
   "cell_type": "code",
   "execution_count": 19,
   "id": "53ba5cde",
   "metadata": {},
   "outputs": [
    {
     "data": {
      "text/plain": [
       "'diabetes, cardiopatías, obesidad.'"
      ]
     },
     "execution_count": 19,
     "metadata": {},
     "output_type": "execute_result"
    }
   ],
   "source": [
    "result.choices[0].message.content"
   ]
  },
  {
   "cell_type": "code",
   "execution_count": 2,
   "id": "a6f757fd",
   "metadata": {},
   "outputs": [
    {
     "name": "stdout",
     "output_type": "stream",
     "text": [
      "[35378, 903, 83, 1950, 1495, 5]\n",
      "[35378, 903, 83, 1950, 1495, 6, 5]\n",
      "\n"
     ]
    }
   ],
   "source": [
    "def get_tokenization_differences(tokenizer, sample_text, tokens) -> None | tuple: \n",
    "    encoding_ids = tokenizer(sample_text, add_special_tokens=False).input_ids\n",
    "    encoding_split_ids = tokenizer(tokens, add_special_tokens=False, is_split_into_words=True).input_ids\n",
    "    if encoding_ids != encoding_split_ids:\n",
    "        return (encoding_ids, encoding_split_ids)        \n",
    "\n",
    "def print_difference(diff):\n",
    "    if diff is not None:\n",
    "        raw, split = diff\n",
    "        print(raw)\n",
    "        print(split)\n",
    "        print()\n",
    "    \n",
    "diff = get_tokenization_differences(tokenizer, \"Hello this is Harsh.\", [\"Hello\", \"this\", \"is\", \"Harsh\", \".\"])\n",
    "print_difference(diff)\n",
    "\n",
    "diff = get_tokenization_differences(tokenizer, \"Yo lo lololo\", [\"Yo\", \"lo\", \"lololo\"])\n",
    "print_difference(diff)"
   ]
  },
  {
   "cell_type": "code",
   "execution_count": 3,
   "id": "a9c373de",
   "metadata": {},
   "outputs": [
    {
     "data": {
      "text/plain": [
       "[0, 903, 83, 142, 27781, 2]"
      ]
     },
     "execution_count": 3,
     "metadata": {},
     "output_type": "execute_result"
    }
   ],
   "source": [
    "tokenizer(\"this is an example\").input_ids"
   ]
  },
  {
   "cell_type": "code",
   "execution_count": 4,
   "id": "bb58d7fb",
   "metadata": {},
   "outputs": [],
   "source": [
    "from util import get_tokens_from_sample\n",
    "\n",
    "train_samples = get_train_samples_by_dataset_name('multiconer_fine_tokens')\n",
    "for sample in train_samples:\n",
    "    sample_text = sample.text\n",
    "    tokens = get_tokens_from_sample(sample)\n",
    "    diff = get_tokenization_differences(tokenizer, sample_text, tokens)\n",
    "    print_difference(diff)"
   ]
  },
  {
   "cell_type": "code",
   "execution_count": 5,
   "id": "bac77fcc",
   "metadata": {},
   "outputs": [],
   "source": [
    "valid_samples = get_valid_samples_by_dataset_name('multiconer_fine_tokens')\n",
    "for sample in valid_samples:\n",
    "    sample_text = sample.text\n",
    "    tokens = get_tokens_from_sample(sample)\n",
    "    diff = get_tokenization_differences(tokenizer, sample_text, tokens)\n",
    "    print_difference(diff)"
   ]
  },
  {
   "cell_type": "code",
   "execution_count": 6,
   "id": "d392e977",
   "metadata": {},
   "outputs": [],
   "source": [
    "test_samples = get_test_samples_by_dataset_name('multiconer_fine_tokens')\n",
    "for sample in test_samples:\n",
    "    sample_text = sample.text\n",
    "    tokens = get_tokens_from_sample(sample)\n",
    "    diff = get_tokenization_differences(tokenizer, sample_text, tokens)\n",
    "    print_difference(diff)"
   ]
  },
  {
   "cell_type": "code",
   "execution_count": 2,
   "id": "840606c2",
   "metadata": {},
   "outputs": [
    {
     "name": "stdout",
     "output_type": "stream",
     "text": [
      "using device cpu\n"
     ]
    },
    {
     "name": "stderr",
     "output_type": "stream",
     "text": [
      "[nltk_data] Downloading package benepar_en3 to\n",
      "[nltk_data]     /home/harsh/nltk_data...\n",
      "[nltk_data]   Package benepar_en3 is already up-to-date!\n"
     ]
    }
   ],
   "source": [
    "from preprocessors.multiconer_preprocessor import read_raw_data\n",
    "test_tokens = read_raw_data('multiconer2023/EN-English/en_test.conll')\n",
    "pred_tokens = read_raw_data('submission/my_submission_preds/en.pred.conll')"
   ]
  },
  {
   "cell_type": "code",
   "execution_count": 10,
   "id": "672933de",
   "metadata": {},
   "outputs": [
    {
     "name": "stderr",
     "output_type": "stream",
     "text": [
      "/home/harsh/anaconda3/envs/every/lib/python3.10/site-packages/seqeval/metrics/sequence_labeling.py:171: UserWarning: _ O seems not to be NE tag.\n",
      "  warnings.warn('{} seems not to be NE tag.'.format(chunk))\n"
     ]
    },
    {
     "name": "stdout",
     "output_type": "stream",
     "text": [
      "                       precision    recall  f1-score   support\n",
      "\n",
      "                    O       1.00      0.00      0.00         9\n",
      "AerospaceManufacturer       0.35      0.61      0.44      1015\n",
      "  AnatomicalStructure       0.61      0.65      0.63      5838\n",
      "              ArtWork       0.37      0.46      0.41      1270\n",
      "               Artist       0.72      0.77      0.74     57034\n",
      "              Athlete       0.74      0.72      0.73     27636\n",
      "      CarManufacturer       0.58      0.58      0.58      2984\n",
      "               Cleric       0.52      0.43      0.47      4732\n",
      "             Clothing       0.46      0.59      0.52      2244\n",
      "              Disease       0.61      0.68      0.64      5623\n",
      "                Drink       0.52      0.52      0.52      2246\n",
      "             Facility       0.60      0.60      0.60     16185\n",
      "                 Food       0.49      0.47      0.48      5317\n",
      "      HumanSettlement       0.82      0.86      0.84     41103\n",
      "     MedicalProcedure       0.56      0.59      0.58      3850\n",
      "   Medication/Vaccine       0.71      0.66      0.69      5421\n",
      "           MusicalGRP       0.67      0.52      0.59     12969\n",
      "          MusicalWork       0.68      0.62      0.65     15304\n",
      "                  ORG       0.64      0.48      0.55     22414\n",
      "             OtherLOC       0.70      0.22      0.34      4635\n",
      "             OtherPER       0.38      0.48      0.42     22028\n",
      "            OtherPROD       0.39      0.49      0.43     11838\n",
      "           Politician       0.51      0.52      0.51     15990\n",
      "          PrivateCorp       0.18      0.40      0.25       810\n",
      "           PublicCorp       0.53      0.47      0.50      6825\n",
      "            Scientist       0.52      0.26      0.35      4928\n",
      "             Software       0.64      0.63      0.63      8962\n",
      "            SportsGRP       0.75      0.75      0.75     13009\n",
      "        SportsManager       0.52      0.54      0.53      5333\n",
      "              Station       0.66      0.70      0.68      5978\n",
      "              Symptom       0.46      0.44      0.45      1759\n",
      "              Vehicle       0.41      0.44      0.42      5935\n",
      "           VisualWork       0.63      0.63      0.63     19678\n",
      "          WrittenWork       0.72      0.53      0.61     16912\n",
      "\n",
      "            micro avg       0.63      0.63      0.63    377814\n",
      "            macro avg       0.58      0.54      0.53    377814\n",
      "         weighted avg       0.64      0.63      0.63    377814\n",
      "\n"
     ]
    }
   ],
   "source": [
    "from IPython.display import display\n",
    "from seqeval.metrics import f1_score\n",
    "from seqeval.metrics import classification_report\n",
    "\n",
    "all_tags_gold = []\n",
    "all_tags_pred = []\n",
    "for sample_id in test_tokens:\n",
    "    assert len(test_tokens[sample_id]) == len(pred_tokens[sample_id])\n",
    "    gold_tags = [tag for _, tag in test_tokens[sample_id]]\n",
    "    pred_tags = [tag for _, tag in pred_tokens[sample_id]]\n",
    "    all_tags_gold.append(gold_tags)\n",
    "    all_tags_pred.append(pred_tags)\n",
    "assert len(all_tags_gold) == len(all_tags_pred)\n",
    "print(classification_report(all_tags_gold, all_tags_pred, zero_division=1))"
   ]
  },
  {
   "cell_type": "code",
   "execution_count": 17,
   "id": "85f1abdb",
   "metadata": {},
   "outputs": [
    {
     "name": "stdout",
     "output_type": "stream",
     "text": [
      "{'B-Vehicle', 'B-Symptom', 'B-MusicalWork', 'I-MusicalWork', 'I-SportsManager', 'I-OtherLOC', 'I-OtherPROD', 'B-SportsManager', 'B-AerospaceManufacturer', 'B-OtherPROD', 'B-WrittenWork', 'B-Scientist', 'B-Cleric', 'I-AerospaceManufacturer', 'B-Drink', 'B-PrivateCorp', 'B-Disease', 'B-Facility', 'B-SportsGRP', 'B-AnatomicalStructure', 'I-Software', 'I-Disease', 'I-Medication/Vaccine', 'B-Medication/Vaccine', 'B-CarManufacturer', 'B-Politician', 'B-ORG', 'I-MusicalGRP', 'I-OtherPER', 'I-SportsGRP', 'I-Politician', 'I-Athlete', 'I-Drink', 'I-Station', 'B-MusicalGRP', 'B-Food', 'I-Vehicle', 'I-Symptom', 'I-HumanSettlement', 'B-ArtWork', 'I-Food', 'I-MedicalProcedure', 'I-ORG', 'B-Clothing', 'I-Clothing', 'I-Cleric', 'B-OtherPER', 'B-MedicalProcedure', 'B-VisualWork', 'I-Facility', 'I-PublicCorp', 'I-ArtWork', 'I-AnatomicalStructure', 'B-Artist', 'I-Scientist', 'B-PublicCorp', 'B-Station', 'B-Athlete', 'B-OtherLOC', 'I-PrivateCorp', 'O', '_ O', 'B-Software', 'B-HumanSettlement', 'I-WrittenWork', 'I-VisualWork', 'I-CarManufacturer', 'I-Artist'}\n",
      "11\n"
     ]
    }
   ],
   "source": [
    "num_errors = 0\n",
    "all_tags_set = set()\n",
    "for tags in all_tags_gold:\n",
    "    all_tags_set.update(tags)\n",
    "    num_errors += len([tag for tag in tags if tag == '_ O'])\n",
    "print(all_tags_set)\n",
    "print(num_errors)"
   ]
  },
  {
   "cell_type": "code",
   "execution_count": 11,
   "id": "ae21bc03",
   "metadata": {},
   "outputs": [
    {
     "data": {
      "text/plain": [
       "{1, 2, 3, 4, 5, 6}"
      ]
     },
     "execution_count": 11,
     "metadata": {},
     "output_type": "execute_result"
    }
   ],
   "source": [
    "x = set([1,2,3,4])\n",
    "x.update([4,5,6])\n",
    "x"
   ]
  },
  {
   "cell_type": "code",
   "execution_count": 3,
   "id": "40feb8ad",
   "metadata": {},
   "outputs": [
    {
     "name": "stdout",
     "output_type": "stream",
     "text": [
      "John\n",
      "50\n"
     ]
    }
   ],
   "source": [
    "class SomeClass(object):\n",
    "    def __init__(self, name: str, age: int):\n",
    "        self.name = name\n",
    "        self.age = age\n",
    "\n",
    "args = {\"name\": \"John\", \"age\": 50}\n",
    "x = SomeClass(**args)\n",
    "print(x.name)\n",
    "\n",
    "print(x.age)"
   ]
  },
  {
   "cell_type": "code",
   "execution_count": 4,
   "id": "b0d824b4",
   "metadata": {},
   "outputs": [
    {
     "name": "stdout",
     "output_type": "stream",
     "text": [
      "{'preprocessor_class_path': 'preprocessors.multiconer_preprocessor.PreprocessMulticoner', 'preprocessor_type': 'tokens', 'dataset': 'multiconer_fine', 'dataset_splits': ['train', 'test', 'valid']}\n"
     ]
    }
   ],
   "source": [
    "from preprocess import get_preprocessor_config\n",
    "config = get_preprocessor_config('preprocessor_config_multiconer_with_tokens')\n",
    "print(config)"
   ]
  },
  {
   "cell_type": "code",
   "execution_count": null,
   "id": "33f17b0c",
   "metadata": {},
   "outputs": [],
   "source": []
  },
  {
   "cell_type": "code",
   "execution_count": 12,
   "id": "f0afaaba",
   "metadata": {},
   "outputs": [],
   "source": [
    "from bs4 import BeautifulSoup\n",
    "from preamble import *\n",
    "from structs import Anno, Sample, AnnotationCollection\n",
    "\n",
    "def get_sample_text_from_passage(passage_soup: BeautifulSoup) -> str:\n",
    "    children_names = [child.name for child in passage_soup.children]\n",
    "    assert 'text' in children_names\n",
    "    sample_text = passage_soup.find('text').text\n",
    "    return sample_text\n",
    "\n",
    "\n",
    "def get_annotation_type(anno_soup: BeautifulSoup) -> str:\n",
    "    type_info = [info for info in anno_soup.find_all('infon') if info['key'] == 'class'][0]\n",
    "    return type_info.text\n",
    "\n",
    "\n",
    "def get_annos_from_passage(passage_soup: BeautifulSoup, passage_offset: int) -> List[Anno]:\n",
    "    ret = []\n",
    "    anno_soups = passage_soup.find_all('annotation')\n",
    "    for anno_soup in anno_soups:\n",
    "        anno_type = get_annotation_type(anno_soup)\n",
    "        anno_start = int(anno_soup.location['offset'])\n",
    "        anno_end = int(anno_soup.location['length']) + anno_start\n",
    "        anno_start -= passage_offset\n",
    "        anno_end -= passage_offset\n",
    "        anno_text = anno_soup.find('text').text\n",
    "        ret.append(\n",
    "            Anno(\n",
    "                begin_offset=anno_start,\n",
    "                end_offset=anno_end,\n",
    "                label_type=anno_type,\n",
    "                extraction=anno_text\n",
    "            )\n",
    "        )\n",
    "    return ret\n",
    "\n",
    "\n",
    "def get_samples_from_bioc_file(bioc_xml_file_path: str) -> List[Sample]:\n",
    "    with open(bioc_xml_file_path, 'r') as cdr_xml_file:\n",
    "        cdr_raw_xml_data = cdr_xml_file.read()\n",
    "    cdr_soup = BeautifulSoup(cdr_raw_xml_data, features='xml')\n",
    "    all_documents = cdr_soup.find_all('document')\n",
    "    ret = []\n",
    "    for cdr_document in all_documents:\n",
    "        cdr_document_id = cdr_document.id.text\n",
    "        for passage_idx, passage_soup in enumerate(cdr_document.find_all('passage')):\n",
    "            sample_text = get_sample_text_from_passage(passage_soup)\n",
    "            passage_offset = int(passage_soup.offset.text)\n",
    "            gold_annos = get_annos_from_passage(passage_soup, passage_offset)\n",
    "            ret.append(\n",
    "                Sample(\n",
    "                    text=sample_text,\n",
    "                    annos=AnnotationCollection(gold=gold_annos, external=[]),\n",
    "                    id=(cdr_document_id + str(passage_idx))\n",
    "                )\n",
    "            )\n",
    "    return ret\n"
   ]
  },
  {
   "cell_type": "code",
   "execution_count": 13,
   "id": "24109435",
   "metadata": {},
   "outputs": [],
   "source": [
    "chem_samples = get_samples_from_bioc_file('chemdner_corpus/training.bioc.xml')"
   ]
  },
  {
   "cell_type": "code",
   "execution_count": 16,
   "id": "808af000",
   "metadata": {},
   "outputs": [
    {
     "name": "stdout",
     "output_type": "stream",
     "text": [
      "7000\n",
      "Sample(text='DPP6 as a candidate gene for neuroleptic-induced tardive dyskinesia.', id='218260850', annos=AnnotationCollection(gold=[], external=[]))\n",
      "Sample(text='We implemented a two-step approach to detect potential predictor gene variants for neuroleptic-induced tardive dyskinesia (TD) in schizophrenic subjects. First, we screened associations by using a genome-wide (Illumina HumanHapCNV370) SNP array in 61 Japanese schizophrenia patients with treatment-resistant TD and 61 Japanese schizophrenia patients without TD. Next, we performed a replication analysis in 36 treatment-resistant TD and 138 non-TD subjects. An association of an SNP in the DPP6 (dipeptidyl peptidase-like protein-6) gene, rs6977820, the most promising association identified by the screen, was significant in the replication sample (allelic P=0.008 in the replication sample, allelic P=4.6 × 10(-6), odds ratio 2.32 in the combined sample). The SNP is located in intron-1 of the DPP6 gene and the risk allele was associated with decreased DPP6 gene expression in the human postmortem prefrontal cortex. Chronic administration of haloperidol increased Dpp6 expression in mouse brains. DPP6 is an auxiliary subunit of Kv4 and regulates the properties of Kv4, which regulates the activity of dopaminergic neurons. The findings of this study indicate that an altered response of Kv4/DPP6 to long-term neuroleptic administration is involved in neuroleptic-induced TD.', id='218260851', annos=AnnotationCollection(gold=[Anno(begin_offset=946, end_offset=957, label_type='TRIVIAL', extraction='haloperidol', features={})], external=[]))\n"
     ]
    }
   ],
   "source": [
    "print(len(chem_samples))\n",
    "print(chem_samples[0])\n",
    "print(chem_samples[1])"
   ]
  },
  {
   "cell_type": "code",
   "execution_count": 22,
   "id": "a09b18eb",
   "metadata": {},
   "outputs": [
    {
     "name": "stdout",
     "output_type": "stream",
     "text": [
      "found 500 documents\n",
      "<document>\n",
      "<id>6794356</id>\n",
      "<passage>\n",
      "<infon key=\"type\">title</infon>\n",
      "<offset>0</offset>\n",
      "<text>Tricuspid valve regurgitation and lithium carbonate toxicity in a newborn infant.</text>\n",
      "<annotation id=\"0\">\n",
      "<infon key=\"type\">Disease</infon>\n",
      "<infon key=\"MESH\">D014262</infon>\n",
      "<location length=\"29\" offset=\"0\"></location>\n",
      "<text>Tricuspid valve regurgitation</text>\n",
      "</annotation>\n",
      "<annotation id=\"1\">\n",
      "<infon key=\"type\">Chemical</infon>\n",
      "<infon key=\"MESH\">D016651</infon>\n",
      "<location length=\"17\" offset=\"34\"></location>\n",
      "<text>lithium carbonate</text>\n",
      "</annotation>\n",
      "<annotation id=\"2\">\n",
      "<infon key=\"type\">Disease</infon>\n",
      "<infon key=\"MESH\">D064420</infon>\n",
      "<location length=\"8\" offset=\"52\"></location>\n",
      "<text>toxicity</text>\n",
      "</annotation>\n",
      "</passage>\n",
      "<passage>\n",
      "<infon key=\"type\">abstract</infon>\n",
      "<offset>82</offset>\n",
      "<text>A newborn with massive tricuspid regurgitation, atrial flutter, congestive heart failure, and a high serum lithium level is described. This is the first patient to initially manifest tricuspid regurgitation and atrial flutter, and the 11th described patient with cardiac disease among infants exposed to lithium compounds in the first trimester of pregnancy. Sixty-three percent of these infants had tricuspid valve involvement. Lithium carbonate may be a factor in the increasing incidence of congenital heart disease when taken during early pregnancy. It also causes neurologic depression, cyanosis, and cardiac arrhythmia when consumed prior to delivery.</text>\n",
      "<annotation id=\"3\">\n",
      "<infon key=\"type\">Disease</infon>\n",
      "<infon key=\"MESH\">D014262</infon>\n",
      "<location length=\"23\" offset=\"105\"></location>\n",
      "<text>tricuspid regurgitation</text>\n",
      "</annotation>\n",
      "<annotation id=\"4\">\n",
      "<infon key=\"type\">Disease</infon>\n",
      "<infon key=\"MESH\">D001282</infon>\n",
      "<location length=\"14\" offset=\"130\"></location>\n",
      "<text>atrial flutter</text>\n",
      "</annotation>\n",
      "<annotation id=\"5\">\n",
      "<infon key=\"type\">Disease</infon>\n",
      "<infon key=\"MESH\">D006333</infon>\n",
      "<location length=\"24\" offset=\"146\"></location>\n",
      "<text>congestive heart failure</text>\n",
      "</annotation>\n",
      "<annotation id=\"6\">\n",
      "<infon key=\"type\">Chemical</infon>\n",
      "<infon key=\"MESH\">D008094</infon>\n",
      "<location length=\"7\" offset=\"189\"></location>\n",
      "<text>lithium</text>\n",
      "</annotation>\n",
      "<annotation id=\"7\">\n",
      "<infon key=\"type\">Disease</infon>\n",
      "<infon key=\"MESH\">D014262</infon>\n",
      "<location length=\"23\" offset=\"265\"></location>\n",
      "<text>tricuspid regurgitation</text>\n",
      "</annotation>\n",
      "<annotation id=\"8\">\n",
      "<infon key=\"type\">Disease</infon>\n",
      "<infon key=\"MESH\">D001282</infon>\n",
      "<location length=\"14\" offset=\"293\"></location>\n",
      "<text>atrial flutter</text>\n",
      "</annotation>\n",
      "<annotation id=\"9\">\n",
      "<infon key=\"type\">Disease</infon>\n",
      "<infon key=\"MESH\">D006331</infon>\n",
      "<location length=\"15\" offset=\"345\"></location>\n",
      "<text>cardiac disease</text>\n",
      "</annotation>\n",
      "<annotation id=\"10\">\n",
      "<infon key=\"type\">Chemical</infon>\n",
      "<infon key=\"MESH\">D008094</infon>\n",
      "<location length=\"7\" offset=\"386\"></location>\n",
      "<text>lithium</text>\n",
      "</annotation>\n",
      "<annotation id=\"11\">\n",
      "<infon key=\"type\">Chemical</infon>\n",
      "<infon key=\"MESH\">D016651</infon>\n",
      "<location length=\"17\" offset=\"511\"></location>\n",
      "<text>Lithium carbonate</text>\n",
      "</annotation>\n",
      "<annotation id=\"12\">\n",
      "<infon key=\"type\">Disease</infon>\n",
      "<infon key=\"MESH\">D006331</infon>\n",
      "<location length=\"24\" offset=\"576\"></location>\n",
      "<text>congenital heart disease</text>\n",
      "</annotation>\n",
      "<annotation id=\"13\">\n",
      "<infon key=\"type\">Disease</infon>\n",
      "<infon key=\"MESH\">D003866</infon>\n",
      "<location length=\"21\" offset=\"651\"></location>\n",
      "<text>neurologic depression</text>\n",
      "</annotation>\n",
      "<annotation id=\"14\">\n",
      "<infon key=\"type\">Disease</infon>\n",
      "<infon key=\"MESH\">D003490</infon>\n",
      "<location length=\"8\" offset=\"674\"></location>\n",
      "<text>cyanosis</text>\n",
      "</annotation>\n",
      "<annotation id=\"15\">\n",
      "<infon key=\"type\">Disease</infon>\n",
      "<infon key=\"MESH\">D001145</infon>\n",
      "<location length=\"18\" offset=\"688\"></location>\n",
      "<text>cardiac arrhythmia</text>\n",
      "</annotation>\n",
      "</passage>\n",
      "<relation id=\"R0\">\n",
      "<infon key=\"relation\">CID</infon>\n",
      "<infon key=\"Chemical\">D016651</infon>\n",
      "<infon key=\"Disease\">D003490</infon>\n",
      "</relation>\n",
      "<relation id=\"R1\">\n",
      "<infon key=\"relation\">CID</infon>\n",
      "<infon key=\"Chemical\">D016651</infon>\n",
      "<infon key=\"Disease\">D001145</infon>\n",
      "</relation>\n",
      "<relation id=\"R2\">\n",
      "<infon key=\"relation\">CID</infon>\n",
      "<infon key=\"Chemical\">D016651</infon>\n",
      "<infon key=\"Disease\">D003866</infon>\n",
      "</relation>\n",
      "</document>\n"
     ]
    }
   ],
   "source": [
    "cdr_documents_soup = cdr_soup.find_all('document')\n",
    "print(f\"found {len(cdr_documents_soup)} documents\")\n",
    "first_document = cdr_documents_soup[0]\n",
    "print(first_document)"
   ]
  },
  {
   "cell_type": "code",
   "execution_count": 23,
   "id": "d2d09638",
   "metadata": {},
   "outputs": [
    {
     "name": "stdout",
     "output_type": "stream",
     "text": [
      "<class 'bs4.element.Tag'>\n"
     ]
    }
   ],
   "source": [
    "print(type(first_document))"
   ]
  },
  {
   "cell_type": "code",
   "execution_count": 20,
   "id": "0b400d97",
   "metadata": {},
   "outputs": [
    {
     "name": "stdout",
     "output_type": "stream",
     "text": [
      "<passage>\n",
      "<infon key=\"type\">title</infon>\n",
      "<offset>0</offset>\n",
      "<text>Tricuspid valve regurgitation and lithium carbonate toxicity in a newborn infant.</text>\n",
      "<annotation id=\"0\">\n",
      "<infon key=\"type\">Disease</infon>\n",
      "<infon key=\"MESH\">D014262</infon>\n",
      "<location length=\"29\" offset=\"0\"></location>\n",
      "<text>Tricuspid valve regurgitation</text>\n",
      "</annotation>\n",
      "<annotation id=\"1\">\n",
      "<infon key=\"type\">Chemical</infon>\n",
      "<infon key=\"MESH\">D016651</infon>\n",
      "<location length=\"17\" offset=\"34\"></location>\n",
      "<text>lithium carbonate</text>\n",
      "</annotation>\n",
      "<annotation id=\"2\">\n",
      "<infon key=\"type\">Disease</infon>\n",
      "<infon key=\"MESH\">D064420</infon>\n",
      "<location length=\"8\" offset=\"52\"></location>\n",
      "<text>toxicity</text>\n",
      "</annotation>\n",
      "</passage>\n",
      "--------------------\n",
      "A newborn with massive tricuspid regurgitation, atrial flutter, congestive heart failure, and a high serum lithium level is described. This is the first patient to initially manifest tricuspid regurgitation and atrial flutter, and the 11th described patient with cardiac disease among infants exposed to lithium compounds in the first trimester of pregnancy. Sixty-three percent of these infants had tricuspid valve involvement. Lithium carbonate may be a factor in the increasing incidence of congenital heart disease when taken during early pregnancy. It also causes neurologic depression, cyanosis, and cardiac arrhythmia when consumed prior to delivery.\n",
      "<passage>\n",
      "<infon key=\"type\">abstract</infon>\n",
      "<offset>82</offset>\n",
      "<text>A newborn with massive tricuspid regurgitation, atrial flutter, congestive heart failure, and a high serum lithium level is described. This is the first patient to initially manifest tricuspid regurgitation and atrial flutter, and the 11th described patient with cardiac disease among infants exposed to lithium compounds in the first trimester of pregnancy. Sixty-three percent of these infants had tricuspid valve involvement. Lithium carbonate may be a factor in the increasing incidence of congenital heart disease when taken during early pregnancy. It also causes neurologic depression, cyanosis, and cardiac arrhythmia when consumed prior to delivery.</text>\n",
      "<annotation id=\"3\">\n",
      "<infon key=\"type\">Disease</infon>\n",
      "<infon key=\"MESH\">D014262</infon>\n",
      "<location length=\"23\" offset=\"105\"></location>\n",
      "<text>tricuspid regurgitation</text>\n",
      "</annotation>\n",
      "<annotation id=\"4\">\n",
      "<infon key=\"type\">Disease</infon>\n",
      "<infon key=\"MESH\">D001282</infon>\n",
      "<location length=\"14\" offset=\"130\"></location>\n",
      "<text>atrial flutter</text>\n",
      "</annotation>\n",
      "<annotation id=\"5\">\n",
      "<infon key=\"type\">Disease</infon>\n",
      "<infon key=\"MESH\">D006333</infon>\n",
      "<location length=\"24\" offset=\"146\"></location>\n",
      "<text>congestive heart failure</text>\n",
      "</annotation>\n",
      "<annotation id=\"6\">\n",
      "<infon key=\"type\">Chemical</infon>\n",
      "<infon key=\"MESH\">D008094</infon>\n",
      "<location length=\"7\" offset=\"189\"></location>\n",
      "<text>lithium</text>\n",
      "</annotation>\n",
      "<annotation id=\"7\">\n",
      "<infon key=\"type\">Disease</infon>\n",
      "<infon key=\"MESH\">D014262</infon>\n",
      "<location length=\"23\" offset=\"265\"></location>\n",
      "<text>tricuspid regurgitation</text>\n",
      "</annotation>\n",
      "<annotation id=\"8\">\n",
      "<infon key=\"type\">Disease</infon>\n",
      "<infon key=\"MESH\">D001282</infon>\n",
      "<location length=\"14\" offset=\"293\"></location>\n",
      "<text>atrial flutter</text>\n",
      "</annotation>\n",
      "<annotation id=\"9\">\n",
      "<infon key=\"type\">Disease</infon>\n",
      "<infon key=\"MESH\">D006331</infon>\n",
      "<location length=\"15\" offset=\"345\"></location>\n",
      "<text>cardiac disease</text>\n",
      "</annotation>\n",
      "<annotation id=\"10\">\n",
      "<infon key=\"type\">Chemical</infon>\n",
      "<infon key=\"MESH\">D008094</infon>\n",
      "<location length=\"7\" offset=\"386\"></location>\n",
      "<text>lithium</text>\n",
      "</annotation>\n",
      "<annotation id=\"11\">\n",
      "<infon key=\"type\">Chemical</infon>\n",
      "<infon key=\"MESH\">D016651</infon>\n",
      "<location length=\"17\" offset=\"511\"></location>\n",
      "<text>Lithium carbonate</text>\n",
      "</annotation>\n",
      "<annotation id=\"12\">\n",
      "<infon key=\"type\">Disease</infon>\n",
      "<infon key=\"MESH\">D006331</infon>\n",
      "<location length=\"24\" offset=\"576\"></location>\n",
      "<text>congenital heart disease</text>\n",
      "</annotation>\n",
      "<annotation id=\"13\">\n",
      "<infon key=\"type\">Disease</infon>\n",
      "<infon key=\"MESH\">D003866</infon>\n",
      "<location length=\"21\" offset=\"651\"></location>\n",
      "<text>neurologic depression</text>\n",
      "</annotation>\n",
      "<annotation id=\"14\">\n",
      "<infon key=\"type\">Disease</infon>\n",
      "<infon key=\"MESH\">D003490</infon>\n",
      "<location length=\"8\" offset=\"674\"></location>\n",
      "<text>cyanosis</text>\n",
      "</annotation>\n",
      "<annotation id=\"15\">\n",
      "<infon key=\"type\">Disease</infon>\n",
      "<infon key=\"MESH\">D001145</infon>\n",
      "<location length=\"18\" offset=\"688\"></location>\n",
      "<text>cardiac arrhythmia</text>\n",
      "</annotation>\n",
      "</passage>\n",
      "--------------------\n",
      "A newborn with massive tricuspid regurgitation, atrial flutter, congestive heart failure, and a high serum lithium level is described. This is the first patient to initially manifest tricuspid regurgitation and atrial flutter, and the 11th described patient with cardiac disease among infants exposed to lithium compounds in the first trimester of pregnancy. Sixty-three percent of these infants had tricuspid valve involvement. Lithium carbonate may be a factor in the increasing incidence of congenital heart disease when taken during early pregnancy. It also causes neurologic depression, cyanosis, and cardiac arrhythmia when consumed prior to delivery.\n"
     ]
    }
   ],
   "source": [
    "def get_sample_text(passage_soup): \n",
    "    children_names = [child.name for child in passage_soup.children]\n",
    "    assert 'text' in children_names \n",
    "    sample_text = passage.find('text').text\n",
    "    return sample_text\n",
    "\n",
    "doc_id = first_document.find('id').text\n",
    "passages = first_document.find_all('passage')\n",
    "for passage_soup in passages:\n",
    "    print(passage_soup)\n",
    "    sample_text = get_sample_text(passage_soup)\n",
    "    print(\"-\"*20)\n",
    "    print(sample_text)\n"
   ]
  },
  {
   "cell_type": "code",
   "execution_count": 9,
   "id": "6b4a7dd6",
   "metadata": {},
   "outputs": [
    {
     "name": "stdout",
     "output_type": "stream",
     "text": [
      "using device cpu\n",
      "DROPBOX: connection verified\n"
     ]
    }
   ],
   "source": [
    "from utils.easy_testing import get_train_samples_by_dataset_name\n",
    "samples = get_train_samples_by_dataset_name('legaleval_preamble_vanilla')"
   ]
  },
  {
   "cell_type": "code",
   "execution_count": 1,
   "id": "be599613",
   "metadata": {},
   "outputs": [
    {
     "name": "stdout",
     "output_type": "stream",
     "text": [
      "using device cpu\n"
     ]
    }
   ],
   "source": [
    "from preamble import *"
   ]
  },
  {
   "cell_type": "code",
   "execution_count": 2,
   "id": "707009d6",
   "metadata": {},
   "outputs": [
    {
     "name": "stdout",
     "output_type": "stream",
     "text": [
      "\u001b[31mhello\u001b[0m \u001b[32mhello\u001b[0m\n"
     ]
    }
   ],
   "source": [
    "print(red('hello'), green('hello'))"
   ]
  },
  {
   "cell_type": "code",
   "execution_count": 14,
   "id": "0b9d44ae",
   "metadata": {},
   "outputs": [
    {
     "name": "stdout",
     "output_type": "stream",
     "text": [
      "1560\n",
      "truncating\n",
      "truncating\n",
      "truncating\n",
      "truncating\n",
      "truncating\n",
      "truncating\n",
      "truncating\n",
      "truncating\n",
      "truncating\n",
      "truncating\n",
      "truncating\n",
      "truncating\n",
      "truncating\n",
      "truncating\n",
      "truncating\n",
      "truncating\n",
      "truncating\n",
      "truncating\n",
      "truncating\n",
      "truncating\n",
      "truncating\n",
      "truncating\n",
      "truncating\n",
      "truncating\n",
      "truncating\n",
      "truncating\n",
      "truncating\n",
      "truncating\n",
      "truncating\n",
      "truncating\n",
      "truncating\n",
      "truncating\n",
      "truncating\n",
      "truncating\n",
      "truncating\n",
      "truncating\n",
      "truncating\n",
      "truncating\n",
      "truncating\n",
      "truncating\n",
      "truncating\n",
      "truncating\n",
      "truncating\n",
      "truncating\n",
      "truncating\n",
      "truncating\n",
      "truncating\n",
      "truncating\n",
      "truncating\n",
      "truncating\n",
      "truncating\n",
      "truncating\n",
      "truncating\n",
      "truncating\n",
      "truncating\n",
      "truncating\n",
      "truncating\n",
      "truncating\n",
      "truncating\n",
      "truncating\n",
      "truncating\n",
      "truncating\n",
      "truncating\n",
      "truncating\n",
      "truncating\n",
      "truncating\n",
      "truncating\n",
      "truncating\n",
      "truncating\n",
      "truncating\n",
      "truncating\n",
      "truncating\n",
      "truncating\n",
      "truncating\n",
      "truncating\n",
      "truncating\n",
      "truncating\n",
      "truncating\n",
      "truncating\n",
      "truncating\n",
      "truncating\n",
      "truncating\n",
      "truncating\n",
      "truncating\n",
      "truncating\n",
      "truncating\n",
      "truncating\n",
      "truncating\n",
      "truncating\n",
      "truncating\n",
      "truncating\n",
      "truncating\n",
      "truncating\n",
      "truncating\n",
      "truncating\n",
      "truncating\n",
      "truncating\n",
      "truncating\n",
      "truncating\n",
      "truncating\n",
      "truncating\n",
      "truncating\n",
      "truncating\n",
      "truncating\n",
      "truncating\n",
      "truncating\n",
      "truncating\n",
      "truncating\n",
      "truncating\n",
      "truncating\n",
      "truncating\n",
      "truncating\n",
      "truncating\n",
      "truncating\n",
      "truncating\n",
      "truncating\n",
      "truncating\n",
      "truncating\n",
      "truncating\n",
      "truncating\n",
      "truncating\n",
      "truncating\n",
      "truncating\n",
      "truncating\n",
      "truncating\n",
      "truncating\n",
      "truncating\n",
      "truncating\n",
      "truncating\n",
      "truncating\n",
      "truncating\n",
      "truncating\n",
      "truncating\n",
      "truncating\n",
      "truncating\n",
      "truncating\n",
      "truncating\n",
      "truncating\n",
      "truncating\n",
      "truncating\n",
      "truncating\n",
      "truncating\n",
      "truncating\n",
      "truncating\n",
      "truncating\n",
      "truncating\n",
      "truncating\n",
      "truncating\n",
      "truncating\n",
      "truncating\n",
      "truncating\n",
      "truncating\n",
      "truncating\n",
      "truncating\n",
      "truncating\n",
      "truncating\n",
      "truncating\n",
      "truncating\n",
      "truncating\n",
      "truncating\n",
      "truncating\n",
      "truncating\n",
      "truncating\n",
      "truncating\n",
      "truncating\n",
      "truncating\n",
      "truncating\n",
      "truncating\n",
      "truncating\n",
      "truncating\n",
      "truncating\n",
      "truncating\n",
      "truncating\n",
      "truncating\n",
      "truncating\n",
      "truncating\n",
      "truncating\n",
      "truncating\n",
      "truncating\n",
      "truncating\n",
      "truncating\n",
      "truncating\n",
      "truncating\n",
      "truncating\n",
      "truncating\n",
      "truncating\n",
      "truncating\n",
      "truncating\n",
      "truncating\n",
      "truncating\n",
      "truncating\n",
      "truncating\n",
      "truncating\n",
      "truncating\n",
      "truncating\n",
      "truncating\n",
      "truncating\n",
      "truncating\n",
      "truncating\n",
      "truncating\n",
      "truncating\n",
      "truncating\n",
      "truncating\n",
      "truncating\n",
      "truncating\n",
      "truncating\n",
      "truncating\n",
      "truncating\n",
      "truncating\n",
      "truncating\n",
      "truncating\n",
      "truncating\n",
      "truncating\n",
      "truncating\n",
      "truncating\n",
      "truncating\n"
     ]
    }
   ],
   "source": [
    "print(len(samples))\n",
    "for sample in samples:\n",
    "    be_len = len(tokenizer(sample.text, truncation=True)['input_ids'])\n",
    "    be_tensor_len = tokenizer(sample.text, truncation=True, return_tensors='pt')['input_ids'].shape[1]\n",
    "    if be_len == tokenizer.model_max_length:\n",
    "        print(\"truncating\")\n",
    "    assert be_len == be_tensor_len"
   ]
  },
  {
   "cell_type": "code",
   "execution_count": 1,
   "id": "93c9943f",
   "metadata": {},
   "outputs": [
    {
     "name": "stdout",
     "output_type": "stream",
     "text": [
      "using device cpu\n"
     ]
    },
    {
     "data": {
      "text/plain": [
       "ModelConfig(model_config_name='SpanWithSpanLengthRestriction', pretrained_model_name='xlm-roberta-large', pretrained_model_output_dim=1024, num_epochs=15, model_name='SpanNoTokenizationBatched', optimizer='Adam', learning_rate=1e-05, batch_size=4, max_span_length=30)"
      ]
     },
     "execution_count": 1,
     "metadata": {},
     "output_type": "execute_result"
    }
   ],
   "source": [
    "from utils.config import get_model_config_from_path\n",
    "get_model_config_from_path('model_span_large_span_width_restriction')"
   ]
  },
  {
   "cell_type": "code",
   "execution_count": 35,
   "id": "0ec974f0",
   "metadata": {},
   "outputs": [
    {
     "name": "stdout",
     "output_type": "stream",
     "text": [
      "1\n",
      "1\n",
      "1\n",
      "1\n",
      "None\n",
      "2\n",
      "2\n",
      "None\n",
      "3\n",
      "None\n",
      "4\n",
      "4\n",
      "4\n",
      "4\n",
      "4\n",
      "4\n",
      "4\n",
      "4\n"
     ]
    }
   ],
   "source": [
    "sentence1 = 'this is a sentence'\n",
    "sentence2 = 'this is another sentence'\n",
    "be = tokenizer([sentence1, sentence2])\n",
    "for i in range(len(sentence1)):\n",
    "    print(be.char_to_token(batch_or_char_index=0, char_index=i))"
   ]
  },
  {
   "cell_type": "code",
   "execution_count": 24,
   "id": "d42b65d5",
   "metadata": {},
   "outputs": [
    {
     "data": {
      "text/plain": [
       "torch.Size([3])"
      ]
     },
     "execution_count": 24,
     "metadata": {},
     "output_type": "execute_result"
    }
   ],
   "source": [
    "import torch\n",
    "tensor = torch.rand(3,3)\n",
    "tensor[0].shape"
   ]
  },
  {
   "cell_type": "code",
   "execution_count": 13,
   "id": "6d07c21f",
   "metadata": {},
   "outputs": [],
   "source": [
    "be = tokenizer(['a sentence [SEP] another sentence', 'a sentence 2 [SEP] another sentecence 2'])"
   ]
  },
  {
   "cell_type": "code",
   "execution_count": 14,
   "id": "f7cc622c",
   "metadata": {},
   "outputs": [
    {
     "data": {
      "text/plain": [
       "{'input_ids': [[101, 170, 5650, 102, 1330, 5650, 102], [101, 170, 5650, 123, 102, 1330, 1850, 10294, 7008, 123, 102]], 'token_type_ids': [[0, 0, 0, 0, 0, 0, 0], [0, 0, 0, 0, 0, 0, 0, 0, 0, 0, 0]], 'attention_mask': [[1, 1, 1, 1, 1, 1, 1], [1, 1, 1, 1, 1, 1, 1, 1, 1, 1, 1]]}"
      ]
     },
     "execution_count": 14,
     "metadata": {},
     "output_type": "execute_result"
    }
   ],
   "source": [
    "be"
   ]
  },
  {
   "cell_type": "code",
   "execution_count": 15,
   "id": "d9d7795d",
   "metadata": {},
   "outputs": [
    {
     "data": {
      "text/plain": [
       "['[CLS]', 'a', 'sentence', '[SEP]', 'another', 'sentence', '[SEP]']"
      ]
     },
     "execution_count": 15,
     "metadata": {},
     "output_type": "execute_result"
    }
   ],
   "source": [
    "be.tokens()"
   ]
  },
  {
   "cell_type": "code",
   "execution_count": 23,
   "id": "b1ab77c5",
   "metadata": {},
   "outputs": [
    {
     "name": "stdout",
     "output_type": "stream",
     "text": [
      "['[CLS]', 'a', 'sentence', '2', '[SEP]', 'another', 'sent', '##ec', '##ence', '2', '[SEP]']\n",
      "a\n",
      "sentence\n",
      "2\n",
      "[SEP]\n",
      "another\n",
      "sent\n",
      "ec\n",
      "ence\n",
      "2\n"
     ]
    }
   ],
   "source": [
    "sentence = 'a sentence 2 [SEP] another sentecence 2'\n",
    "tokens = be.tokens(batch_index=1)\n",
    "print(tokens)\n",
    "for i in range(len(tokens)):\n",
    "    char_span = be.token_to_chars(batch_or_token_index=1, token_index=i)\n",
    "    if char_span is not None:\n",
    "        print(sentence[char_span.start:char_span.end]) "
   ]
  },
  {
   "cell_type": "code",
   "execution_count": 11,
   "id": "ce77fc35",
   "metadata": {},
   "outputs": [
    {
     "name": "stdout",
     "output_type": "stream",
     "text": [
      "39\n"
     ]
    }
   ],
   "source": [
    "print(len('this is another sentence that is longer'))"
   ]
  },
  {
   "cell_type": "code",
   "execution_count": 25,
   "id": "602d5118",
   "metadata": {},
   "outputs": [
    {
     "data": {
      "text/plain": [
       "[[101, 170, 5650, 102, 1330, 5650, 102],\n",
       " [101, 170, 5650, 123, 102, 1330, 1850, 10294, 7008, 123, 102]]"
      ]
     },
     "execution_count": 25,
     "metadata": {},
     "output_type": "execute_result"
    }
   ],
   "source": [
    "be['input_ids']"
   ]
  },
  {
   "cell_type": "code",
   "execution_count": 1,
   "id": "80e7f949",
   "metadata": {},
   "outputs": [],
   "source": [
    "from utils.universal import Option"
   ]
  },
  {
   "cell_type": "code",
   "execution_count": 2,
   "id": "8d9d6a49",
   "metadata": {},
   "outputs": [],
   "source": [
    "import torch "
   ]
  },
  {
   "cell_type": "code",
   "execution_count": 3,
   "id": "069e8b4e",
   "metadata": {},
   "outputs": [],
   "source": [
    "x = torch.rand(1,2,3)"
   ]
  },
  {
   "cell_type": "code",
   "execution_count": 4,
   "id": "ee5beaeb",
   "metadata": {},
   "outputs": [
    {
     "data": {
      "text/plain": [
       "tensor([[[0.3670, 0.6071, 0.8106],\n",
       "         [0.4576, 0.3980, 0.9745]]])"
      ]
     },
     "execution_count": 4,
     "metadata": {},
     "output_type": "execute_result"
    }
   ],
   "source": [
    "x"
   ]
  },
  {
   "cell_type": "code",
   "execution_count": 5,
   "id": "a7536393",
   "metadata": {},
   "outputs": [
    {
     "data": {
      "text/plain": [
       "2"
      ]
     },
     "execution_count": 5,
     "metadata": {},
     "output_type": "execute_result"
    }
   ],
   "source": [
    "x.shape[1]"
   ]
  },
  {
   "cell_type": "code",
   "execution_count": 6,
   "id": "491878eb",
   "metadata": {},
   "outputs": [
    {
     "ename": "NameError",
     "evalue": "name 'tokenizer' is not defined",
     "output_type": "error",
     "traceback": [
      "\u001b[0;31m---------------------------------------------------------------------------\u001b[0m",
      "\u001b[0;31mNameError\u001b[0m                                 Traceback (most recent call last)",
      "Cell \u001b[0;32mIn[6], line 1\u001b[0m\n\u001b[0;32m----> 1\u001b[0m \u001b[43mtokenizer\u001b[49m\n",
      "\u001b[0;31mNameError\u001b[0m: name 'tokenizer' is not defined"
     ]
    }
   ],
   "source": [
    "t"
   ]
  },
  {
   "cell_type": "code",
   "execution_count": null,
   "id": "dacf2836",
   "metadata": {},
   "outputs": [],
   "source": []
  }
 ],
 "metadata": {
  "kernelspec": {
   "display_name": "research",
   "language": "python",
   "name": "research"
  },
  "language_info": {
   "codemirror_mode": {
    "name": "ipython",
    "version": 3
   },
   "file_extension": ".py",
   "mimetype": "text/x-python",
   "name": "python",
   "nbconvert_exporter": "python",
   "pygments_lexer": "ipython3",
   "version": "3.10.8"
  }
 },
 "nbformat": 4,
 "nbformat_minor": 5
}
